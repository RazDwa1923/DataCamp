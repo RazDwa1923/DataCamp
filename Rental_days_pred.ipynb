{
 "cells": [
  {
   "cell_type": "markdown",
   "source": [
    "## Project Instructions\n",
    "\n",
    "In this project, you will use regression models to predict the number of days a customer rents DVDs for.\n",
    "\n",
    "As with most data science projects, you will need to pre-process the data provided, in this case, a csv file called rental_info.csv. \n",
    "\n",
    "Specifically, you need to:\n",
    "\n",
    "- Read in the csv file rental_info.csv using pandas.\n",
    "- Create a column named \"rental_length_days\" using the columns \"return_date\" and \"rental_date\", and add it to the pandas DataFrame. This column should contain information on how many days a DVD has been rented by a customer.\n",
    "- Create two columns of dummy variables from \"special_features\", which takes the value of 1 when:\n",
    "    - The value is \"Deleted Scenes\", storing as a column called \"deleted_scenes\".\n",
    "    - The value is \"Behind the Scenes\", storing as a column called \"behind_the_scenes\".\n",
    "- Make a pandas DataFrame called X containing all the appropriate features you can use to run the regression models, avoiding columns that leak data about the target.\n",
    "- Choose the \"rental_length_days\" as the target column and save it as a pandas Series called y.\n",
    "\n",
    " Following the preprocessing you will need to:\n",
    "\n",
    "1. Split the data into X_train, y_train, X_test, and y_test train and test sets, avoiding any features that leak data about the target variable, and include 20% of the total data in the test set.\n",
    "1. Set random_state to 9 whenever you use a function/method involving randomness, for example, when doing a test-train split.\n",
    "1. Recommend a model yielding a mean squared error (MSE) less than 3 on the test set\n",
    "\n",
    "1. Save the model you would recommend as a variable named best_model, and save its MSE on the test set as best_mse."
   ],
   "metadata": {
    "collapsed": false
   },
   "id": "2bceb89c157a8e19"
  },
  {
   "cell_type": "code",
   "outputs": [],
   "source": [
    "# Importing the necessary libraries\n",
    "import pandas as pd\n",
    "import matplotlib.pyplot as plt\n",
    "from sklearn.model_selection import train_test_split\n",
    "from sklearn.linear_model import LinearRegression\n",
    "from sklearn.linear_model import Lasso\n",
    "from sklearn.metrics import mean_squared_error\n",
    "from sklearn.ensemble import RandomForestRegressor\n"
   ],
   "metadata": {
    "collapsed": false,
    "ExecuteTime": {
     "end_time": "2024-02-14T08:18:53.054265Z",
     "start_time": "2024-02-14T08:18:53.047322Z"
    }
   },
   "id": "28dd491259f6b0ff",
   "execution_count": 63
  },
  {
   "cell_type": "code",
   "outputs": [
    {
     "data": {
      "text/plain": "                 rental_date                return_date  amount  release_year  \\\n0  2005-05-25 02:54:33+00:00  2005-05-28 23:40:33+00:00    2.99        2005.0   \n1  2005-06-15 23:19:16+00:00  2005-06-18 19:24:16+00:00    2.99        2005.0   \n2  2005-07-10 04:27:45+00:00  2005-07-17 10:11:45+00:00    2.99        2005.0   \n3  2005-07-31 12:06:41+00:00  2005-08-02 14:30:41+00:00    2.99        2005.0   \n4  2005-08-19 12:30:04+00:00  2005-08-23 13:35:04+00:00    2.99        2005.0   \n\n   rental_rate  length  replacement_cost                special_features  \\\n0         2.99   126.0             16.99  {Trailers,\"Behind the Scenes\"}   \n1         2.99   126.0             16.99  {Trailers,\"Behind the Scenes\"}   \n2         2.99   126.0             16.99  {Trailers,\"Behind the Scenes\"}   \n3         2.99   126.0             16.99  {Trailers,\"Behind the Scenes\"}   \n4         2.99   126.0             16.99  {Trailers,\"Behind the Scenes\"}   \n\n   NC-17  PG  PG-13  R  amount_2  length_2  rental_rate_2  \n0      0   0      0  1    8.9401   15876.0         8.9401  \n1      0   0      0  1    8.9401   15876.0         8.9401  \n2      0   0      0  1    8.9401   15876.0         8.9401  \n3      0   0      0  1    8.9401   15876.0         8.9401  \n4      0   0      0  1    8.9401   15876.0         8.9401  ",
      "text/html": "<div>\n<style scoped>\n    .dataframe tbody tr th:only-of-type {\n        vertical-align: middle;\n    }\n\n    .dataframe tbody tr th {\n        vertical-align: top;\n    }\n\n    .dataframe thead th {\n        text-align: right;\n    }\n</style>\n<table border=\"1\" class=\"dataframe\">\n  <thead>\n    <tr style=\"text-align: right;\">\n      <th></th>\n      <th>rental_date</th>\n      <th>return_date</th>\n      <th>amount</th>\n      <th>release_year</th>\n      <th>rental_rate</th>\n      <th>length</th>\n      <th>replacement_cost</th>\n      <th>special_features</th>\n      <th>NC-17</th>\n      <th>PG</th>\n      <th>PG-13</th>\n      <th>R</th>\n      <th>amount_2</th>\n      <th>length_2</th>\n      <th>rental_rate_2</th>\n    </tr>\n  </thead>\n  <tbody>\n    <tr>\n      <th>0</th>\n      <td>2005-05-25 02:54:33+00:00</td>\n      <td>2005-05-28 23:40:33+00:00</td>\n      <td>2.99</td>\n      <td>2005.0</td>\n      <td>2.99</td>\n      <td>126.0</td>\n      <td>16.99</td>\n      <td>{Trailers,\"Behind the Scenes\"}</td>\n      <td>0</td>\n      <td>0</td>\n      <td>0</td>\n      <td>1</td>\n      <td>8.9401</td>\n      <td>15876.0</td>\n      <td>8.9401</td>\n    </tr>\n    <tr>\n      <th>1</th>\n      <td>2005-06-15 23:19:16+00:00</td>\n      <td>2005-06-18 19:24:16+00:00</td>\n      <td>2.99</td>\n      <td>2005.0</td>\n      <td>2.99</td>\n      <td>126.0</td>\n      <td>16.99</td>\n      <td>{Trailers,\"Behind the Scenes\"}</td>\n      <td>0</td>\n      <td>0</td>\n      <td>0</td>\n      <td>1</td>\n      <td>8.9401</td>\n      <td>15876.0</td>\n      <td>8.9401</td>\n    </tr>\n    <tr>\n      <th>2</th>\n      <td>2005-07-10 04:27:45+00:00</td>\n      <td>2005-07-17 10:11:45+00:00</td>\n      <td>2.99</td>\n      <td>2005.0</td>\n      <td>2.99</td>\n      <td>126.0</td>\n      <td>16.99</td>\n      <td>{Trailers,\"Behind the Scenes\"}</td>\n      <td>0</td>\n      <td>0</td>\n      <td>0</td>\n      <td>1</td>\n      <td>8.9401</td>\n      <td>15876.0</td>\n      <td>8.9401</td>\n    </tr>\n    <tr>\n      <th>3</th>\n      <td>2005-07-31 12:06:41+00:00</td>\n      <td>2005-08-02 14:30:41+00:00</td>\n      <td>2.99</td>\n      <td>2005.0</td>\n      <td>2.99</td>\n      <td>126.0</td>\n      <td>16.99</td>\n      <td>{Trailers,\"Behind the Scenes\"}</td>\n      <td>0</td>\n      <td>0</td>\n      <td>0</td>\n      <td>1</td>\n      <td>8.9401</td>\n      <td>15876.0</td>\n      <td>8.9401</td>\n    </tr>\n    <tr>\n      <th>4</th>\n      <td>2005-08-19 12:30:04+00:00</td>\n      <td>2005-08-23 13:35:04+00:00</td>\n      <td>2.99</td>\n      <td>2005.0</td>\n      <td>2.99</td>\n      <td>126.0</td>\n      <td>16.99</td>\n      <td>{Trailers,\"Behind the Scenes\"}</td>\n      <td>0</td>\n      <td>0</td>\n      <td>0</td>\n      <td>1</td>\n      <td>8.9401</td>\n      <td>15876.0</td>\n      <td>8.9401</td>\n    </tr>\n  </tbody>\n</table>\n</div>"
     },
     "execution_count": 64,
     "metadata": {},
     "output_type": "execute_result"
    }
   ],
   "source": [
    "# reading CSV file\n",
    "rental_data = pd.read_csv('/Users/karolk/Python_Work/DataCamp/Datasets/DVD_rental/rental_info.csv')\n",
    "\n",
    "# checking the first few rows of the dataframe\n",
    "rental_data.head()\n"
   ],
   "metadata": {
    "collapsed": false,
    "ExecuteTime": {
     "end_time": "2024-02-14T08:18:53.133545Z",
     "start_time": "2024-02-14T08:18:53.060432Z"
    }
   },
   "id": "c75dc03fdccfec7e",
   "execution_count": 64
  },
  {
   "cell_type": "code",
   "outputs": [],
   "source": [
    "# converting the date columns to datetime\n",
    "rental_data['rental_date'] = pd.to_datetime(rental_data['rental_date'])\n",
    "rental_data['return_date'] = pd.to_datetime(rental_data['return_date'])\n",
    "\n",
    "# creating a new column with the rental length. The coulmn will be the difference between the return and rental date in number of days\n",
    "rental_data['rental_length_days'] = (rental_data['return_date'] - rental_data['rental_date']).dt.days\n"
   ],
   "metadata": {
    "collapsed": false,
    "ExecuteTime": {
     "end_time": "2024-02-14T08:18:53.168381Z",
     "start_time": "2024-02-14T08:18:53.141829Z"
    }
   },
   "id": "f7d95ce92d22e951",
   "execution_count": 65
  },
  {
   "cell_type": "code",
   "outputs": [],
   "source": [
    "# create variable called “behind_the_scenes” and set it to 1 if the “special_features” column contains “Behind the Scenes” and 0 otherwise\n",
    "rental_data['behind_the_scenes'] = rental_data['special_features'].apply(lambda x: 1 if 'Behind the Scenes' in x else 0)\n",
    "\n",
    "# create variable called “deleted_scenes” and set it to 1 if the “special_features” column contains “Deleted Scenes” and 0 otherwise\n",
    "rental_data['deleted_scenes'] = rental_data['special_features'].apply(lambda x: 1 if 'Deleted Scenes' in x else 0)\n",
    "                                                                      \n",
    "                                                                      \n",
    "            "
   ],
   "metadata": {
    "collapsed": false,
    "ExecuteTime": {
     "end_time": "2024-02-14T08:18:53.228371Z",
     "start_time": "2024-02-14T08:18:53.161476Z"
    }
   },
   "id": "838e22dde1326904",
   "execution_count": 66
  },
  {
   "cell_type": "code",
   "outputs": [],
   "source": [
    "# create a new dataframe with the appropriate features by defining the columns to drop\n",
    "columns_to_drop = ['rental_date', 'return_date', 'special_features','rental_length_days']\n",
    "\n",
    "# create a new dataframe with the appropriate features\n",
    "X = rental_data.drop(columns_to_drop, axis=1)\n",
    "\n",
    "# create a pandas Series called y containing the target variable\n",
    "y = rental_data['rental_length_days']"
   ],
   "metadata": {
    "collapsed": false,
    "ExecuteTime": {
     "end_time": "2024-02-14T08:18:53.228825Z",
     "start_time": "2024-02-14T08:18:53.174047Z"
    }
   },
   "id": "b41251a55d1cd623",
   "execution_count": 67
  },
  {
   "cell_type": "code",
   "outputs": [],
   "source": [
    "# split dataset into training and test sets for X and y\n",
    "X_train, X_test, y_train, y_test = train_test_split(X, y, test_size=0.2, random_state=9)"
   ],
   "metadata": {
    "collapsed": false,
    "ExecuteTime": {
     "end_time": "2024-02-14T08:18:53.229094Z",
     "start_time": "2024-02-14T08:18:53.179727Z"
    }
   },
   "id": "416e5ca5f8f2b6da",
   "execution_count": 68
  },
  {
   "cell_type": "code",
   "outputs": [
    {
     "name": "stdout",
     "output_type": "stream",
     "text": [
      "2.9417238646975705\n",
      "0.5856476313096747\n"
     ]
    }
   ],
   "source": [
    "# create a linear regression model and measure the mean squared error on the test set\n",
    "linear_model = LinearRegression()\n",
    "linear_model.fit(X_train, y_train)\n",
    "y_pred = linear_model.predict(X_test)\n",
    "mse = mean_squared_error(y_test, y_pred)\n",
    "print(mse)\n",
    "\n",
    "# view the model's r squared value\n",
    "print(linear_model.score(X_test, y_test))\n"
   ],
   "metadata": {
    "collapsed": false,
    "ExecuteTime": {
     "end_time": "2024-02-14T08:18:53.229641Z",
     "start_time": "2024-02-14T08:18:53.190178Z"
    }
   },
   "id": "aeac1c6041fee821",
   "execution_count": 69
  },
  {
   "cell_type": "code",
   "outputs": [
    {
     "name": "stdout",
     "output_type": "stream",
     "text": [
      "0.001 2.9419638702781645\n",
      "0.01 2.950251383509053\n",
      "0.5 3.7137682414670494\n",
      "1 3.8056884092652106\n",
      "2 3.8761606076237856\n",
      "5 4.402549087126509\n"
     ]
    }
   ],
   "source": [
    "# create a lasso regression model and test which alpha level yields the lowest MSE. Testing following alpha levels: 0.01, 1, 10, 20, 50, 100\n",
    "alphas = [0.001, 0.01, 0.5, 1, 2, 5]\n",
    "for alpha in alphas:\n",
    "    lasso = Lasso(alpha=alpha, max_iter=100000)\n",
    "    lasso.fit(X_train, y_train)\n",
    "    y_pred = lasso.predict(X_test)\n",
    "    mse = mean_squared_error(y_test, y_pred)\n",
    "    print(alpha, mse)"
   ],
   "metadata": {
    "collapsed": false,
    "ExecuteTime": {
     "end_time": "2024-02-14T08:18:53.540334Z",
     "start_time": "2024-02-14T08:18:53.227883Z"
    }
   },
   "id": "4fd1220d1ad3fcc4",
   "execution_count": 70
  },
  {
   "cell_type": "code",
   "outputs": [
    {
     "data": {
      "text/plain": "<Figure size 640x480 with 1 Axes>",
      "image/png": "[encoded data removed]"
     },
     "metadata": {},
     "output_type": "display_data"
    }
   ],
   "source": [
    "# using lasso regression model with alpha = 0.001 show which features should be selected\n",
    "names = X.columns\n",
    "lasso = Lasso(alpha=0.001)\n",
    "lasso_coef = lasso.fit(X, y).coef_\n",
    "plt.bar(names, lasso_coef)\n",
    "plt.xticks(rotation=90)\n",
    "plt.show()"
   ],
   "metadata": {
    "collapsed": false,
    "ExecuteTime": {
     "end_time": "2024-02-14T08:18:53.786017Z",
     "start_time": "2024-02-14T08:18:53.541274Z"
    }
   },
   "id": "b5d3ab92cfb2dbae",
   "execution_count": 71
  },
  {
   "cell_type": "code",
   "outputs": [
    {
     "name": "stdout",
     "output_type": "stream",
     "text": [
      "2.9417238646975705\n",
      "0.5856476313096747\n"
     ]
    }
   ],
   "source": [
    "\n",
    "# choose only the features that are not equal to 0 in the lasso regression model\n",
    "best_features = names[lasso_coef != 0]\n",
    "\n",
    "# create a new dataframe with the best features\n",
    "X_lasso = X[best_features]\n",
    "\n",
    "# run linear regression model on the best features and measure the mean squared error on the test set\n",
    "X_train, X_test, y_train, y_test = train_test_split(X_lasso, y, test_size=0.2, random_state=9)\n",
    "linear_model.fit(X_train, y_train)\n",
    "y_pred = linear_model.predict(X_test)\n",
    "best_mse = mean_squared_error(y_test, y_pred)\n",
    "print(best_mse)\n",
    "\n",
    "# print the r squared value\n",
    "print(linear_model.score(X_test, y_test))"
   ],
   "metadata": {
    "collapsed": false,
    "ExecuteTime": {
     "end_time": "2024-02-14T08:18:53.852016Z",
     "start_time": "2024-02-14T08:18:53.785361Z"
    }
   },
   "id": "8820ce0f0004efe7",
   "execution_count": 72
  },
  {
   "cell_type": "code",
   "outputs": [
    {
     "name": "stdout",
     "output_type": "stream",
     "text": [
      "2.0358133356408072\n",
      "0.7132483820262161\n"
     ]
    }
   ],
   "source": [
    "# fit randometree regressor model\n",
    "rf = RandomForestRegressor(n_estimators=50, max_depth=30, min_samples_leaf=1, min_samples_split=2, random_state=9)\n",
    "rf.fit(X_train, y_train)\n",
    "y_pred = rf.predict(X_test)\n",
    "best_mse = mean_squared_error(y_test, y_pred)\n",
    "print(best_mse)\n",
    "\n",
    "# print the r squared value\n",
    "print(rf.score(X_test, y_test))\n",
    "\n",
    "# save the model and its mse\n",
    "best_model = rf \n",
    "best_mse = best_mse\n"
   ],
   "metadata": {
    "collapsed": false,
    "ExecuteTime": {
     "end_time": "2024-02-14T08:19:03.860427Z",
     "start_time": "2024-02-14T08:19:02.638401Z"
    }
   },
   "id": "c15b4768d52be111",
   "execution_count": 74
  },
  {
   "cell_type": "code",
   "outputs": [],
   "source": [
    "# fine tuning the RandomTree Regressor model\n",
    "from sklearn.model_selection import GridSearchCV\n",
    "\n",
    "# Define the parameter grid\n",
    "param_grid = {\n",
    "    'n_estimators': [10, 20, 50],\n",
    "    'max_depth': [None, 10, 20],\n",
    "    'min_samples_split': [2, 5, 10],\n",
    "    'min_samples_leaf': [1, 2, 4]\n",
    "}\n",
    "\n",
    "# Initialize a GridSearchCV object\n",
    "grid_search = GridSearchCV(estimator=RandomForestRegressor(random_state=9), param_grid=param_grid, scoring='neg_mean_squared_error', cv=3, n_jobs=-1, verbose=2)\n",
    "\n",
    "# Fit the GridSearchCV object on the training data\n",
    "grid_search.fit(X_train, y_train)\n",
    "\n",
    "# Get the best parameters and the best score\n",
    "best_params = grid_search.best_params_\n",
    "best_score = grid_search.best_score_\n",
    "\n",
    "print(f\"Best parameters: {best_params}\")\n",
    "print(f\"Best score: {best_score}\")"
   ],
   "metadata": {
    "collapsed": false,
    "ExecuteTime": {
     "start_time": "2024-02-14T08:18:53.822497Z"
    }
   },
   "id": "f7e44974743882c4",
   "execution_count": null
  }
 ],
 "metadata": {
  "kernelspec": {
   "display_name": "Python 3",
   "language": "python",
   "name": "python3"
  },
  "language_info": {
   "codemirror_mode": {
    "name": "ipython",
    "version": 2
   },
   "file_extension": ".py",
   "mimetype": "text/x-python",
   "name": "python",
   "nbconvert_exporter": "python",
   "pygments_lexer": "ipython2",
   "version": "2.7.6"
  }
 },
 "nbformat": 4,
 "nbformat_minor": 5
}
