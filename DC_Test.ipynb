{
 "cells": [
  {
   "cell_type": "markdown",
   "source": [
    "# Practical Exam: House sales\n",
    "\n",
    "RealAgents is a real estate company that focuses on selling houses.\n",
    "\n",
    "RealAgents sells a variety of types of house in one metropolitan area.\n",
    "\n",
    "Some houses sell slowly and sometimes require lowering the price in order to find a buyer.\n",
    "\n",
    "In order to stay competitive, RealAgents would like to optimize the listing prices of the houses it is trying to sell.\n",
    "\n",
    "They want to do this by predicting the sale price of a house given its characteristics.\n",
    "\n",
    "If they can predict the sale price in advance, they can decrease the time to sale.\n",
    "\n",
    "\n",
    "## Data\n",
    "\n",
    "The dataset contains records of previous houses sold in the area.\n",
    "\n",
    "| Column Name | Criteria                                                |\n",
    "|-------------|---------------------------------------------------------|\n",
    "| house_id    | Nominal. </br> Unique identifier for houses. </br>Missing values not possible. |\n",
    "| city        | Nominal. </br>The city in which the house is located. One of 'Silvertown', 'Riverford', 'Teasdale' and 'Poppleton'. </br>Replace missing values with \"Unknown\". |\n",
    "| sale_price  | Discrete. </br>The sale price of the house in whole dollars. Values can be any positive number greater than or equal to zero.</br>Remove missing entries. |\n",
    "| sale_date   | Discrete. </br>The date of the last sale of the house. </br>Replace missing values with 2023-01-01. |\n",
    "| months_listed  | Continuous. </br>The number of months the house was listed on the market prior to its last sale, rounded to one decimal place. </br>Replace missing values with mean number of months listed, to one decimal place. |\n",
    "| bedrooms    | Discrete. </br>The number of bedrooms in the house. Any positive values greater than or equal to zero. </br>Replace missing values with the mean number of bedrooms, rounded to the nearest integer. |\n",
    "| house_type   | Ordinal. </br>One of \"Terraced\" (two shared walls), \"Semi-detached\" (one shared wall), or \"Detached\" (no shared walls). </br>Replace missing values with the most common house type. |\n",
    "| area      | Continuous. </br>The area of the house in square meters, rounded to one decimal place. </br>Replace missing values with the mean, to one decimal place. |\n"
   ],
   "metadata": {
    "collapsed": false
   },
   "id": "7915e70fcef0fc25"
  },
  {
   "cell_type": "code",
   "outputs": [],
   "source": [
    "# Importing the necessary libraries\n",
    "import pandas as pd\n",
    "import numpy as np\n",
    "\n"
   ],
   "metadata": {
    "collapsed": false,
    "ExecuteTime": {
     "end_time": "2024-02-17T05:28:25.224035Z",
     "start_time": "2024-02-17T05:28:25.215780Z"
    }
   },
   "id": "3ec17134940f38c2",
   "execution_count": 78
  },
  {
   "cell_type": "code",
   "outputs": [
    {
     "data": {
      "text/plain": "      house_id        city  sale_price   sale_date  months_listed  bedrooms  \\\n0      1217792  Silvertown       55943  2021-09-12            5.4         2   \n1      1900913  Silvertown      384677  2021-01-17            6.3         5   \n2      1174927   Riverford      281707  2021-11-10            6.9         6   \n3      1773666  Silvertown      373251  2020-04-13            6.1         6   \n4      1258487  Silvertown      328885  2020-09-24            8.7         5   \n...        ...         ...         ...         ...            ...       ...   \n1495   1123892   Riverford      198661  2022-02-17            7.3         5   \n1496   1327295   Poppleton      358304  2020-10-10            6.2         6   \n1497   1058161   Riverford      176612  2022-11-01            6.8         4   \n1498   1822037    Teasdale      197827  2021-04-03            5.4         3   \n1499   1679272   Poppleton      162099  2021-12-06            5.0         3   \n\n         house_type         area  \n0     Semi-detached  107.8 sq.m.  \n1          Detached  498.8 sq.m.  \n2          Detached  542.5 sq.m.  \n3              Det.  528.4 sq.m.  \n4          Detached  477.1 sq.m.  \n...             ...          ...  \n1495       Detached  432.2 sq.m.  \n1496       Detached  599.8 sq.m.  \n1497       Detached  359.1 sq.m.  \n1498       Detached  253.7 sq.m.  \n1499       Detached  268.7 sq.m.  \n\n[1500 rows x 8 columns]",
      "text/html": "<div>\n<style scoped>\n    .dataframe tbody tr th:only-of-type {\n        vertical-align: middle;\n    }\n\n    .dataframe tbody tr th {\n        vertical-align: top;\n    }\n\n    .dataframe thead th {\n        text-align: right;\n    }\n</style>\n<table border=\"1\" class=\"dataframe\">\n  <thead>\n    <tr style=\"text-align: right;\">\n      <th></th>\n      <th>house_id</th>\n      <th>city</th>\n      <th>sale_price</th>\n      <th>sale_date</th>\n      <th>months_listed</th>\n      <th>bedrooms</th>\n      <th>house_type</th>\n      <th>area</th>\n    </tr>\n  </thead>\n  <tbody>\n    <tr>\n      <th>0</th>\n      <td>1217792</td>\n      <td>Silvertown</td>\n      <td>55943</td>\n      <td>2021-09-12</td>\n      <td>5.4</td>\n      <td>2</td>\n      <td>Semi-detached</td>\n      <td>107.8 sq.m.</td>\n    </tr>\n    <tr>\n      <th>1</th>\n      <td>1900913</td>\n      <td>Silvertown</td>\n      <td>384677</td>\n      <td>2021-01-17</td>\n      <td>6.3</td>\n      <td>5</td>\n      <td>Detached</td>\n      <td>498.8 sq.m.</td>\n    </tr>\n    <tr>\n      <th>2</th>\n      <td>1174927</td>\n      <td>Riverford</td>\n      <td>281707</td>\n      <td>2021-11-10</td>\n      <td>6.9</td>\n      <td>6</td>\n      <td>Detached</td>\n      <td>542.5 sq.m.</td>\n    </tr>\n    <tr>\n      <th>3</th>\n      <td>1773666</td>\n      <td>Silvertown</td>\n      <td>373251</td>\n      <td>2020-04-13</td>\n      <td>6.1</td>\n      <td>6</td>\n      <td>Det.</td>\n      <td>528.4 sq.m.</td>\n    </tr>\n    <tr>\n      <th>4</th>\n      <td>1258487</td>\n      <td>Silvertown</td>\n      <td>328885</td>\n      <td>2020-09-24</td>\n      <td>8.7</td>\n      <td>5</td>\n      <td>Detached</td>\n      <td>477.1 sq.m.</td>\n    </tr>\n    <tr>\n      <th>...</th>\n      <td>...</td>\n      <td>...</td>\n      <td>...</td>\n      <td>...</td>\n      <td>...</td>\n      <td>...</td>\n      <td>...</td>\n      <td>...</td>\n    </tr>\n    <tr>\n      <th>1495</th>\n      <td>1123892</td>\n      <td>Riverford</td>\n      <td>198661</td>\n      <td>2022-02-17</td>\n      <td>7.3</td>\n      <td>5</td>\n      <td>Detached</td>\n      <td>432.2 sq.m.</td>\n    </tr>\n    <tr>\n      <th>1496</th>\n      <td>1327295</td>\n      <td>Poppleton</td>\n      <td>358304</td>\n      <td>2020-10-10</td>\n      <td>6.2</td>\n      <td>6</td>\n      <td>Detached</td>\n      <td>599.8 sq.m.</td>\n    </tr>\n    <tr>\n      <th>1497</th>\n      <td>1058161</td>\n      <td>Riverford</td>\n      <td>176612</td>\n      <td>2022-11-01</td>\n      <td>6.8</td>\n      <td>4</td>\n      <td>Detached</td>\n      <td>359.1 sq.m.</td>\n    </tr>\n    <tr>\n      <th>1498</th>\n      <td>1822037</td>\n      <td>Teasdale</td>\n      <td>197827</td>\n      <td>2021-04-03</td>\n      <td>5.4</td>\n      <td>3</td>\n      <td>Detached</td>\n      <td>253.7 sq.m.</td>\n    </tr>\n    <tr>\n      <th>1499</th>\n      <td>1679272</td>\n      <td>Poppleton</td>\n      <td>162099</td>\n      <td>2021-12-06</td>\n      <td>5.0</td>\n      <td>3</td>\n      <td>Detached</td>\n      <td>268.7 sq.m.</td>\n    </tr>\n  </tbody>\n</table>\n<p>1500 rows × 8 columns</p>\n</div>"
     },
     "execution_count": 86,
     "metadata": {},
     "output_type": "execute_result"
    }
   ],
   "source": [
    "# Loading the dataset\n",
    "file_path_sales = '/Users/karolk/Python_Work/DataCamp/Datasets/Real Estate/house_sales.csv'\n",
    "file_path_train = '/Users/karolk/Python_Work/DataCamp/Datasets/Real Estate/train.csv'\n",
    "file_path_validation = '/Users/karolk/Python_Work/DataCamp/Datasets/Real Estate/validation.csv'\n",
    "\n",
    "house_sales = pd.read_csv(file_path_sales)\n",
    "\n",
    "# getting dtypes of the columns\n",
    "house_sales.dtypes"
   ],
   "metadata": {
    "collapsed": false,
    "ExecuteTime": {
     "end_time": "2024-02-17T05:34:07.694463Z",
     "start_time": "2024-02-17T05:34:07.642574Z"
    }
   },
   "id": "cbb479b67c826d92",
   "execution_count": 86
  },
  {
   "cell_type": "markdown",
   "source": [
    "# Task 1\n",
    "\n",
    "The team at RealAgents knows that the city that a property is located in makes a difference to the sale price. \n",
    "\n",
    "Unfortuntately they believe that this isn't always recorded in the data. \n",
    "\n",
    "Calculate the number of missing values of the `city`. \n",
    "\n",
    " - You should use the data in the file \"house_sales.csv\". \n",
    "\n",
    " - Your output should be an object `missing_city`, that contains the number of missing values in this column. "
   ],
   "metadata": {
    "collapsed": false
   },
   "id": "f23b82d343753897"
  },
  {
   "cell_type": "code",
   "outputs": [
    {
     "data": {
      "text/plain": "73"
     },
     "execution_count": 80,
     "metadata": {},
     "output_type": "execute_result"
    }
   ],
   "source": [
    "# Calculating the number of missing values in the 'city' column\n",
    "# count the number of city values that are equal to '--'\n",
    "missing_city = house_sales['city'].value_counts()['--']\n",
    "missing_city"
   ],
   "metadata": {
    "collapsed": false,
    "ExecuteTime": {
     "end_time": "2024-02-17T05:28:25.281954Z",
     "start_time": "2024-02-17T05:28:25.255424Z"
    }
   },
   "id": "4e34fa1caabab636",
   "execution_count": 80
  },
  {
   "cell_type": "markdown",
   "source": [
    "# Task 2 \n",
    "\n",
    "Before you fit any models, you will need to make sure the data is clean. \n",
    "\n",
    "The table below shows what the data should look like. \n",
    "\n",
    "Create a cleaned version of the dataframe. \n",
    "\n",
    " - You should start with the data in the file \"house_sales.csv\". \n",
    "\n",
    " - Your output should be a dataframe named `clean_data`. \n",
    "\n",
    " - All column names and values should match the table below.\n",
    "\n",
    "\n",
    "| Column Name | Criteria                                                |\n",
    "|-------------|---------------------------------------------------------|\n",
    "| house_id    | Nominal. </br> Unique identifier for houses. </br>Missing values not possible. |\n",
    "| city        | Nominal. </br>The city in which the house is located. One of 'Silvertown', 'Riverford', 'Teasdale' and 'Poppleton' </br>Replace missing values with \"Unknown\". |\n",
    "| sale_price  | Discrete. </br>The sale price of the house in whole dollars. Values can be any positive number greater than or equal to zero.</br>Remove missing entries. |\n",
    "| sale_date   | Discrete. </br>The date of the last sale of the house. </br>Replace missing values with 2023-01-01. |\n",
    "| months_listed  | Continuous. </br>The number of months the house was listed on the market prior to its last sale, rounded to one decimal place. </br>Replace missing values with mean number of months listed, to one decimal place. |\n",
    "| bedrooms    | Discrete. </br>The number of bedrooms in the house. Any positive values greater than or equal to zero. </br>Replace missing values with the mean number of bedrooms, rounded to the nearest integer. |\n",
    "| house_type   | Ordinal. </br>One of \"Terraced\", \"Semi-detached\", or \"Detached\". </br>Replace missing values with the most common house type. |\n",
    "| area      | Continuous. </br>The area of the house in square meters, rounded to one decimal place. </br>Replace missing values with the mean, to one decimal place. |"
   ],
   "metadata": {
    "collapsed": false
   },
   "id": "c780f07d6f21f3a7"
  },
  {
   "cell_type": "markdown",
   "source": [],
   "metadata": {
    "collapsed": false
   },
   "id": "cb5e32e6d23457cf"
  },
  {
   "cell_type": "code",
   "outputs": [
    {
     "data": {
      "text/plain": "      house_id        city  sale_price   sale_date  months_listed  bedrooms  \\\n0      1217792  Silvertown       55943  2021-09-12            5.4         2   \n1      1900913  Silvertown      384677  2021-01-17            6.3         5   \n2      1174927   Riverford      281707  2021-11-10            6.9         6   \n3      1773666  Silvertown      373251  2020-04-13            6.1         6   \n4      1258487  Silvertown      328885  2020-09-24            8.7         5   \n...        ...         ...         ...         ...            ...       ...   \n1495   1123892   Riverford      198661  2022-02-17            7.3         5   \n1496   1327295   Poppleton      358304  2020-10-10            6.2         6   \n1497   1058161   Riverford      176612  2022-11-01            6.8         4   \n1498   1822037    Teasdale      197827  2021-04-03            5.4         3   \n1499   1679272   Poppleton      162099  2021-12-06            5.0         3   \n\n         house_type   area  \n0     Semi-detached  107.8  \n1          Detached  498.8  \n2          Detached  542.5  \n3          Detached  528.4  \n4          Detached  477.1  \n...             ...    ...  \n1495       Detached  432.2  \n1496       Detached  599.8  \n1497       Detached  359.1  \n1498       Detached  253.7  \n1499       Detached  268.7  \n\n[1500 rows x 8 columns]",
      "text/html": "<div>\n<style scoped>\n    .dataframe tbody tr th:only-of-type {\n        vertical-align: middle;\n    }\n\n    .dataframe tbody tr th {\n        vertical-align: top;\n    }\n\n    .dataframe thead th {\n        text-align: right;\n    }\n</style>\n<table border=\"1\" class=\"dataframe\">\n  <thead>\n    <tr style=\"text-align: right;\">\n      <th></th>\n      <th>house_id</th>\n      <th>city</th>\n      <th>sale_price</th>\n      <th>sale_date</th>\n      <th>months_listed</th>\n      <th>bedrooms</th>\n      <th>house_type</th>\n      <th>area</th>\n    </tr>\n  </thead>\n  <tbody>\n    <tr>\n      <th>0</th>\n      <td>1217792</td>\n      <td>Silvertown</td>\n      <td>55943</td>\n      <td>2021-09-12</td>\n      <td>5.4</td>\n      <td>2</td>\n      <td>Semi-detached</td>\n      <td>107.8</td>\n    </tr>\n    <tr>\n      <th>1</th>\n      <td>1900913</td>\n      <td>Silvertown</td>\n      <td>384677</td>\n      <td>2021-01-17</td>\n      <td>6.3</td>\n      <td>5</td>\n      <td>Detached</td>\n      <td>498.8</td>\n    </tr>\n    <tr>\n      <th>2</th>\n      <td>1174927</td>\n      <td>Riverford</td>\n      <td>281707</td>\n      <td>2021-11-10</td>\n      <td>6.9</td>\n      <td>6</td>\n      <td>Detached</td>\n      <td>542.5</td>\n    </tr>\n    <tr>\n      <th>3</th>\n      <td>1773666</td>\n      <td>Silvertown</td>\n      <td>373251</td>\n      <td>2020-04-13</td>\n      <td>6.1</td>\n      <td>6</td>\n      <td>Detached</td>\n      <td>528.4</td>\n    </tr>\n    <tr>\n      <th>4</th>\n      <td>1258487</td>\n      <td>Silvertown</td>\n      <td>328885</td>\n      <td>2020-09-24</td>\n      <td>8.7</td>\n      <td>5</td>\n      <td>Detached</td>\n      <td>477.1</td>\n    </tr>\n    <tr>\n      <th>...</th>\n      <td>...</td>\n      <td>...</td>\n      <td>...</td>\n      <td>...</td>\n      <td>...</td>\n      <td>...</td>\n      <td>...</td>\n      <td>...</td>\n    </tr>\n    <tr>\n      <th>1495</th>\n      <td>1123892</td>\n      <td>Riverford</td>\n      <td>198661</td>\n      <td>2022-02-17</td>\n      <td>7.3</td>\n      <td>5</td>\n      <td>Detached</td>\n      <td>432.2</td>\n    </tr>\n    <tr>\n      <th>1496</th>\n      <td>1327295</td>\n      <td>Poppleton</td>\n      <td>358304</td>\n      <td>2020-10-10</td>\n      <td>6.2</td>\n      <td>6</td>\n      <td>Detached</td>\n      <td>599.8</td>\n    </tr>\n    <tr>\n      <th>1497</th>\n      <td>1058161</td>\n      <td>Riverford</td>\n      <td>176612</td>\n      <td>2022-11-01</td>\n      <td>6.8</td>\n      <td>4</td>\n      <td>Detached</td>\n      <td>359.1</td>\n    </tr>\n    <tr>\n      <th>1498</th>\n      <td>1822037</td>\n      <td>Teasdale</td>\n      <td>197827</td>\n      <td>2021-04-03</td>\n      <td>5.4</td>\n      <td>3</td>\n      <td>Detached</td>\n      <td>253.7</td>\n    </tr>\n    <tr>\n      <th>1499</th>\n      <td>1679272</td>\n      <td>Poppleton</td>\n      <td>162099</td>\n      <td>2021-12-06</td>\n      <td>5.0</td>\n      <td>3</td>\n      <td>Detached</td>\n      <td>268.7</td>\n    </tr>\n  </tbody>\n</table>\n<p>1500 rows × 8 columns</p>\n</div>"
     },
     "execution_count": 87,
     "metadata": {},
     "output_type": "execute_result"
    }
   ],
   "source": [
    "# working on task 2\n",
    "# creating a copy of the original dataframe\n",
    "clean_data = house_sales.copy()\n",
    "\n",
    "# replacing missing values in the 'city' column with 'Unknown'. The missing values are represented by '--'\n",
    "clean_data['city'] = clean_data['city'].replace('--', 'Unknown')\n",
    "\n",
    "# check for missing values in the 'sale_price' column\n",
    "missing_sale_price = clean_data['sale_price'].isnull().sum()\n",
    "\n",
    "# check for negative values in the 'sale_price' column\n",
    "negative_sale_price = clean_data['sale_price'][clean_data['sale_price'] < 0].count()\n",
    "\n",
    "# working on sales_date column. check for missing values\n",
    "missing_sales_date = clean_data['sale_date'].isnull().sum()\n",
    "\n",
    "# working on months_listed column. check for missing values. \n",
    "missing_months_listed = clean_data['months_listed'].isnull().sum()\n",
    "\n",
    "# replace missing values in the 'months_listed' column with the mean number of months listed, to one decimal place\n",
    "clean_data['months_listed'] = clean_data['months_listed'].fillna(clean_data['months_listed'].mean())\n",
    "\n",
    "# make sure that the 'months_listed' column is rounded to one decimal place\n",
    "clean_data['months_listed'] = clean_data['months_listed'].round(1)\n",
    "\n",
    "# working on bedrooms column. check for missing values\n",
    "missing_bedrooms = clean_data['bedrooms'].isnull().sum()\n",
    "\n",
    "# working on house_type column. check for missing values.\n",
    "missing_house_type = clean_data['house_type'].isnull().sum()\n",
    "\n",
    "# fixing variables in house_type column. replace 'Det.' with 'Detached' and 'Semi' with 'Semi-detached', 'Terr.' with 'Terraced'\n",
    "clean_data['house_type'] = clean_data['house_type'].replace('Det.', 'Detached')\n",
    "clean_data['house_type'] = clean_data['house_type'].replace('Semi', 'Semi-detached')\n",
    "clean_data['house_type'] = clean_data['house_type'].replace('Terr.', 'Terraced')\n",
    "\n",
    "# getting unique values in the house_type column\n",
    "house_type_unique = clean_data['house_type'].unique()\n",
    "\n",
    "# dropping the ' sq.m.' from the 'area' column. Striping the column of the ' sq.m.' string and converting the column to float\n",
    "clean_data['area'] = clean_data['area'].str.strip(' sq.m.').astype(float)\n",
    "\n",
    "# check for missing values in the 'area' column\n",
    "missing_area = clean_data['area'].isnull().sum()\n",
    "\n",
    "# calc average of area\n",
    "average_area = clean_data['area'].mean()\n",
    "\n",
    "# viewing cleaned data\n",
    "clean_data\n",
    "\n"
   ],
   "metadata": {
    "collapsed": false,
    "ExecuteTime": {
     "end_time": "2024-02-17T05:37:03.198152Z",
     "start_time": "2024-02-17T05:37:03.173098Z"
    }
   },
   "id": "6eb328ea1698629d",
   "execution_count": 87
  },
  {
   "cell_type": "markdown",
   "source": [
    "# Task 3 \n",
    "\n",
    "The team at RealAgents have told you that they have always believed that the number of bedrooms is the biggest driver of house price. \n",
    "\n",
    "Producing a table showing the difference in the average sale price by number of bedrooms along with the variance to investigate this question for the team.\n",
    "\n",
    " - You should start with the data in the file 'house_sales.csv'.\n",
    "\n",
    " - Your output should be a data frame named `price_by_rooms`. \n",
    "\n",
    " - It should include the three columns `bedrooms`, `avg_price`, `var_price`. \n",
    "\n",
    " - Your answers should be rounded to 1 decimal place.   "
   ],
   "metadata": {
    "collapsed": false
   },
   "id": "a2a73538d4467848"
  },
  {
   "cell_type": "markdown",
   "source": [],
   "metadata": {
    "collapsed": false
   },
   "id": "e74cec37faed54bd"
  },
  {
   "cell_type": "code",
   "outputs": [
    {
     "data": {
      "text/plain": "          avg_price     var_price\nbedrooms                         \n2           67076.4  5.652896e+08\n3          154665.1  2.378289e+09\n4          234704.6  1.725211e+09\n5          301515.9  2.484328e+09\n6          375741.3  3.924432e+09",
      "text/html": "<div>\n<style scoped>\n    .dataframe tbody tr th:only-of-type {\n        vertical-align: middle;\n    }\n\n    .dataframe tbody tr th {\n        vertical-align: top;\n    }\n\n    .dataframe thead th {\n        text-align: right;\n    }\n</style>\n<table border=\"1\" class=\"dataframe\">\n  <thead>\n    <tr style=\"text-align: right;\">\n      <th></th>\n      <th>avg_price</th>\n      <th>var_price</th>\n    </tr>\n    <tr>\n      <th>bedrooms</th>\n      <th></th>\n      <th></th>\n    </tr>\n  </thead>\n  <tbody>\n    <tr>\n      <th>2</th>\n      <td>67076.4</td>\n      <td>5.652896e+08</td>\n    </tr>\n    <tr>\n      <th>3</th>\n      <td>154665.1</td>\n      <td>2.378289e+09</td>\n    </tr>\n    <tr>\n      <th>4</th>\n      <td>234704.6</td>\n      <td>1.725211e+09</td>\n    </tr>\n    <tr>\n      <th>5</th>\n      <td>301515.9</td>\n      <td>2.484328e+09</td>\n    </tr>\n    <tr>\n      <th>6</th>\n      <td>375741.3</td>\n      <td>3.924432e+09</td>\n    </tr>\n  </tbody>\n</table>\n</div>"
     },
     "execution_count": 82,
     "metadata": {},
     "output_type": "execute_result"
    }
   ],
   "source": [
    "# viewing house_sales dataframe\n",
    "# creating a pivto table to show the average sale_price by the number of bedrooms and the variance by the number of bedrooms. the table will be called price_by_rooms\n",
    "price_by_rooms = house_sales.pivot_table(index='bedrooms', values='sale_price', aggfunc=[np.mean, np.var])\n",
    "\n",
    "# renaming the columns\n",
    "price_by_rooms.columns = ['avg_price', 'var_price']\n",
    "\n",
    "# rounding the average sale price and variance to one decimal place\n",
    "price_by_rooms = price_by_rooms.round(1)\n",
    "\n",
    "# viewing the price_by_rooms dataframe\n",
    "price_by_rooms"
   ],
   "metadata": {
    "collapsed": false,
    "ExecuteTime": {
     "end_time": "2024-02-17T05:28:25.311673Z",
     "start_time": "2024-02-17T05:28:25.287216Z"
    }
   },
   "id": "10657876844a3dc5",
   "execution_count": 82
  },
  {
   "cell_type": "markdown",
   "source": [
    "# Task 4\n",
    "\n",
    "Fit a baseline model to predict the sale price of a house.\n",
    "\n",
    " 1. Fit your model using the data contained in “train.csv” </br></br>\n",
    "\n",
    " 2. Use “validation.csv” to predict new values based on your model. You must return a dataframe named `base_result`, that includes `house_id` and `price`. The price column must be your predicted values."
   ],
   "metadata": {
    "collapsed": false
   },
   "id": "ddc61825b3385a17"
  },
  {
   "cell_type": "code",
   "outputs": [
    {
     "data": {
      "text/plain": "      house_id  sale_price  months_listed  bedrooms   area  \\\n0      1634561      401869            7.0         6  519.7   \n1      1009770      372387            8.1         6  507.8   \n2      1946667      325473            5.4         5  466.8   \n3      1798290      349469            6.4         5  499.4   \n4      1533461      199995            4.3         4  335.0   \n...        ...         ...            ...       ...    ...   \n1195   1598212      241139            5.2         3  293.4   \n1196   1549200      255873            8.8         5  407.8   \n1197   1919273      298012            9.1         5  429.5   \n1198   1512003      280859            6.1         4  369.3   \n1199   1452168      258418            7.6         5  417.2   \n\n      house_type_Semi-detached  house_type_Terraced  city_Riverford  \\\n0                            0                    0               0   \n1                            0                    0               0   \n2                            0                    0               0   \n3                            0                    0               0   \n4                            0                    0               0   \n...                        ...                  ...             ...   \n1195                         0                    0               0   \n1196                         0                    0               0   \n1197                         0                    0               0   \n1198                         0                    0               0   \n1199                         0                    0               0   \n\n      city_Silvertown  city_Teasdale  days_since_min_date  \n0                   0              1                  713  \n1                   1              0                  984  \n2                   1              0                  231  \n3                   1              0                 1074  \n4                   0              0                   97  \n...               ...            ...                  ...  \n1195                0              1                  922  \n1196                0              0                   16  \n1197                1              0                  217  \n1198                1              0                 1085  \n1199                0              0                   54  \n\n[1200 rows x 11 columns]",
      "text/html": "<div>\n<style scoped>\n    .dataframe tbody tr th:only-of-type {\n        vertical-align: middle;\n    }\n\n    .dataframe tbody tr th {\n        vertical-align: top;\n    }\n\n    .dataframe thead th {\n        text-align: right;\n    }\n</style>\n<table border=\"1\" class=\"dataframe\">\n  <thead>\n    <tr style=\"text-align: right;\">\n      <th></th>\n      <th>house_id</th>\n      <th>sale_price</th>\n      <th>months_listed</th>\n      <th>bedrooms</th>\n      <th>area</th>\n      <th>house_type_Semi-detached</th>\n      <th>house_type_Terraced</th>\n      <th>city_Riverford</th>\n      <th>city_Silvertown</th>\n      <th>city_Teasdale</th>\n      <th>days_since_min_date</th>\n    </tr>\n  </thead>\n  <tbody>\n    <tr>\n      <th>0</th>\n      <td>1634561</td>\n      <td>401869</td>\n      <td>7.0</td>\n      <td>6</td>\n      <td>519.7</td>\n      <td>0</td>\n      <td>0</td>\n      <td>0</td>\n      <td>0</td>\n      <td>1</td>\n      <td>713</td>\n    </tr>\n    <tr>\n      <th>1</th>\n      <td>1009770</td>\n      <td>372387</td>\n      <td>8.1</td>\n      <td>6</td>\n      <td>507.8</td>\n      <td>0</td>\n      <td>0</td>\n      <td>0</td>\n      <td>1</td>\n      <td>0</td>\n      <td>984</td>\n    </tr>\n    <tr>\n      <th>2</th>\n      <td>1946667</td>\n      <td>325473</td>\n      <td>5.4</td>\n      <td>5</td>\n      <td>466.8</td>\n      <td>0</td>\n      <td>0</td>\n      <td>0</td>\n      <td>1</td>\n      <td>0</td>\n      <td>231</td>\n    </tr>\n    <tr>\n      <th>3</th>\n      <td>1798290</td>\n      <td>349469</td>\n      <td>6.4</td>\n      <td>5</td>\n      <td>499.4</td>\n      <td>0</td>\n      <td>0</td>\n      <td>0</td>\n      <td>1</td>\n      <td>0</td>\n      <td>1074</td>\n    </tr>\n    <tr>\n      <th>4</th>\n      <td>1533461</td>\n      <td>199995</td>\n      <td>4.3</td>\n      <td>4</td>\n      <td>335.0</td>\n      <td>0</td>\n      <td>0</td>\n      <td>0</td>\n      <td>0</td>\n      <td>0</td>\n      <td>97</td>\n    </tr>\n    <tr>\n      <th>...</th>\n      <td>...</td>\n      <td>...</td>\n      <td>...</td>\n      <td>...</td>\n      <td>...</td>\n      <td>...</td>\n      <td>...</td>\n      <td>...</td>\n      <td>...</td>\n      <td>...</td>\n      <td>...</td>\n    </tr>\n    <tr>\n      <th>1195</th>\n      <td>1598212</td>\n      <td>241139</td>\n      <td>5.2</td>\n      <td>3</td>\n      <td>293.4</td>\n      <td>0</td>\n      <td>0</td>\n      <td>0</td>\n      <td>0</td>\n      <td>1</td>\n      <td>922</td>\n    </tr>\n    <tr>\n      <th>1196</th>\n      <td>1549200</td>\n      <td>255873</td>\n      <td>8.8</td>\n      <td>5</td>\n      <td>407.8</td>\n      <td>0</td>\n      <td>0</td>\n      <td>0</td>\n      <td>0</td>\n      <td>0</td>\n      <td>16</td>\n    </tr>\n    <tr>\n      <th>1197</th>\n      <td>1919273</td>\n      <td>298012</td>\n      <td>9.1</td>\n      <td>5</td>\n      <td>429.5</td>\n      <td>0</td>\n      <td>0</td>\n      <td>0</td>\n      <td>1</td>\n      <td>0</td>\n      <td>217</td>\n    </tr>\n    <tr>\n      <th>1198</th>\n      <td>1512003</td>\n      <td>280859</td>\n      <td>6.1</td>\n      <td>4</td>\n      <td>369.3</td>\n      <td>0</td>\n      <td>0</td>\n      <td>0</td>\n      <td>1</td>\n      <td>0</td>\n      <td>1085</td>\n    </tr>\n    <tr>\n      <th>1199</th>\n      <td>1452168</td>\n      <td>258418</td>\n      <td>7.6</td>\n      <td>5</td>\n      <td>417.2</td>\n      <td>0</td>\n      <td>0</td>\n      <td>0</td>\n      <td>0</td>\n      <td>0</td>\n      <td>54</td>\n    </tr>\n  </tbody>\n</table>\n<p>1200 rows × 11 columns</p>\n</div>"
     },
     "execution_count": 83,
     "metadata": {},
     "output_type": "execute_result"
    }
   ],
   "source": [
    "# working on task 4\n",
    "# importing the necessary libraries\n",
    "from sklearn.linear_model import LinearRegression\n",
    "from sklearn.metrics import mean_squared_error\n",
    "\n",
    "train = pd.read_csv(file_path_train)\n",
    "test = pd.read_csv(file_path_validation)\n",
    "\n",
    "\n",
    "# getting unique values in the 'house_type' column and city column\n",
    "house_type_unique = train['house_type'].unique()\n",
    "city_unique = train['city'].unique()\n",
    "\n",
    "# get dummies for the 'house_type' and 'city' columns\n",
    "train = pd.get_dummies(train, columns=['house_type', 'city'], drop_first=True)\n",
    "test = pd.get_dummies(test, columns=['house_type', 'city'], drop_first=True)\n",
    "\n",
    "# get the dtypes of the columns for train\n",
    "train.dtypes, test.dtypes\n",
    "\n",
    "# Convert the 'sales_date' column to datetime\n",
    "train['sale_date'] = pd.to_datetime(train['sale_date'])\n",
    "test['sale_date'] = pd.to_datetime(test['sale_date'])\n",
    "\n",
    "# Find the minimum date in the training set\n",
    "min_date = train['sale_date'].min()\n",
    "\n",
    "# Create new columns for the number of days since the minimum date\n",
    "train['days_since_min_date'] = (train['sale_date'] - min_date).dt.days\n",
    "test['days_since_min_date'] = (test['sale_date'] - min_date).dt.days\n",
    "\n",
    "# Now you can drop the original 'sales_date' column\n",
    "train = train.drop(columns=['sale_date'])\n",
    "test = test.drop(columns=['sale_date'])\n",
    "\n",
    "train"
   ],
   "metadata": {
    "collapsed": false,
    "ExecuteTime": {
     "end_time": "2024-02-17T05:28:25.461652Z",
     "start_time": "2024-02-17T05:28:25.306230Z"
    }
   },
   "id": "d2220b6759b65cae",
   "execution_count": 83
  },
  {
   "cell_type": "code",
   "outputs": [
    {
     "data": {
      "text/plain": "     house_id          price\n0     1331375  122282.469877\n1     1630115  303468.886619\n2     1645745  383972.796908\n3     1336775  124465.070123\n4     1888274  271393.286287\n..        ...            ...\n295   1986255  350171.488365\n296   1896276  369529.178376\n297   1758223  259143.768405\n298   1752010  168183.151343\n299   1651404  390721.667863\n\n[300 rows x 2 columns]",
      "text/html": "<div>\n<style scoped>\n    .dataframe tbody tr th:only-of-type {\n        vertical-align: middle;\n    }\n\n    .dataframe tbody tr th {\n        vertical-align: top;\n    }\n\n    .dataframe thead th {\n        text-align: right;\n    }\n</style>\n<table border=\"1\" class=\"dataframe\">\n  <thead>\n    <tr style=\"text-align: right;\">\n      <th></th>\n      <th>house_id</th>\n      <th>price</th>\n    </tr>\n  </thead>\n  <tbody>\n    <tr>\n      <th>0</th>\n      <td>1331375</td>\n      <td>122282.469877</td>\n    </tr>\n    <tr>\n      <th>1</th>\n      <td>1630115</td>\n      <td>303468.886619</td>\n    </tr>\n    <tr>\n      <th>2</th>\n      <td>1645745</td>\n      <td>383972.796908</td>\n    </tr>\n    <tr>\n      <th>3</th>\n      <td>1336775</td>\n      <td>124465.070123</td>\n    </tr>\n    <tr>\n      <th>4</th>\n      <td>1888274</td>\n      <td>271393.286287</td>\n    </tr>\n    <tr>\n      <th>...</th>\n      <td>...</td>\n      <td>...</td>\n    </tr>\n    <tr>\n      <th>295</th>\n      <td>1986255</td>\n      <td>350171.488365</td>\n    </tr>\n    <tr>\n      <th>296</th>\n      <td>1896276</td>\n      <td>369529.178376</td>\n    </tr>\n    <tr>\n      <th>297</th>\n      <td>1758223</td>\n      <td>259143.768405</td>\n    </tr>\n    <tr>\n      <th>298</th>\n      <td>1752010</td>\n      <td>168183.151343</td>\n    </tr>\n    <tr>\n      <th>299</th>\n      <td>1651404</td>\n      <td>390721.667863</td>\n    </tr>\n  </tbody>\n</table>\n<p>300 rows × 2 columns</p>\n</div>"
     },
     "execution_count": 84,
     "metadata": {},
     "output_type": "execute_result"
    }
   ],
   "source": [
    "\n",
    "# defining the features and target variable. y is the target variable and its is the sale_price column. x is the features, it should be all the columns except the sale_price column\n",
    "X_train = train.drop(['sale_price'], axis=1)\n",
    "y_train = train['sale_price']\n",
    "\n",
    "X_test = test\n",
    "\n",
    "# fitting the model\n",
    "lin_reg = LinearRegression()\n",
    "lin_reg.fit(X_train, y_train)\n",
    "\n",
    "# making predictions\n",
    "y_pred = lin_reg.predict(X_test)\n",
    "\n",
    "# creating the base_result dataframe\n",
    "base_result = pd.DataFrame({'house_id': test['house_id'], 'price': y_pred})\n",
    "\n",
    "# viewing the base_result dataframe\n",
    "base_result\n",
    "\n",
    "\n",
    "\n"
   ],
   "metadata": {
    "collapsed": false,
    "ExecuteTime": {
     "end_time": "2024-02-17T05:28:25.462244Z",
     "start_time": "2024-02-17T05:28:25.351564Z"
    }
   },
   "id": "1dd9d65d6dee499e",
   "execution_count": 84
  },
  {
   "cell_type": "markdown",
   "source": [
    "# Task 5\n",
    "\n",
    "Fit a comparison model to predict the sale price of a house.\n",
    "\n",
    " 1. Fit your model using the data contained in “train.csv” </br></br>\n",
    "\n",
    " 2. Use “validation.csv” to predict new values based on your model. You must return a dataframe named `compare_result`, that includes `house_id` and `price`. The price column must be your predicted values."
   ],
   "metadata": {
    "collapsed": false
   },
   "id": "e244d60efa75ba74"
  },
  {
   "cell_type": "code",
   "outputs": [
    {
     "data": {
      "text/plain": "     house_id      price\n0     1331375   80247.08\n1     1630115  308463.13\n2     1645745  401977.84\n3     1336775  105257.93\n4     1888274  266456.56\n..        ...        ...\n295   1986255  359945.91\n296   1896276  392495.11\n297   1758223  263444.95\n298   1752010  175454.91\n299   1651404  410389.21\n\n[300 rows x 2 columns]",
      "text/html": "<div>\n<style scoped>\n    .dataframe tbody tr th:only-of-type {\n        vertical-align: middle;\n    }\n\n    .dataframe tbody tr th {\n        vertical-align: top;\n    }\n\n    .dataframe thead th {\n        text-align: right;\n    }\n</style>\n<table border=\"1\" class=\"dataframe\">\n  <thead>\n    <tr style=\"text-align: right;\">\n      <th></th>\n      <th>house_id</th>\n      <th>price</th>\n    </tr>\n  </thead>\n  <tbody>\n    <tr>\n      <th>0</th>\n      <td>1331375</td>\n      <td>80247.08</td>\n    </tr>\n    <tr>\n      <th>1</th>\n      <td>1630115</td>\n      <td>308463.13</td>\n    </tr>\n    <tr>\n      <th>2</th>\n      <td>1645745</td>\n      <td>401977.84</td>\n    </tr>\n    <tr>\n      <th>3</th>\n      <td>1336775</td>\n      <td>105257.93</td>\n    </tr>\n    <tr>\n      <th>4</th>\n      <td>1888274</td>\n      <td>266456.56</td>\n    </tr>\n    <tr>\n      <th>...</th>\n      <td>...</td>\n      <td>...</td>\n    </tr>\n    <tr>\n      <th>295</th>\n      <td>1986255</td>\n      <td>359945.91</td>\n    </tr>\n    <tr>\n      <th>296</th>\n      <td>1896276</td>\n      <td>392495.11</td>\n    </tr>\n    <tr>\n      <th>297</th>\n      <td>1758223</td>\n      <td>263444.95</td>\n    </tr>\n    <tr>\n      <th>298</th>\n      <td>1752010</td>\n      <td>175454.91</td>\n    </tr>\n    <tr>\n      <th>299</th>\n      <td>1651404</td>\n      <td>410389.21</td>\n    </tr>\n  </tbody>\n</table>\n<p>300 rows × 2 columns</p>\n</div>"
     },
     "execution_count": 85,
     "metadata": {},
     "output_type": "execute_result"
    }
   ],
   "source": [
    "# working on task 5: fitting a comparison model which random forest regressor\n",
    "from sklearn.ensemble import RandomForestRegressor\n",
    "\n",
    "# fitting the model\n",
    "rf = RandomForestRegressor(random_state=9)\n",
    "rf.fit(X_train, y_train)\n",
    "\n",
    "# making predictions\n",
    "y_pred_rf = rf.predict(X_test)\n",
    "\n",
    "# creating the compare_result dataframe\n",
    "compare_result = pd.DataFrame({'house_id': test['house_id'], 'price': y_pred_rf})\n",
    "\n",
    "# viewing the compare_result dataframe\n",
    "compare_result\n"
   ],
   "metadata": {
    "collapsed": false,
    "ExecuteTime": {
     "end_time": "2024-02-17T05:28:25.743674Z",
     "start_time": "2024-02-17T05:28:25.376414Z"
    }
   },
   "id": "455450df060ce08e",
   "execution_count": 85
  }
 ],
 "metadata": {
  "kernelspec": {
   "display_name": "Python 3",
   "language": "python",
   "name": "python3"
  },
  "language_info": {
   "codemirror_mode": {
    "name": "ipython",
    "version": 2
   },
   "file_extension": ".py",
   "mimetype": "text/x-python",
   "name": "python",
   "nbconvert_exporter": "python",
   "pygments_lexer": "ipython2",
   "version": "2.7.6"
  }
 },
 "nbformat": 4,
 "nbformat_minor": 5
}
