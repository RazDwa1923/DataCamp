{
 "cells": [
  {
   "cell_type": "markdown",
   "source": [
    "# **DataCamp Mock Test: Coffee Shops**\n",
    "\n",
    "The following is a test from DataCamp as part of the Data Science Certification. \n",
    "\n",
    "Before starting the test I will load all required data sets provided by DataCamp. Afterwards I will perform a series of tasks. \n",
    "\n",
    "*The tasks are as follows:* \n",
    "\n",
    "1. Cleaning the data. I will work on each of the columns to create the expected dataset eitehr by replacing mising values or encoding information into the expected format. Name the cleaned file `clean_data`\n",
    "1. Producing a table to show the differnce in the median number of reviews\n",
    "1. Fiting a baseline using the `train.csv`\n",
    "    1. Using 'validation.csv' to predict new values for `reviews` column\n",
    "1. Fit a comparison model to predict the number of store review using `train.csv`\n",
    "    1. Create `compare_result` dataframe with `reviews` column "
   ],
   "metadata": {
    "collapsed": false
   },
   "id": "99a53f72cdb6c40a"
  },
  {
   "cell_type": "code",
   "outputs": [],
   "source": [
    "# import all needed libraries\n",
    "import pandas as pd\n",
    "import numpy as np\n",
    "\n",
    "# import datasets saved from DataCamp\n",
    "coffee = pd.read_csv('/Users/karolk/Python_Work/DataCamp/Datasets/Coffeeshops/coffee.csv')\n",
    "train = pd.read_csv('/Users/karolk/Python_Work/DataCamp/Datasets/Coffeeshops/train.csv')\n",
    "validation = pd.read_csv('/Users/karolk/Python_Work/DataCamp/Datasets/Coffeeshops/validation.csv')\n",
    "\n"
   ],
   "metadata": {
    "collapsed": false,
    "ExecuteTime": {
     "end_time": "2024-01-29T02:11:12.852450Z",
     "start_time": "2024-01-29T02:11:07.680928Z"
    }
   },
   "id": "765fe8f1ab6ab127",
   "execution_count": 1
  },
  {
   "cell_type": "code",
   "outputs": [
    {
     "data": {
      "text/plain": "    Region                   Place name   Place type  Rating  Reviews Price  \\\n0        C                     Dim Kavu       Others     4.6    206.0    $$   \n1        C                      Коферум         Cafe     5.0     24.0    $$   \n2        C             Кофейня Світ Чаю  Coffee shop     5.0     11.0    $$   \n3        C             Кофейня Starcoff  Coffee shop     4.4    331.0    $$   \n4        C        Кофейня \"Friend Zone\"  Coffee shop     5.0     12.0    $$   \n..     ...                          ...          ...     ...      ...   ...   \n195      H                       Artist       Others     4.6    963.0   $$$   \n196      H                   Dream Cafe         Cafe     4.3    646.0    $$   \n197      H  РУТА КАФЕ ПП КУЛІЧЕНКО К.І.         Cafe     4.6     16.0    $$   \n198      H               Ob'yektna Kava  Coffee shop     4.7    599.0    $$   \n199      H   О...МАРАТ КАФЕ ПП ПОЛІСТЕП         Cafe     4.3    341.0    $$   \n\n     Delivery Option  Dine in Option  Takeout Option  \n0              False           False           False  \n1              False           False            True  \n2              False           False            True  \n3              False            True            True  \n4              False            True            True  \n..               ...             ...             ...  \n195            False            True            True  \n196            False            True            True  \n197            False            True            True  \n198            False            True            True  \n199            False            True           False  \n\n[200 rows x 9 columns]",
      "text/html": "<div>\n<style scoped>\n    .dataframe tbody tr th:only-of-type {\n        vertical-align: middle;\n    }\n\n    .dataframe tbody tr th {\n        vertical-align: top;\n    }\n\n    .dataframe thead th {\n        text-align: right;\n    }\n</style>\n<table border=\"1\" class=\"dataframe\">\n  <thead>\n    <tr style=\"text-align: right;\">\n      <th></th>\n      <th>Region</th>\n      <th>Place name</th>\n      <th>Place type</th>\n      <th>Rating</th>\n      <th>Reviews</th>\n      <th>Price</th>\n      <th>Delivery Option</th>\n      <th>Dine in Option</th>\n      <th>Takeout Option</th>\n    </tr>\n  </thead>\n  <tbody>\n    <tr>\n      <th>0</th>\n      <td>C</td>\n      <td>Dim Kavu</td>\n      <td>Others</td>\n      <td>4.6</td>\n      <td>206.0</td>\n      <td>$$</td>\n      <td>False</td>\n      <td>False</td>\n      <td>False</td>\n    </tr>\n    <tr>\n      <th>1</th>\n      <td>C</td>\n      <td>Коферум</td>\n      <td>Cafe</td>\n      <td>5.0</td>\n      <td>24.0</td>\n      <td>$$</td>\n      <td>False</td>\n      <td>False</td>\n      <td>True</td>\n    </tr>\n    <tr>\n      <th>2</th>\n      <td>C</td>\n      <td>Кофейня Світ Чаю</td>\n      <td>Coffee shop</td>\n      <td>5.0</td>\n      <td>11.0</td>\n      <td>$$</td>\n      <td>False</td>\n      <td>False</td>\n      <td>True</td>\n    </tr>\n    <tr>\n      <th>3</th>\n      <td>C</td>\n      <td>Кофейня Starcoff</td>\n      <td>Coffee shop</td>\n      <td>4.4</td>\n      <td>331.0</td>\n      <td>$$</td>\n      <td>False</td>\n      <td>True</td>\n      <td>True</td>\n    </tr>\n    <tr>\n      <th>4</th>\n      <td>C</td>\n      <td>Кофейня \"Friend Zone\"</td>\n      <td>Coffee shop</td>\n      <td>5.0</td>\n      <td>12.0</td>\n      <td>$$</td>\n      <td>False</td>\n      <td>True</td>\n      <td>True</td>\n    </tr>\n    <tr>\n      <th>...</th>\n      <td>...</td>\n      <td>...</td>\n      <td>...</td>\n      <td>...</td>\n      <td>...</td>\n      <td>...</td>\n      <td>...</td>\n      <td>...</td>\n      <td>...</td>\n    </tr>\n    <tr>\n      <th>195</th>\n      <td>H</td>\n      <td>Artist</td>\n      <td>Others</td>\n      <td>4.6</td>\n      <td>963.0</td>\n      <td>$$$</td>\n      <td>False</td>\n      <td>True</td>\n      <td>True</td>\n    </tr>\n    <tr>\n      <th>196</th>\n      <td>H</td>\n      <td>Dream Cafe</td>\n      <td>Cafe</td>\n      <td>4.3</td>\n      <td>646.0</td>\n      <td>$$</td>\n      <td>False</td>\n      <td>True</td>\n      <td>True</td>\n    </tr>\n    <tr>\n      <th>197</th>\n      <td>H</td>\n      <td>РУТА КАФЕ ПП КУЛІЧЕНКО К.І.</td>\n      <td>Cafe</td>\n      <td>4.6</td>\n      <td>16.0</td>\n      <td>$$</td>\n      <td>False</td>\n      <td>True</td>\n      <td>True</td>\n    </tr>\n    <tr>\n      <th>198</th>\n      <td>H</td>\n      <td>Ob'yektna Kava</td>\n      <td>Coffee shop</td>\n      <td>4.7</td>\n      <td>599.0</td>\n      <td>$$</td>\n      <td>False</td>\n      <td>True</td>\n      <td>True</td>\n    </tr>\n    <tr>\n      <th>199</th>\n      <td>H</td>\n      <td>О...МАРАТ КАФЕ ПП ПОЛІСТЕП</td>\n      <td>Cafe</td>\n      <td>4.3</td>\n      <td>341.0</td>\n      <td>$$</td>\n      <td>False</td>\n      <td>True</td>\n      <td>False</td>\n    </tr>\n  </tbody>\n</table>\n<p>200 rows × 9 columns</p>\n</div>"
     },
     "execution_count": 2,
     "metadata": {},
     "output_type": "execute_result"
    }
   ],
   "source": [
    "# Task 1: Cleaning the data\n",
    "\n",
    "# create a new dataframe called 'clean_data' and copy 'coffee' dataframe\n",
    "clean_data = coffee.copy()\n",
    "\n",
    "# replace missing values in 'rating' column with 0\n",
    "clean_data['Rating'] = clean_data['Rating'].fillna(0)\n",
    "\n",
    "# replace missing values in 'Reviews' column with the overall median of the column\n",
    "clean_data['Reviews'] = clean_data['Reviews'].fillna(clean_data['Reviews'].median())\n",
    "\n",
    "# replace missing values in 'Dine in option' and 'Takeout option' with 'False'\n",
    "clean_data['Dine in option'] = clean_data['Dine in option'].fillna(False)\n",
    "clean_data['Takeout option'] = clean_data['Takeout option'].fillna(False)\n",
    "\n",
    "# rename the columns to Delivert option to Delivery Option, Dine in option to Dine in Option and Takeout option to Takeout Option\n",
    "clean_data = clean_data.rename(columns={'Delivery option': 'Delivery Option', 'Dine in option': 'Dine in Option', 'Takeout option': 'Takeout Option'})\n",
    "\n",
    "clean_data\n",
    "\n"
   ],
   "metadata": {
    "collapsed": false,
    "ExecuteTime": {
     "end_time": "2024-01-29T02:11:12.872799Z",
     "start_time": "2024-01-29T02:11:12.856907Z"
    }
   },
   "id": "c24999d262b49c3d",
   "execution_count": 2
  },
  {
   "cell_type": "code",
   "outputs": [
    {
     "data": {
      "text/plain": "    Rating  Med_Reviews  Min_Reviews  Max_Reviews\n0      3.9          9.5          9.0         10.0\n1      4.0        804.5        170.0       1439.0\n2      4.1        452.5        189.0        716.0\n3      4.2        497.0        385.0        609.0\n4      4.3        221.5          3.0       1656.0\n5      4.4        536.0         40.0       1201.0\n6      4.5        688.0         27.0       2914.0\n7      4.6        693.0         11.0       2931.0\n8      4.7        400.0         80.0      17937.0\n9      4.8        137.5         10.0       2873.0\n10     4.9         40.0         10.0       1820.0\n11     5.0         18.0         10.0        440.0",
      "text/html": "<div>\n<style scoped>\n    .dataframe tbody tr th:only-of-type {\n        vertical-align: middle;\n    }\n\n    .dataframe tbody tr th {\n        vertical-align: top;\n    }\n\n    .dataframe thead th {\n        text-align: right;\n    }\n</style>\n<table border=\"1\" class=\"dataframe\">\n  <thead>\n    <tr style=\"text-align: right;\">\n      <th></th>\n      <th>Rating</th>\n      <th>Med_Reviews</th>\n      <th>Min_Reviews</th>\n      <th>Max_Reviews</th>\n    </tr>\n  </thead>\n  <tbody>\n    <tr>\n      <th>0</th>\n      <td>3.9</td>\n      <td>9.5</td>\n      <td>9.0</td>\n      <td>10.0</td>\n    </tr>\n    <tr>\n      <th>1</th>\n      <td>4.0</td>\n      <td>804.5</td>\n      <td>170.0</td>\n      <td>1439.0</td>\n    </tr>\n    <tr>\n      <th>2</th>\n      <td>4.1</td>\n      <td>452.5</td>\n      <td>189.0</td>\n      <td>716.0</td>\n    </tr>\n    <tr>\n      <th>3</th>\n      <td>4.2</td>\n      <td>497.0</td>\n      <td>385.0</td>\n      <td>609.0</td>\n    </tr>\n    <tr>\n      <th>4</th>\n      <td>4.3</td>\n      <td>221.5</td>\n      <td>3.0</td>\n      <td>1656.0</td>\n    </tr>\n    <tr>\n      <th>5</th>\n      <td>4.4</td>\n      <td>536.0</td>\n      <td>40.0</td>\n      <td>1201.0</td>\n    </tr>\n    <tr>\n      <th>6</th>\n      <td>4.5</td>\n      <td>688.0</td>\n      <td>27.0</td>\n      <td>2914.0</td>\n    </tr>\n    <tr>\n      <th>7</th>\n      <td>4.6</td>\n      <td>693.0</td>\n      <td>11.0</td>\n      <td>2931.0</td>\n    </tr>\n    <tr>\n      <th>8</th>\n      <td>4.7</td>\n      <td>400.0</td>\n      <td>80.0</td>\n      <td>17937.0</td>\n    </tr>\n    <tr>\n      <th>9</th>\n      <td>4.8</td>\n      <td>137.5</td>\n      <td>10.0</td>\n      <td>2873.0</td>\n    </tr>\n    <tr>\n      <th>10</th>\n      <td>4.9</td>\n      <td>40.0</td>\n      <td>10.0</td>\n      <td>1820.0</td>\n    </tr>\n    <tr>\n      <th>11</th>\n      <td>5.0</td>\n      <td>18.0</td>\n      <td>10.0</td>\n      <td>440.0</td>\n    </tr>\n  </tbody>\n</table>\n</div>"
     },
     "execution_count": 3,
     "metadata": {},
     "output_type": "execute_result"
    }
   ],
   "source": [
    "# Task 2: Producing a table to show the differnce in the median number of reviews depending on the 'Rating' column\n",
    "\n",
    "# create a new dataframe called 'reviews_by_rating' and group by 'Rating' column with four columns 'rating', 'med_review', 'min_review', 'max_review'.\n",
    "reviews_by_rating = coffee.groupby('Rating').agg({'Reviews': ['median', 'min', 'max']})\n",
    "\n",
    "# flatten the MultiIndex columns\n",
    "reviews_by_rating.columns = ['_'.join(col).strip() for col in reviews_by_rating.columns.values]\n",
    "\n",
    "# reset the index\n",
    "reviews_by_rating = reviews_by_rating.reset_index()\n",
    "\n",
    "# adjust the 'Reviews_median', 'Reviews_min', 'Reviews_max' columns to be 2 decimal places\n",
    "reviews_by_rating['Reviews_median'] = reviews_by_rating['Reviews_median'].round(1)\n",
    "\n",
    "# rename the columns to 'Rating', 'Med_Reviews', 'Min_Reviews', 'Max_Reviews'\n",
    "reviews_by_rating = reviews_by_rating.rename(columns={'Rating': 'Rating', 'Reviews_median': 'Med_Reviews', 'Reviews_min': 'Min_Reviews', 'Reviews_max': 'Max_Reviews'})\n",
    "\n",
    "# view the new dataframe\n",
    "reviews_by_rating"
   ],
   "metadata": {
    "collapsed": false,
    "ExecuteTime": {
     "end_time": "2024-01-29T02:11:12.897426Z",
     "start_time": "2024-01-29T02:11:12.876168Z"
    }
   },
   "id": "2f7068431f1b9485",
   "execution_count": 3
  },
  {
   "cell_type": "code",
   "outputs": [
    {
     "data": {
      "text/plain": "                            Place name  Rating  Reviews\n0                              Коферум     5.0   419.80\n1                     Кофейня Starcoff     4.4   846.51\n2                          SOVA COFFEE     4.8   562.04\n3                            Кава Тайм     4.9   490.92\n4                                 Dzhi     4.5   775.39\n5                            Koffishka     4.1  1059.86\n6                               Verona     4.5   775.39\n7                        I love coffee     4.7   633.15\n8                             Дом Кофе     4.6   704.27\n9                       Prostir.coffee     4.7   633.15\n10                              HOTCUP     4.6   704.27\n11                          Art Coffee     4.6   704.27\n12         Мастерская \"Кофе на разлив\"     5.0   419.80\n13                            Dim Kavy     4.8   562.04\n14               Jays : Coffee Brewers     4.5   775.39\n15                   LittleTalk Coffee     4.6   704.27\n16                          Dobra Kava     4.3   917.62\n17           We Roast Coffee in Odessa     4.5   775.39\n18             Red Cup Coffee Roasters     5.0   419.80\n19  Жарим Кофе в Одессе. Обжарочная №4     4.7   633.15\n20    Lviv coffee manufacture (Valova)     4.6   704.27\n21                  Karmel Coffee Shop     4.9   490.92\n22                       I want coffee     4.4   846.51\n23                   Кофейня My Coffee     4.5   775.39\n24                        Coffee Craft     4.7   633.15\n25                       \"®КАВА БАЗА®\"     5.0   419.80\n26                        Matílda cafe     4.9   490.92\n27                               Kaffa     4.7   633.15\n28            The Blue Cup Coffee Shop     4.6   704.27\n29                               Kaffa     4.8   562.04\n30                              London     4.7   633.15\n31                     Мастерская Кофе     4.7   633.15\n32                            Dom Kofe     4.6   704.27\n33     CoffeeDoor Brewbar & Coffeeshop     4.7   633.15\n34         Coffeelaktika coffee studio     4.5   775.39\n35                              Бамбук     4.1  1059.86\n36                   Horizontal kaffee     5.0   419.80\n37          Coffee&Cake, Game zone PS4     NaN   633.15\n38                         Coffee Life     4.0  1130.98\n39                              Artist     4.6   704.27",
      "text/html": "<div>\n<style scoped>\n    .dataframe tbody tr th:only-of-type {\n        vertical-align: middle;\n    }\n\n    .dataframe tbody tr th {\n        vertical-align: top;\n    }\n\n    .dataframe thead th {\n        text-align: right;\n    }\n</style>\n<table border=\"1\" class=\"dataframe\">\n  <thead>\n    <tr style=\"text-align: right;\">\n      <th></th>\n      <th>Place name</th>\n      <th>Rating</th>\n      <th>Reviews</th>\n    </tr>\n  </thead>\n  <tbody>\n    <tr>\n      <th>0</th>\n      <td>Коферум</td>\n      <td>5.0</td>\n      <td>419.80</td>\n    </tr>\n    <tr>\n      <th>1</th>\n      <td>Кофейня Starcoff</td>\n      <td>4.4</td>\n      <td>846.51</td>\n    </tr>\n    <tr>\n      <th>2</th>\n      <td>SOVA COFFEE</td>\n      <td>4.8</td>\n      <td>562.04</td>\n    </tr>\n    <tr>\n      <th>3</th>\n      <td>Кава Тайм</td>\n      <td>4.9</td>\n      <td>490.92</td>\n    </tr>\n    <tr>\n      <th>4</th>\n      <td>Dzhi</td>\n      <td>4.5</td>\n      <td>775.39</td>\n    </tr>\n    <tr>\n      <th>5</th>\n      <td>Koffishka</td>\n      <td>4.1</td>\n      <td>1059.86</td>\n    </tr>\n    <tr>\n      <th>6</th>\n      <td>Verona</td>\n      <td>4.5</td>\n      <td>775.39</td>\n    </tr>\n    <tr>\n      <th>7</th>\n      <td>I love coffee</td>\n      <td>4.7</td>\n      <td>633.15</td>\n    </tr>\n    <tr>\n      <th>8</th>\n      <td>Дом Кофе</td>\n      <td>4.6</td>\n      <td>704.27</td>\n    </tr>\n    <tr>\n      <th>9</th>\n      <td>Prostir.coffee</td>\n      <td>4.7</td>\n      <td>633.15</td>\n    </tr>\n    <tr>\n      <th>10</th>\n      <td>HOTCUP</td>\n      <td>4.6</td>\n      <td>704.27</td>\n    </tr>\n    <tr>\n      <th>11</th>\n      <td>Art Coffee</td>\n      <td>4.6</td>\n      <td>704.27</td>\n    </tr>\n    <tr>\n      <th>12</th>\n      <td>Мастерская \"Кофе на разлив\"</td>\n      <td>5.0</td>\n      <td>419.80</td>\n    </tr>\n    <tr>\n      <th>13</th>\n      <td>Dim Kavy</td>\n      <td>4.8</td>\n      <td>562.04</td>\n    </tr>\n    <tr>\n      <th>14</th>\n      <td>Jays : Coffee Brewers</td>\n      <td>4.5</td>\n      <td>775.39</td>\n    </tr>\n    <tr>\n      <th>15</th>\n      <td>LittleTalk Coffee</td>\n      <td>4.6</td>\n      <td>704.27</td>\n    </tr>\n    <tr>\n      <th>16</th>\n      <td>Dobra Kava</td>\n      <td>4.3</td>\n      <td>917.62</td>\n    </tr>\n    <tr>\n      <th>17</th>\n      <td>We Roast Coffee in Odessa</td>\n      <td>4.5</td>\n      <td>775.39</td>\n    </tr>\n    <tr>\n      <th>18</th>\n      <td>Red Cup Coffee Roasters</td>\n      <td>5.0</td>\n      <td>419.80</td>\n    </tr>\n    <tr>\n      <th>19</th>\n      <td>Жарим Кофе в Одессе. Обжарочная №4</td>\n      <td>4.7</td>\n      <td>633.15</td>\n    </tr>\n    <tr>\n      <th>20</th>\n      <td>Lviv coffee manufacture (Valova)</td>\n      <td>4.6</td>\n      <td>704.27</td>\n    </tr>\n    <tr>\n      <th>21</th>\n      <td>Karmel Coffee Shop</td>\n      <td>4.9</td>\n      <td>490.92</td>\n    </tr>\n    <tr>\n      <th>22</th>\n      <td>I want coffee</td>\n      <td>4.4</td>\n      <td>846.51</td>\n    </tr>\n    <tr>\n      <th>23</th>\n      <td>Кофейня My Coffee</td>\n      <td>4.5</td>\n      <td>775.39</td>\n    </tr>\n    <tr>\n      <th>24</th>\n      <td>Coffee Craft</td>\n      <td>4.7</td>\n      <td>633.15</td>\n    </tr>\n    <tr>\n      <th>25</th>\n      <td>\"®КАВА БАЗА®\"</td>\n      <td>5.0</td>\n      <td>419.80</td>\n    </tr>\n    <tr>\n      <th>26</th>\n      <td>Matílda cafe</td>\n      <td>4.9</td>\n      <td>490.92</td>\n    </tr>\n    <tr>\n      <th>27</th>\n      <td>Kaffa</td>\n      <td>4.7</td>\n      <td>633.15</td>\n    </tr>\n    <tr>\n      <th>28</th>\n      <td>The Blue Cup Coffee Shop</td>\n      <td>4.6</td>\n      <td>704.27</td>\n    </tr>\n    <tr>\n      <th>29</th>\n      <td>Kaffa</td>\n      <td>4.8</td>\n      <td>562.04</td>\n    </tr>\n    <tr>\n      <th>30</th>\n      <td>London</td>\n      <td>4.7</td>\n      <td>633.15</td>\n    </tr>\n    <tr>\n      <th>31</th>\n      <td>Мастерская Кофе</td>\n      <td>4.7</td>\n      <td>633.15</td>\n    </tr>\n    <tr>\n      <th>32</th>\n      <td>Dom Kofe</td>\n      <td>4.6</td>\n      <td>704.27</td>\n    </tr>\n    <tr>\n      <th>33</th>\n      <td>CoffeeDoor Brewbar &amp; Coffeeshop</td>\n      <td>4.7</td>\n      <td>633.15</td>\n    </tr>\n    <tr>\n      <th>34</th>\n      <td>Coffeelaktika coffee studio</td>\n      <td>4.5</td>\n      <td>775.39</td>\n    </tr>\n    <tr>\n      <th>35</th>\n      <td>Бамбук</td>\n      <td>4.1</td>\n      <td>1059.86</td>\n    </tr>\n    <tr>\n      <th>36</th>\n      <td>Horizontal kaffee</td>\n      <td>5.0</td>\n      <td>419.80</td>\n    </tr>\n    <tr>\n      <th>37</th>\n      <td>Coffee&amp;Cake, Game zone PS4</td>\n      <td>NaN</td>\n      <td>633.15</td>\n    </tr>\n    <tr>\n      <th>38</th>\n      <td>Coffee Life</td>\n      <td>4.0</td>\n      <td>1130.98</td>\n    </tr>\n    <tr>\n      <th>39</th>\n      <td>Artist</td>\n      <td>4.6</td>\n      <td>704.27</td>\n    </tr>\n  </tbody>\n</table>\n</div>"
     },
     "execution_count": 4,
     "metadata": {},
     "output_type": "execute_result"
    }
   ],
   "source": [
    "# Task 3: Fiting a baseline using the `train.csv`. The value we will predict is the number of reviews. As a baseline I will use linear regressio model using only the 'Rating' column. \n",
    "\n",
    "# import libraries needed for the model\n",
    "from sklearn.linear_model import LinearRegression\n",
    "from sklearn.metrics import mean_squared_error\n",
    "from sklearn.impute import SimpleImputer\n",
    "\n",
    "\n",
    "# import libraries needed for the model\n",
    "from sklearn.linear_model import LinearRegression\n",
    "from sklearn.metrics import mean_squared_error\n",
    "from sklearn.impute import SimpleImputer\n",
    "\n",
    "# create the X_train_1, X_test_1, y_train_1, y_test variables\n",
    "X_train_1 = train['Rating']\n",
    "y_train_1 = train['Reviews']\n",
    "X_test_1 = validation['Rating']\n",
    "\n",
    "# impute any missing values in 'Rating' column with the median of the column\n",
    "imputer = SimpleImputer(strategy='median')\n",
    "X_train_1 = imputer.fit_transform(X_train_1.values.reshape(-1, 1))\n",
    "X_test_1 = imputer.transform(X_test_1.values.reshape(-1, 1))\n",
    "\n",
    "# impute the missing values in 'Reviews' column with the median of the column\n",
    "y_train_1 = imputer.fit_transform(y_train_1.values.reshape(-1, 1))\n",
    "\n",
    "# create the model\n",
    "model = LinearRegression()\n",
    "\n",
    "# fit the model\n",
    "model.fit(X_train_1, y_train_1)\n",
    "\n",
    "# predict the values\n",
    "y_pred = model.predict(X_test_1)\n",
    "\n",
    "\n",
    "# create a new dataframe called 'base_result' based on the 'validation' dataframe. The DF should contain the place name, rating and predicted number of reviews\n",
    "base_result = validation[['Place.name', 'Rating']].copy()\n",
    "base_result['Reviews'] = y_pred\n",
    "# rename 'Place.name' column to 'Place name'\n",
    "base_result = base_result.rename(columns={'Place.name': 'Place name'})\n",
    "\n",
    "# adjust the 'Reviews' column to be 2 decimal places\n",
    "base_result['Reviews'] = base_result['Reviews'].round(2)\n",
    "\n",
    "# view the new dataframe\n",
    "base_result\n"
   ],
   "metadata": {
    "collapsed": false,
    "ExecuteTime": {
     "end_time": "2024-01-29T02:11:25.856634Z",
     "start_time": "2024-01-29T02:11:12.892680Z"
    }
   },
   "id": "f982bc054f4eb36d",
   "execution_count": 4
  },
  {
   "cell_type": "code",
   "outputs": [
    {
     "data": {
      "text/plain": "                            Place name  Rating  Reviews\n0                              Коферум     5.0   271.08\n1                     Кофейня Starcoff     4.4   667.27\n2                          SOVA COFFEE     4.8   395.91\n3                            Кава Тайм     4.9   328.08\n4                                 Dzhi     4.5  1527.79\n5                            Koffishka     4.1   870.79\n6                               Verona     4.5  1495.27\n7                        I love coffee     4.7   463.75\n8                             Дом Кофе     4.6   531.59\n9                       Prostir.coffee     4.7  1381.27\n10                              HOTCUP     4.6   542.43\n11                          Art Coffee     4.6   520.75\n12         Мастерская \"Кофе на разлив\"     5.0   238.55\n13                            Dim Kavy     4.8   385.07\n14               Jays : Coffee Brewers     4.5   577.75\n15                   LittleTalk Coffee     4.6   531.59\n16                          Dobra Kava     4.3  1663.47\n17           We Roast Coffee in Odessa     4.5   599.43\n18             Red Cup Coffee Roasters     5.0   238.55\n19  Жарим Кофе в Одессе. Обжарочная №4     4.7   463.75\n20    Lviv coffee manufacture (Valova)     4.6   531.59\n21                  Karmel Coffee Shop     4.9   328.08\n22                       I want coffee     4.4   667.27\n23                   Кофейня My Coffee     4.5   610.27\n24                        Coffee Craft     4.7   474.59\n25                       \"®КАВА БАЗА®\"     5.0   238.55\n26                        Matílda cafe     4.9   338.92\n27                               Kaffa     4.7   474.59\n28            The Blue Cup Coffee Shop     4.6  1438.27\n29                               Kaffa     4.8   385.07\n30                              London     4.7   474.59\n31                     Мастерская Кофе     4.7   463.75\n32                            Dom Kofe     4.6   531.59\n33     CoffeeDoor Brewbar & Coffeeshop     4.7   463.75\n34         Coffeelaktika coffee studio     4.5   599.43\n35                              Бамбук     4.1   881.63\n36                   Horizontal kaffee     5.0   271.08\n37          Coffee&Cake, Game zone PS4     NaN   463.75\n38                         Coffee Life     4.0   949.47\n39                              Artist     4.6   328.99",
      "text/html": "<div>\n<style scoped>\n    .dataframe tbody tr th:only-of-type {\n        vertical-align: middle;\n    }\n\n    .dataframe tbody tr th {\n        vertical-align: top;\n    }\n\n    .dataframe thead th {\n        text-align: right;\n    }\n</style>\n<table border=\"1\" class=\"dataframe\">\n  <thead>\n    <tr style=\"text-align: right;\">\n      <th></th>\n      <th>Place name</th>\n      <th>Rating</th>\n      <th>Reviews</th>\n    </tr>\n  </thead>\n  <tbody>\n    <tr>\n      <th>0</th>\n      <td>Коферум</td>\n      <td>5.0</td>\n      <td>271.08</td>\n    </tr>\n    <tr>\n      <th>1</th>\n      <td>Кофейня Starcoff</td>\n      <td>4.4</td>\n      <td>667.27</td>\n    </tr>\n    <tr>\n      <th>2</th>\n      <td>SOVA COFFEE</td>\n      <td>4.8</td>\n      <td>395.91</td>\n    </tr>\n    <tr>\n      <th>3</th>\n      <td>Кава Тайм</td>\n      <td>4.9</td>\n      <td>328.08</td>\n    </tr>\n    <tr>\n      <th>4</th>\n      <td>Dzhi</td>\n      <td>4.5</td>\n      <td>1527.79</td>\n    </tr>\n    <tr>\n      <th>5</th>\n      <td>Koffishka</td>\n      <td>4.1</td>\n      <td>870.79</td>\n    </tr>\n    <tr>\n      <th>6</th>\n      <td>Verona</td>\n      <td>4.5</td>\n      <td>1495.27</td>\n    </tr>\n    <tr>\n      <th>7</th>\n      <td>I love coffee</td>\n      <td>4.7</td>\n      <td>463.75</td>\n    </tr>\n    <tr>\n      <th>8</th>\n      <td>Дом Кофе</td>\n      <td>4.6</td>\n      <td>531.59</td>\n    </tr>\n    <tr>\n      <th>9</th>\n      <td>Prostir.coffee</td>\n      <td>4.7</td>\n      <td>1381.27</td>\n    </tr>\n    <tr>\n      <th>10</th>\n      <td>HOTCUP</td>\n      <td>4.6</td>\n      <td>542.43</td>\n    </tr>\n    <tr>\n      <th>11</th>\n      <td>Art Coffee</td>\n      <td>4.6</td>\n      <td>520.75</td>\n    </tr>\n    <tr>\n      <th>12</th>\n      <td>Мастерская \"Кофе на разлив\"</td>\n      <td>5.0</td>\n      <td>238.55</td>\n    </tr>\n    <tr>\n      <th>13</th>\n      <td>Dim Kavy</td>\n      <td>4.8</td>\n      <td>385.07</td>\n    </tr>\n    <tr>\n      <th>14</th>\n      <td>Jays : Coffee Brewers</td>\n      <td>4.5</td>\n      <td>577.75</td>\n    </tr>\n    <tr>\n      <th>15</th>\n      <td>LittleTalk Coffee</td>\n      <td>4.6</td>\n      <td>531.59</td>\n    </tr>\n    <tr>\n      <th>16</th>\n      <td>Dobra Kava</td>\n      <td>4.3</td>\n      <td>1663.47</td>\n    </tr>\n    <tr>\n      <th>17</th>\n      <td>We Roast Coffee in Odessa</td>\n      <td>4.5</td>\n      <td>599.43</td>\n    </tr>\n    <tr>\n      <th>18</th>\n      <td>Red Cup Coffee Roasters</td>\n      <td>5.0</td>\n      <td>238.55</td>\n    </tr>\n    <tr>\n      <th>19</th>\n      <td>Жарим Кофе в Одессе. Обжарочная №4</td>\n      <td>4.7</td>\n      <td>463.75</td>\n    </tr>\n    <tr>\n      <th>20</th>\n      <td>Lviv coffee manufacture (Valova)</td>\n      <td>4.6</td>\n      <td>531.59</td>\n    </tr>\n    <tr>\n      <th>21</th>\n      <td>Karmel Coffee Shop</td>\n      <td>4.9</td>\n      <td>328.08</td>\n    </tr>\n    <tr>\n      <th>22</th>\n      <td>I want coffee</td>\n      <td>4.4</td>\n      <td>667.27</td>\n    </tr>\n    <tr>\n      <th>23</th>\n      <td>Кофейня My Coffee</td>\n      <td>4.5</td>\n      <td>610.27</td>\n    </tr>\n    <tr>\n      <th>24</th>\n      <td>Coffee Craft</td>\n      <td>4.7</td>\n      <td>474.59</td>\n    </tr>\n    <tr>\n      <th>25</th>\n      <td>\"®КАВА БАЗА®\"</td>\n      <td>5.0</td>\n      <td>238.55</td>\n    </tr>\n    <tr>\n      <th>26</th>\n      <td>Matílda cafe</td>\n      <td>4.9</td>\n      <td>338.92</td>\n    </tr>\n    <tr>\n      <th>27</th>\n      <td>Kaffa</td>\n      <td>4.7</td>\n      <td>474.59</td>\n    </tr>\n    <tr>\n      <th>28</th>\n      <td>The Blue Cup Coffee Shop</td>\n      <td>4.6</td>\n      <td>1438.27</td>\n    </tr>\n    <tr>\n      <th>29</th>\n      <td>Kaffa</td>\n      <td>4.8</td>\n      <td>385.07</td>\n    </tr>\n    <tr>\n      <th>30</th>\n      <td>London</td>\n      <td>4.7</td>\n      <td>474.59</td>\n    </tr>\n    <tr>\n      <th>31</th>\n      <td>Мастерская Кофе</td>\n      <td>4.7</td>\n      <td>463.75</td>\n    </tr>\n    <tr>\n      <th>32</th>\n      <td>Dom Kofe</td>\n      <td>4.6</td>\n      <td>531.59</td>\n    </tr>\n    <tr>\n      <th>33</th>\n      <td>CoffeeDoor Brewbar &amp; Coffeeshop</td>\n      <td>4.7</td>\n      <td>463.75</td>\n    </tr>\n    <tr>\n      <th>34</th>\n      <td>Coffeelaktika coffee studio</td>\n      <td>4.5</td>\n      <td>599.43</td>\n    </tr>\n    <tr>\n      <th>35</th>\n      <td>Бамбук</td>\n      <td>4.1</td>\n      <td>881.63</td>\n    </tr>\n    <tr>\n      <th>36</th>\n      <td>Horizontal kaffee</td>\n      <td>5.0</td>\n      <td>271.08</td>\n    </tr>\n    <tr>\n      <th>37</th>\n      <td>Coffee&amp;Cake, Game zone PS4</td>\n      <td>NaN</td>\n      <td>463.75</td>\n    </tr>\n    <tr>\n      <th>38</th>\n      <td>Coffee Life</td>\n      <td>4.0</td>\n      <td>949.47</td>\n    </tr>\n    <tr>\n      <th>39</th>\n      <td>Artist</td>\n      <td>4.6</td>\n      <td>328.99</td>\n    </tr>\n  </tbody>\n</table>\n</div>"
     },
     "execution_count": 5,
     "metadata": {},
     "output_type": "execute_result"
    }
   ],
   "source": [
    "# Task 4: Fit a comparison model to predict the number of store review using `train.csv`. The value we will predict is the number of reviews. As a comparison model I will use linear regressio model using the 'Rating' and 'Place.type', 'Price', 'Delivery.option'.\n",
    "\n",
    "# create the X_train_2, X_test_2, y_train_2, y_test_2 variables\n",
    "X_train_2 = train[['Rating', 'Place.type', 'Price', 'Delivery.option']]\n",
    "y_train_2 = train['Reviews']\n",
    "X_test_2 = validation[['Rating', 'Place.type', 'Price', 'Delivery.option']]\n",
    "\n",
    "# impute any missing values in 'Rating' column with the median of the column\n",
    "X_train_2.loc[:, ['Rating']] = imputer.fit_transform(X_train_2[['Rating']])\n",
    "X_test_2.loc[:, ['Rating']] = imputer.transform(X_test_2[['Rating']])\n",
    "\n",
    "# create encoding for 'Place.type' column using label encoding\n",
    "from sklearn.preprocessing import LabelEncoder\n",
    "le = LabelEncoder()\n",
    "X_train_2.loc[:, 'Place.type'] = le.fit_transform(X_train_2['Place.type'])\n",
    "X_test_2.loc[:, 'Place.type'] = le.transform(X_test_2['Place.type'])\n",
    "\n",
    "# transform the 'Price' column into numeric values replacing '$' with 1 and '$$' with 2 and so on\n",
    "X_train_2.loc[:, 'Price'] = X_train_2['Price'].replace({'$': 1, '$$': 2, '$$$': 3})\n",
    "X_test_2.loc[:, 'Price'] = X_test_2['Price'].replace({'$': 1, '$$': 2, '$$$': 3})\n",
    "\n",
    "# replace any missing values in 'Delivery.option' column with 'False'\n",
    "X_train_2.loc[:, 'Delivery.option'] = X_train_2['Delivery.option'].fillna(False)\n",
    "X_test_2.loc[:, 'Delivery.option'] = X_test_2['Delivery.option'].fillna(False)\n",
    "\n",
    "# replace the 'Delivery.option' column with 1 for 'True' and 0 for 'False'\n",
    "X_train_2.loc[:, 'Delivery.option'] = X_train_2['Delivery.option'].replace({True: 1, False: 0})\n",
    "X_test_2.loc[:, 'Delivery.option'] = X_test_2['Delivery.option'].replace({True: 1, False: 0})\n",
    "\n",
    "# impute the missing values in 'Reviews' column with the median of the column\n",
    "y_train_2 = imputer.fit_transform(y_train_2.values.reshape(-1, 1))\n",
    "\n",
    "# create the model. I will use linear regression model again\n",
    "model_2 = LinearRegression()\n",
    "\n",
    "# fit the model\n",
    "model_2.fit(X_train_2, y_train_2)\n",
    "\n",
    "# predict the values\n",
    "y_pred_2 = model_2.predict(X_test_2)\n",
    "\n",
    "# create a new dataframe called 'compare_result' based on the 'validation' dataframe. The DF should contain the place name, rating and predicted number of reviews\n",
    "compare_result = validation[['Place.name', 'Rating']].copy()\n",
    "compare_result['Reviews'] = y_pred_2\n",
    "\n",
    "# rename 'Place.name' column to 'Place name'\n",
    "compare_result = compare_result.rename(columns={'Place.name': 'Place name'})\n",
    "\n",
    "# adjust the 'Reviews' column to be 2 decimal places\n",
    "compare_result['Reviews'] = compare_result['Reviews'].round(2)\n",
    "\n",
    "# view the new dataframe\n",
    "compare_result"
   ],
   "metadata": {
    "collapsed": false,
    "ExecuteTime": {
     "end_time": "2024-01-29T02:11:25.900033Z",
     "start_time": "2024-01-29T02:11:25.858602Z"
    }
   },
   "id": "fe6cf5cc58790557",
   "execution_count": 5
  }
 ],
 "metadata": {
  "kernelspec": {
   "display_name": "Python 3",
   "language": "python",
   "name": "python3"
  },
  "language_info": {
   "codemirror_mode": {
    "name": "ipython",
    "version": 2
   },
   "file_extension": ".py",
   "mimetype": "text/x-python",
   "name": "python",
   "nbconvert_exporter": "python",
   "pygments_lexer": "ipython2",
   "version": "2.7.6"
  }
 },
 "nbformat": 4,
 "nbformat_minor": 5
}
