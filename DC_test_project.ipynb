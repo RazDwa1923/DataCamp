{
 "cells": [
  {
   "cell_type": "markdown",
   "source": [
    "# **DataCamp Mock Test: Coffee Shops**\n",
    "\n",
    "The following is a test from DataCamp as part of the Data Science Certification. \n",
    "\n",
    "Before starting the test I will load all required data sets provided by DataCamp. Afterwards I will perform a series of tasks. \n",
    "\n",
    "*The tasks are as follows:* \n",
    "\n",
    "1. Cleaning the data. I will work on each of the columns to create the expected dataset eitehr by replacing mising values or encoding information into the expected format. Name the cleaned file `clean_data`\n",
    "1. Producing a table to show the differnce in the median number of reviews\n",
    "1. Fiting a baseline using the `train.csv`\n",
    "    1. Using 'validation.csv' to predict new values for `rating` column\n",
    "1. Fit a comparison model to predict the number of store review using `train.csv`\n",
    "    1. Create `compare_result` dataframe with `rating` column "
   ],
   "metadata": {
    "collapsed": false
   },
   "id": "99a53f72cdb6c40a"
  },
  {
   "cell_type": "code",
   "outputs": [],
   "source": [
    "# import all needed libraries\n",
    "import pandas as pd\n",
    "import numpy as np\n",
    "\n",
    "# import datasets saved from DataCamp\n",
    "coffee = pd.read_csv('/Users/karolk/Python_Work/DataCamp/Datasets/Coffeeshops/coffee.csv')\n",
    "train = pd.read_csv('/Users/karolk/Python_Work/DataCamp/Datasets/Coffeeshops/train.csv')\n",
    "validation = pd.read_csv('/Users/karolk/Python_Work/DataCamp/Datasets/Coffeeshops/validation.csv')\n",
    "\n"
   ],
   "metadata": {
    "collapsed": false,
    "ExecuteTime": {
     "end_time": "2024-01-20T01:48:41.276982Z",
     "start_time": "2024-01-20T01:48:25.008719Z"
    }
   },
   "id": "765fe8f1ab6ab127",
   "execution_count": 1
  },
  {
   "cell_type": "code",
   "outputs": [
    {
     "data": {
      "text/plain": "Region              0\nPlace name          0\nPlace type          0\nRating              2\nReviews             2\nPrice               0\nDelivery option     0\nDine in option     60\nTakeout option     56\ndtype: int64"
     },
     "execution_count": 8,
     "metadata": {},
     "output_type": "execute_result"
    }
   ],
   "source": [
    "# Task 1: Cleaning the data\n",
    "\n",
    "# check the data\n",
    "coffee.head(50)\n",
    "\n",
    "# get count of missing values in each column\n",
    "coffee.isnull().sum()"
   ],
   "metadata": {
    "collapsed": false,
    "ExecuteTime": {
     "end_time": "2024-01-20T01:55:43.470623Z",
     "start_time": "2024-01-20T01:55:43.447349Z"
    }
   },
   "id": "c24999d262b49c3d",
   "execution_count": 8
  },
  {
   "cell_type": "code",
   "outputs": [],
   "source": [
    "\n",
    "# create a new dataframe called 'clean_data' and copy 'coffee' dataframe\n",
    "clean_data = coffee.copy()\n",
    "\n",
    "# replace missing values in 'rating' column with 0\n",
    "clean_data['Rating'] = clean_data['Rating'].fillna(0)\n",
    "\n",
    "# replace missing values in 'Reviews' column with the overall median of the column\n",
    "clean_data['Reviews'] = clean_data['Reviews'].fillna(clean_data['Reviews'].median())\n",
    "\n",
    "# replace missing values in 'Dine in option' and 'Takeout option' with 'False'\n",
    "clean_data['Dine in option'] = clean_data['Dine in option'].fillna(False)\n",
    "clean_data['Takeout option'] = clean_data['Takeout option'].fillna(False)\n",
    "\n",
    "# view the cleaned data\n",
    "clean_data.head(50)"
   ],
   "metadata": {
    "collapsed": false
   },
   "id": "a221e91ec61b5480",
   "execution_count": null
  },
  {
   "cell_type": "code",
   "outputs": [
    {
     "data": {
      "text/plain": "   Region                          Place.name    Place.type  Rating Price  \\\n0       C                             Коферум          Cafe     5.0    $$   \n1       C                    Кофейня Starcoff   Coffee shop     4.4    $$   \n2       C                         SOVA COFFEE   Coffee shop     4.8    $$   \n3       C                           Кава Тайм   Coffee shop     4.9    $$   \n4       J                                Dzhi          Cafe     4.5    $$   \n5       J                           Koffishka   Coffee shop     4.1    $$   \n6       F                              Verona        Others     4.5    $$   \n7       F                       I love coffee   Coffee shop     4.7    $$   \n8       F                            Дом Кофе   Coffee shop     4.6    $$   \n9       F                      Prostir.coffee   Coffee shop     4.7    $$   \n10      F                              HOTCUP          Cafe     4.6    $$   \n11      B                          Art Coffee  Espresso bar     4.6    $$   \n12      B         Мастерская \"Кофе на разлив\"        Others     5.0    $$   \n13      B                            Dim Kavy  Espresso bar     4.8    $$   \n14      B               Jays : Coffee Brewers        Others     4.5    $$   \n15      B                   LittleTalk Coffee   Coffee shop     4.6    $$   \n16      B                          Dobra Kava          Cafe     4.3    $$   \n17      A           We Roast Coffee in Odessa   Coffee shop     4.5    $$   \n18      A             Red Cup Coffee Roasters        Others     5.0    $$   \n19      A  Жарим Кофе в Одессе. Обжарочная №4   Coffee shop     4.7    $$   \n20      E    Lviv coffee manufacture (Valova)   Coffee shop     4.6    $$   \n21      E                  Karmel Coffee Shop   Coffee shop     4.9    $$   \n22      D                       I want coffee   Coffee shop     4.4    $$   \n23      D                   Кофейня My Coffee          Cafe     4.5    $$   \n24      D                        Coffee Craft          Cafe     4.7    $$   \n25      G                       \"®КАВА БАЗА®\"        Others     5.0    $$   \n26      G                        Matílda cafe          Cafe     4.9    $$   \n27      G                               Kaffa          Cafe     4.7    $$   \n28      G            The Blue Cup Coffee Shop  Espresso bar     4.6    $$   \n29      G                               Kaffa  Espresso bar     4.8    $$   \n30      G                              London          Cafe     4.7    $$   \n31      I                     Мастерская Кофе   Coffee shop     4.7    $$   \n32      I                            Dom Kofe   Coffee shop     4.6    $$   \n33      I     CoffeeDoor Brewbar & Coffeeshop   Coffee shop     4.7    $$   \n34      I         Coffeelaktika coffee studio   Coffee shop     4.5    $$   \n35      H                              Бамбук          Cafe     4.1    $$   \n36      H                   Horizontal kaffee          Cafe     5.0    $$   \n37      H          Coffee&Cake, Game zone PS4   Coffee shop     NaN    $$   \n38      H                         Coffee Life          Cafe     4.0    $$   \n39      H                              Artist        Others     4.6   $$$   \n\n    Delivery.option Dine.in.option Takeout.option  \n0             False            NaN           True  \n1             False           True           True  \n2             False           True           True  \n3             False            NaN           True  \n4              True           True           True  \n5             False           True           True  \n6              True           True            NaN  \n7             False           True           True  \n8             False           True           True  \n9              True           True           True  \n10            False            NaN           True  \n11            False            NaN            NaN  \n12            False            NaN            NaN  \n13            False            NaN            NaN  \n14            False            NaN           True  \n15            False           True           True  \n16             True           True            NaN  \n17            False           True           True  \n18            False            NaN            NaN  \n19            False            NaN            NaN  \n20            False           True           True  \n21            False           True           True  \n22            False           True           True  \n23            False            NaN           True  \n24            False           True           True  \n25            False            NaN            NaN  \n26            False           True           True  \n27            False           True           True  \n28             True           True           True  \n29            False           True           True  \n30            False           True            NaN  \n31            False           True           True  \n32            False            NaN            NaN  \n33            False           True           True  \n34            False           True           True  \n35            False           True           True  \n36            False           True            NaN  \n37            False            NaN            NaN  \n38            False           True           True  \n39            False           True           True  ",
      "text/html": "<div>\n<style scoped>\n    .dataframe tbody tr th:only-of-type {\n        vertical-align: middle;\n    }\n\n    .dataframe tbody tr th {\n        vertical-align: top;\n    }\n\n    .dataframe thead th {\n        text-align: right;\n    }\n</style>\n<table border=\"1\" class=\"dataframe\">\n  <thead>\n    <tr style=\"text-align: right;\">\n      <th></th>\n      <th>Region</th>\n      <th>Place.name</th>\n      <th>Place.type</th>\n      <th>Rating</th>\n      <th>Price</th>\n      <th>Delivery.option</th>\n      <th>Dine.in.option</th>\n      <th>Takeout.option</th>\n    </tr>\n  </thead>\n  <tbody>\n    <tr>\n      <th>0</th>\n      <td>C</td>\n      <td>Коферум</td>\n      <td>Cafe</td>\n      <td>5.0</td>\n      <td>$$</td>\n      <td>False</td>\n      <td>NaN</td>\n      <td>True</td>\n    </tr>\n    <tr>\n      <th>1</th>\n      <td>C</td>\n      <td>Кофейня Starcoff</td>\n      <td>Coffee shop</td>\n      <td>4.4</td>\n      <td>$$</td>\n      <td>False</td>\n      <td>True</td>\n      <td>True</td>\n    </tr>\n    <tr>\n      <th>2</th>\n      <td>C</td>\n      <td>SOVA COFFEE</td>\n      <td>Coffee shop</td>\n      <td>4.8</td>\n      <td>$$</td>\n      <td>False</td>\n      <td>True</td>\n      <td>True</td>\n    </tr>\n    <tr>\n      <th>3</th>\n      <td>C</td>\n      <td>Кава Тайм</td>\n      <td>Coffee shop</td>\n      <td>4.9</td>\n      <td>$$</td>\n      <td>False</td>\n      <td>NaN</td>\n      <td>True</td>\n    </tr>\n    <tr>\n      <th>4</th>\n      <td>J</td>\n      <td>Dzhi</td>\n      <td>Cafe</td>\n      <td>4.5</td>\n      <td>$$</td>\n      <td>True</td>\n      <td>True</td>\n      <td>True</td>\n    </tr>\n    <tr>\n      <th>5</th>\n      <td>J</td>\n      <td>Koffishka</td>\n      <td>Coffee shop</td>\n      <td>4.1</td>\n      <td>$$</td>\n      <td>False</td>\n      <td>True</td>\n      <td>True</td>\n    </tr>\n    <tr>\n      <th>6</th>\n      <td>F</td>\n      <td>Verona</td>\n      <td>Others</td>\n      <td>4.5</td>\n      <td>$$</td>\n      <td>True</td>\n      <td>True</td>\n      <td>NaN</td>\n    </tr>\n    <tr>\n      <th>7</th>\n      <td>F</td>\n      <td>I love coffee</td>\n      <td>Coffee shop</td>\n      <td>4.7</td>\n      <td>$$</td>\n      <td>False</td>\n      <td>True</td>\n      <td>True</td>\n    </tr>\n    <tr>\n      <th>8</th>\n      <td>F</td>\n      <td>Дом Кофе</td>\n      <td>Coffee shop</td>\n      <td>4.6</td>\n      <td>$$</td>\n      <td>False</td>\n      <td>True</td>\n      <td>True</td>\n    </tr>\n    <tr>\n      <th>9</th>\n      <td>F</td>\n      <td>Prostir.coffee</td>\n      <td>Coffee shop</td>\n      <td>4.7</td>\n      <td>$$</td>\n      <td>True</td>\n      <td>True</td>\n      <td>True</td>\n    </tr>\n    <tr>\n      <th>10</th>\n      <td>F</td>\n      <td>HOTCUP</td>\n      <td>Cafe</td>\n      <td>4.6</td>\n      <td>$$</td>\n      <td>False</td>\n      <td>NaN</td>\n      <td>True</td>\n    </tr>\n    <tr>\n      <th>11</th>\n      <td>B</td>\n      <td>Art Coffee</td>\n      <td>Espresso bar</td>\n      <td>4.6</td>\n      <td>$$</td>\n      <td>False</td>\n      <td>NaN</td>\n      <td>NaN</td>\n    </tr>\n    <tr>\n      <th>12</th>\n      <td>B</td>\n      <td>Мастерская \"Кофе на разлив\"</td>\n      <td>Others</td>\n      <td>5.0</td>\n      <td>$$</td>\n      <td>False</td>\n      <td>NaN</td>\n      <td>NaN</td>\n    </tr>\n    <tr>\n      <th>13</th>\n      <td>B</td>\n      <td>Dim Kavy</td>\n      <td>Espresso bar</td>\n      <td>4.8</td>\n      <td>$$</td>\n      <td>False</td>\n      <td>NaN</td>\n      <td>NaN</td>\n    </tr>\n    <tr>\n      <th>14</th>\n      <td>B</td>\n      <td>Jays : Coffee Brewers</td>\n      <td>Others</td>\n      <td>4.5</td>\n      <td>$$</td>\n      <td>False</td>\n      <td>NaN</td>\n      <td>True</td>\n    </tr>\n    <tr>\n      <th>15</th>\n      <td>B</td>\n      <td>LittleTalk Coffee</td>\n      <td>Coffee shop</td>\n      <td>4.6</td>\n      <td>$$</td>\n      <td>False</td>\n      <td>True</td>\n      <td>True</td>\n    </tr>\n    <tr>\n      <th>16</th>\n      <td>B</td>\n      <td>Dobra Kava</td>\n      <td>Cafe</td>\n      <td>4.3</td>\n      <td>$$</td>\n      <td>True</td>\n      <td>True</td>\n      <td>NaN</td>\n    </tr>\n    <tr>\n      <th>17</th>\n      <td>A</td>\n      <td>We Roast Coffee in Odessa</td>\n      <td>Coffee shop</td>\n      <td>4.5</td>\n      <td>$$</td>\n      <td>False</td>\n      <td>True</td>\n      <td>True</td>\n    </tr>\n    <tr>\n      <th>18</th>\n      <td>A</td>\n      <td>Red Cup Coffee Roasters</td>\n      <td>Others</td>\n      <td>5.0</td>\n      <td>$$</td>\n      <td>False</td>\n      <td>NaN</td>\n      <td>NaN</td>\n    </tr>\n    <tr>\n      <th>19</th>\n      <td>A</td>\n      <td>Жарим Кофе в Одессе. Обжарочная №4</td>\n      <td>Coffee shop</td>\n      <td>4.7</td>\n      <td>$$</td>\n      <td>False</td>\n      <td>NaN</td>\n      <td>NaN</td>\n    </tr>\n    <tr>\n      <th>20</th>\n      <td>E</td>\n      <td>Lviv coffee manufacture (Valova)</td>\n      <td>Coffee shop</td>\n      <td>4.6</td>\n      <td>$$</td>\n      <td>False</td>\n      <td>True</td>\n      <td>True</td>\n    </tr>\n    <tr>\n      <th>21</th>\n      <td>E</td>\n      <td>Karmel Coffee Shop</td>\n      <td>Coffee shop</td>\n      <td>4.9</td>\n      <td>$$</td>\n      <td>False</td>\n      <td>True</td>\n      <td>True</td>\n    </tr>\n    <tr>\n      <th>22</th>\n      <td>D</td>\n      <td>I want coffee</td>\n      <td>Coffee shop</td>\n      <td>4.4</td>\n      <td>$$</td>\n      <td>False</td>\n      <td>True</td>\n      <td>True</td>\n    </tr>\n    <tr>\n      <th>23</th>\n      <td>D</td>\n      <td>Кофейня My Coffee</td>\n      <td>Cafe</td>\n      <td>4.5</td>\n      <td>$$</td>\n      <td>False</td>\n      <td>NaN</td>\n      <td>True</td>\n    </tr>\n    <tr>\n      <th>24</th>\n      <td>D</td>\n      <td>Coffee Craft</td>\n      <td>Cafe</td>\n      <td>4.7</td>\n      <td>$$</td>\n      <td>False</td>\n      <td>True</td>\n      <td>True</td>\n    </tr>\n    <tr>\n      <th>25</th>\n      <td>G</td>\n      <td>\"®КАВА БАЗА®\"</td>\n      <td>Others</td>\n      <td>5.0</td>\n      <td>$$</td>\n      <td>False</td>\n      <td>NaN</td>\n      <td>NaN</td>\n    </tr>\n    <tr>\n      <th>26</th>\n      <td>G</td>\n      <td>Matílda cafe</td>\n      <td>Cafe</td>\n      <td>4.9</td>\n      <td>$$</td>\n      <td>False</td>\n      <td>True</td>\n      <td>True</td>\n    </tr>\n    <tr>\n      <th>27</th>\n      <td>G</td>\n      <td>Kaffa</td>\n      <td>Cafe</td>\n      <td>4.7</td>\n      <td>$$</td>\n      <td>False</td>\n      <td>True</td>\n      <td>True</td>\n    </tr>\n    <tr>\n      <th>28</th>\n      <td>G</td>\n      <td>The Blue Cup Coffee Shop</td>\n      <td>Espresso bar</td>\n      <td>4.6</td>\n      <td>$$</td>\n      <td>True</td>\n      <td>True</td>\n      <td>True</td>\n    </tr>\n    <tr>\n      <th>29</th>\n      <td>G</td>\n      <td>Kaffa</td>\n      <td>Espresso bar</td>\n      <td>4.8</td>\n      <td>$$</td>\n      <td>False</td>\n      <td>True</td>\n      <td>True</td>\n    </tr>\n    <tr>\n      <th>30</th>\n      <td>G</td>\n      <td>London</td>\n      <td>Cafe</td>\n      <td>4.7</td>\n      <td>$$</td>\n      <td>False</td>\n      <td>True</td>\n      <td>NaN</td>\n    </tr>\n    <tr>\n      <th>31</th>\n      <td>I</td>\n      <td>Мастерская Кофе</td>\n      <td>Coffee shop</td>\n      <td>4.7</td>\n      <td>$$</td>\n      <td>False</td>\n      <td>True</td>\n      <td>True</td>\n    </tr>\n    <tr>\n      <th>32</th>\n      <td>I</td>\n      <td>Dom Kofe</td>\n      <td>Coffee shop</td>\n      <td>4.6</td>\n      <td>$$</td>\n      <td>False</td>\n      <td>NaN</td>\n      <td>NaN</td>\n    </tr>\n    <tr>\n      <th>33</th>\n      <td>I</td>\n      <td>CoffeeDoor Brewbar &amp; Coffeeshop</td>\n      <td>Coffee shop</td>\n      <td>4.7</td>\n      <td>$$</td>\n      <td>False</td>\n      <td>True</td>\n      <td>True</td>\n    </tr>\n    <tr>\n      <th>34</th>\n      <td>I</td>\n      <td>Coffeelaktika coffee studio</td>\n      <td>Coffee shop</td>\n      <td>4.5</td>\n      <td>$$</td>\n      <td>False</td>\n      <td>True</td>\n      <td>True</td>\n    </tr>\n    <tr>\n      <th>35</th>\n      <td>H</td>\n      <td>Бамбук</td>\n      <td>Cafe</td>\n      <td>4.1</td>\n      <td>$$</td>\n      <td>False</td>\n      <td>True</td>\n      <td>True</td>\n    </tr>\n    <tr>\n      <th>36</th>\n      <td>H</td>\n      <td>Horizontal kaffee</td>\n      <td>Cafe</td>\n      <td>5.0</td>\n      <td>$$</td>\n      <td>False</td>\n      <td>True</td>\n      <td>NaN</td>\n    </tr>\n    <tr>\n      <th>37</th>\n      <td>H</td>\n      <td>Coffee&amp;Cake, Game zone PS4</td>\n      <td>Coffee shop</td>\n      <td>NaN</td>\n      <td>$$</td>\n      <td>False</td>\n      <td>NaN</td>\n      <td>NaN</td>\n    </tr>\n    <tr>\n      <th>38</th>\n      <td>H</td>\n      <td>Coffee Life</td>\n      <td>Cafe</td>\n      <td>4.0</td>\n      <td>$$</td>\n      <td>False</td>\n      <td>True</td>\n      <td>True</td>\n    </tr>\n    <tr>\n      <th>39</th>\n      <td>H</td>\n      <td>Artist</td>\n      <td>Others</td>\n      <td>4.6</td>\n      <td>$$$</td>\n      <td>False</td>\n      <td>True</td>\n      <td>True</td>\n    </tr>\n  </tbody>\n</table>\n</div>"
     },
     "execution_count": 16,
     "metadata": {},
     "output_type": "execute_result"
    }
   ],
   "source": [
    "# check validation data\n",
    "validation.head(50)\n",
    "\n"
   ],
   "metadata": {
    "collapsed": false,
    "ExecuteTime": {
     "end_time": "2024-01-20T03:00:09.303864Z",
     "start_time": "2024-01-20T03:00:09.297653Z"
    }
   },
   "id": "18bce13005ba9cd9",
   "execution_count": 16
  },
  {
   "cell_type": "code",
   "outputs": [],
   "source": [
    "# Task 2: Producing a table to show the differnce in the median number of reviews depending on the 'Rating' column\n",
    "\n",
    "# create a new dataframe called 'reviews_by_rating' and group by 'Rating' column with four columns 'rating', 'med_review', 'min_review', 'max_review'. 'med_review' is the median of the 'Reviews' column, 'min_review' is the minimum of the 'Reviews' column and 'max_review' is the maximum of the 'Reviews' column\n",
    "reviews_by_rating = clean_data.groupby('Rating').agg({'Reviews': ['median', 'min', 'max']})\n",
    "\n",
    "# view the new dataframe\n",
    "reviews_by_rating"
   ],
   "metadata": {
    "collapsed": false
   },
   "id": "42fbc002f6d1b77b",
   "execution_count": null
  },
  {
   "cell_type": "code",
   "outputs": [
    {
     "data": {
      "text/plain": "   Region                                         Place.name    Place.type  \\\n0       C                                           Dim Kavu        Others   \n1       C                                   Кофейня Світ Чаю   Coffee shop   \n2       C                              Кофейня \"Friend Zone\"   Coffee shop   \n3       C                                 Racers Coffee Shop  Espresso bar   \n4       C                                      Займемся Кофе   Coffee shop   \n5       C                                    Кофейня Rit Rit   Coffee shop   \n6       C                                 Кав'ярня My coffee   Coffee shop   \n7       C                           LENЬ. Coffee & desserts.   Coffee shop   \n8       C                                         Skver кафе          Cafe   \n9       C                              Кафе на Георгіївській          Cafe   \n10      C                                            Khosper          Cafe   \n11      C                      Lekontina Шоколадна Майстерня          Cafe   \n12      C                                             Lecker          Cafe   \n13      C                                    Veterano Coffee   Coffee shop   \n14      C                                               VEIN          Cafe   \n15      C                                       Coffee Drive   Coffee shop   \n16      J                                           G COFFEE   Coffee shop   \n17      J                                              Kavun   Coffee shop   \n18      J                                      Buns Brew Bar   Coffee shop   \n19      J                                       Coffee House          Cafe   \n20      J                                       \"Точка кофе\"  Espresso bar   \n21      J                                        Your Coffee          Cafe   \n22      J                                             KOFEiN          Cafe   \n23      J                           Perfect Coffee, КАВ'ЯРНЯ  Espresso bar   \n24      J                                  Misceva kavyarnya   Coffee shop   \n25      J                               Gangster coffee shop        Others   \n26      J                                Crema Caffe Poltava   Coffee shop   \n27      J                                            COFFBOY   Coffee shop   \n28      J                                     Wake Up Coffee   Coffee shop   \n29      J                            Lviv Handmade Chocolate        Others   \n30      J  ПЕРША ДЕГУСТАЦІЙНА ЗАЛА КАВИ \"GANGSTER_COFFEE ...        Others   \n31      J                                         Aroma kava          Cafe   \n32      J                      ЗАКУТОК - coffee hookah point   Coffee shop   \n33      J                                          CoffeePot   Coffee shop   \n34      F                                          Coffee 66          Cafe   \n35      F                                     Godshot Coffee          Cafe   \n36      F                              Prostir.coffee Таврик   Coffee shop   \n37      F                                       coffee House   Coffee shop   \n38      F                                           CoffeeOk   Coffee shop   \n39      F                                       Кофе с Совой  Espresso bar   \n40      F                                     Кофе В Херсоне          Cafe   \n41      F                              Don Marco coffee shop   Coffee shop   \n42      F                                               Koko   Coffee shop   \n43      F                                       Coffee house   Coffee shop   \n44      F                 Coffeehouse Na Poshtovomu Provulku   Coffee shop   \n45      F                                Just Coffee Kherson  Espresso bar   \n46      F                                          Don Marco   Coffee shop   \n47      F                                        Green house          Cafe   \n48      F                                          Kofemolka   Coffee shop   \n49      B          Art Coffee - Інтернет Магазин Кави та Чаю        Others   \n\n    Rating  Reviews Price  Delivery.option Dine.in.option Takeout.option  \n0      4.6    206.0    $$            False            NaN            NaN  \n1      5.0     11.0    $$            False            NaN           True  \n2      5.0     12.0    $$            False           True           True  \n3      4.6    367.0    $$            False           True           True  \n4      4.6    200.0    $$            False           True           True  \n5      4.6    292.0    $$            False            NaN           True  \n6      4.8     31.0    $$            False           True           True  \n7      4.8    125.0    $$             True           True           True  \n8      4.9     18.0    $$            False           True           True  \n9      4.5    806.0     $            False           True           True  \n10     4.2    609.0    $$            False           True           True  \n11     4.7    172.0    $$             True           True           True  \n12     4.8    234.0    $$             True           True           True  \n13     4.5    136.0    $$            False            NaN           True  \n14     4.5    166.0    $$             True           True           True  \n15     4.8     10.0    $$            False           True           True  \n16     4.5   1596.0    $$             True           True            NaN  \n17     4.7   1785.0    $$             True           True            NaN  \n18     4.7    459.0    $$            False            NaN           True  \n19     4.7    329.0    $$            False            NaN           True  \n20     4.9     14.0    $$            False            NaN           True  \n21     4.7    569.0    $$            False           True            NaN  \n22     4.4    860.0   $$$            False           True           True  \n23     4.8    124.0    $$            False           True           True  \n24     4.5    898.0    $$            False           True           True  \n25     4.7    347.0    $$             True            NaN            NaN  \n26     4.3     12.0    $$            False            NaN           True  \n27     4.7    112.0    $$            False           True           True  \n28     4.9     17.0    $$            False            NaN           True  \n29     4.6   1376.0    $$            False           True           True  \n30     5.0     37.0    $$            False            NaN            NaN  \n31     4.4    226.0    $$            False           True           True  \n32     5.0     15.0    $$            False            NaN            NaN  \n33     5.0     18.0    $$            False           True            NaN  \n34     5.0     15.0    $$            False            NaN           True  \n35     4.7    726.0    $$            False           True           True  \n36     5.0     26.0    $$            False           True            NaN  \n37     4.7    279.0    $$            False           True           True  \n38     4.9     18.0    $$            False            NaN           True  \n39     4.9     46.0    $$            False            NaN           True  \n40     NaN      NaN    $$            False            NaN            NaN  \n41     4.4    593.0    $$            False           True           True  \n42     4.4   1201.0    $$            False           True           True  \n43     4.4     67.0    $$            False            NaN           True  \n44     4.6    275.0    $$            False           True           True  \n45     4.5     27.0    $$            False            NaN           True  \n46     4.4    304.0    $$            False           True           True  \n47     4.5    598.0    $$             True           True           True  \n48     4.7     97.0    $$            False            NaN           True  \n49     5.0     12.0    $$             True            NaN            NaN  ",
      "text/html": "<div>\n<style scoped>\n    .dataframe tbody tr th:only-of-type {\n        vertical-align: middle;\n    }\n\n    .dataframe tbody tr th {\n        vertical-align: top;\n    }\n\n    .dataframe thead th {\n        text-align: right;\n    }\n</style>\n<table border=\"1\" class=\"dataframe\">\n  <thead>\n    <tr style=\"text-align: right;\">\n      <th></th>\n      <th>Region</th>\n      <th>Place.name</th>\n      <th>Place.type</th>\n      <th>Rating</th>\n      <th>Reviews</th>\n      <th>Price</th>\n      <th>Delivery.option</th>\n      <th>Dine.in.option</th>\n      <th>Takeout.option</th>\n    </tr>\n  </thead>\n  <tbody>\n    <tr>\n      <th>0</th>\n      <td>C</td>\n      <td>Dim Kavu</td>\n      <td>Others</td>\n      <td>4.6</td>\n      <td>206.0</td>\n      <td>$$</td>\n      <td>False</td>\n      <td>NaN</td>\n      <td>NaN</td>\n    </tr>\n    <tr>\n      <th>1</th>\n      <td>C</td>\n      <td>Кофейня Світ Чаю</td>\n      <td>Coffee shop</td>\n      <td>5.0</td>\n      <td>11.0</td>\n      <td>$$</td>\n      <td>False</td>\n      <td>NaN</td>\n      <td>True</td>\n    </tr>\n    <tr>\n      <th>2</th>\n      <td>C</td>\n      <td>Кофейня \"Friend Zone\"</td>\n      <td>Coffee shop</td>\n      <td>5.0</td>\n      <td>12.0</td>\n      <td>$$</td>\n      <td>False</td>\n      <td>True</td>\n      <td>True</td>\n    </tr>\n    <tr>\n      <th>3</th>\n      <td>C</td>\n      <td>Racers Coffee Shop</td>\n      <td>Espresso bar</td>\n      <td>4.6</td>\n      <td>367.0</td>\n      <td>$$</td>\n      <td>False</td>\n      <td>True</td>\n      <td>True</td>\n    </tr>\n    <tr>\n      <th>4</th>\n      <td>C</td>\n      <td>Займемся Кофе</td>\n      <td>Coffee shop</td>\n      <td>4.6</td>\n      <td>200.0</td>\n      <td>$$</td>\n      <td>False</td>\n      <td>True</td>\n      <td>True</td>\n    </tr>\n    <tr>\n      <th>5</th>\n      <td>C</td>\n      <td>Кофейня Rit Rit</td>\n      <td>Coffee shop</td>\n      <td>4.6</td>\n      <td>292.0</td>\n      <td>$$</td>\n      <td>False</td>\n      <td>NaN</td>\n      <td>True</td>\n    </tr>\n    <tr>\n      <th>6</th>\n      <td>C</td>\n      <td>Кав'ярня My coffee</td>\n      <td>Coffee shop</td>\n      <td>4.8</td>\n      <td>31.0</td>\n      <td>$$</td>\n      <td>False</td>\n      <td>True</td>\n      <td>True</td>\n    </tr>\n    <tr>\n      <th>7</th>\n      <td>C</td>\n      <td>LENЬ. Coffee &amp; desserts.</td>\n      <td>Coffee shop</td>\n      <td>4.8</td>\n      <td>125.0</td>\n      <td>$$</td>\n      <td>True</td>\n      <td>True</td>\n      <td>True</td>\n    </tr>\n    <tr>\n      <th>8</th>\n      <td>C</td>\n      <td>Skver кафе</td>\n      <td>Cafe</td>\n      <td>4.9</td>\n      <td>18.0</td>\n      <td>$$</td>\n      <td>False</td>\n      <td>True</td>\n      <td>True</td>\n    </tr>\n    <tr>\n      <th>9</th>\n      <td>C</td>\n      <td>Кафе на Георгіївській</td>\n      <td>Cafe</td>\n      <td>4.5</td>\n      <td>806.0</td>\n      <td>$</td>\n      <td>False</td>\n      <td>True</td>\n      <td>True</td>\n    </tr>\n    <tr>\n      <th>10</th>\n      <td>C</td>\n      <td>Khosper</td>\n      <td>Cafe</td>\n      <td>4.2</td>\n      <td>609.0</td>\n      <td>$$</td>\n      <td>False</td>\n      <td>True</td>\n      <td>True</td>\n    </tr>\n    <tr>\n      <th>11</th>\n      <td>C</td>\n      <td>Lekontina Шоколадна Майстерня</td>\n      <td>Cafe</td>\n      <td>4.7</td>\n      <td>172.0</td>\n      <td>$$</td>\n      <td>True</td>\n      <td>True</td>\n      <td>True</td>\n    </tr>\n    <tr>\n      <th>12</th>\n      <td>C</td>\n      <td>Lecker</td>\n      <td>Cafe</td>\n      <td>4.8</td>\n      <td>234.0</td>\n      <td>$$</td>\n      <td>True</td>\n      <td>True</td>\n      <td>True</td>\n    </tr>\n    <tr>\n      <th>13</th>\n      <td>C</td>\n      <td>Veterano Coffee</td>\n      <td>Coffee shop</td>\n      <td>4.5</td>\n      <td>136.0</td>\n      <td>$$</td>\n      <td>False</td>\n      <td>NaN</td>\n      <td>True</td>\n    </tr>\n    <tr>\n      <th>14</th>\n      <td>C</td>\n      <td>VEIN</td>\n      <td>Cafe</td>\n      <td>4.5</td>\n      <td>166.0</td>\n      <td>$$</td>\n      <td>True</td>\n      <td>True</td>\n      <td>True</td>\n    </tr>\n    <tr>\n      <th>15</th>\n      <td>C</td>\n      <td>Coffee Drive</td>\n      <td>Coffee shop</td>\n      <td>4.8</td>\n      <td>10.0</td>\n      <td>$$</td>\n      <td>False</td>\n      <td>True</td>\n      <td>True</td>\n    </tr>\n    <tr>\n      <th>16</th>\n      <td>J</td>\n      <td>G COFFEE</td>\n      <td>Coffee shop</td>\n      <td>4.5</td>\n      <td>1596.0</td>\n      <td>$$</td>\n      <td>True</td>\n      <td>True</td>\n      <td>NaN</td>\n    </tr>\n    <tr>\n      <th>17</th>\n      <td>J</td>\n      <td>Kavun</td>\n      <td>Coffee shop</td>\n      <td>4.7</td>\n      <td>1785.0</td>\n      <td>$$</td>\n      <td>True</td>\n      <td>True</td>\n      <td>NaN</td>\n    </tr>\n    <tr>\n      <th>18</th>\n      <td>J</td>\n      <td>Buns Brew Bar</td>\n      <td>Coffee shop</td>\n      <td>4.7</td>\n      <td>459.0</td>\n      <td>$$</td>\n      <td>False</td>\n      <td>NaN</td>\n      <td>True</td>\n    </tr>\n    <tr>\n      <th>19</th>\n      <td>J</td>\n      <td>Coffee House</td>\n      <td>Cafe</td>\n      <td>4.7</td>\n      <td>329.0</td>\n      <td>$$</td>\n      <td>False</td>\n      <td>NaN</td>\n      <td>True</td>\n    </tr>\n    <tr>\n      <th>20</th>\n      <td>J</td>\n      <td>\"Точка кофе\"</td>\n      <td>Espresso bar</td>\n      <td>4.9</td>\n      <td>14.0</td>\n      <td>$$</td>\n      <td>False</td>\n      <td>NaN</td>\n      <td>True</td>\n    </tr>\n    <tr>\n      <th>21</th>\n      <td>J</td>\n      <td>Your Coffee</td>\n      <td>Cafe</td>\n      <td>4.7</td>\n      <td>569.0</td>\n      <td>$$</td>\n      <td>False</td>\n      <td>True</td>\n      <td>NaN</td>\n    </tr>\n    <tr>\n      <th>22</th>\n      <td>J</td>\n      <td>KOFEiN</td>\n      <td>Cafe</td>\n      <td>4.4</td>\n      <td>860.0</td>\n      <td>$$$</td>\n      <td>False</td>\n      <td>True</td>\n      <td>True</td>\n    </tr>\n    <tr>\n      <th>23</th>\n      <td>J</td>\n      <td>Perfect Coffee, КАВ'ЯРНЯ</td>\n      <td>Espresso bar</td>\n      <td>4.8</td>\n      <td>124.0</td>\n      <td>$$</td>\n      <td>False</td>\n      <td>True</td>\n      <td>True</td>\n    </tr>\n    <tr>\n      <th>24</th>\n      <td>J</td>\n      <td>Misceva kavyarnya</td>\n      <td>Coffee shop</td>\n      <td>4.5</td>\n      <td>898.0</td>\n      <td>$$</td>\n      <td>False</td>\n      <td>True</td>\n      <td>True</td>\n    </tr>\n    <tr>\n      <th>25</th>\n      <td>J</td>\n      <td>Gangster coffee shop</td>\n      <td>Others</td>\n      <td>4.7</td>\n      <td>347.0</td>\n      <td>$$</td>\n      <td>True</td>\n      <td>NaN</td>\n      <td>NaN</td>\n    </tr>\n    <tr>\n      <th>26</th>\n      <td>J</td>\n      <td>Crema Caffe Poltava</td>\n      <td>Coffee shop</td>\n      <td>4.3</td>\n      <td>12.0</td>\n      <td>$$</td>\n      <td>False</td>\n      <td>NaN</td>\n      <td>True</td>\n    </tr>\n    <tr>\n      <th>27</th>\n      <td>J</td>\n      <td>COFFBOY</td>\n      <td>Coffee shop</td>\n      <td>4.7</td>\n      <td>112.0</td>\n      <td>$$</td>\n      <td>False</td>\n      <td>True</td>\n      <td>True</td>\n    </tr>\n    <tr>\n      <th>28</th>\n      <td>J</td>\n      <td>Wake Up Coffee</td>\n      <td>Coffee shop</td>\n      <td>4.9</td>\n      <td>17.0</td>\n      <td>$$</td>\n      <td>False</td>\n      <td>NaN</td>\n      <td>True</td>\n    </tr>\n    <tr>\n      <th>29</th>\n      <td>J</td>\n      <td>Lviv Handmade Chocolate</td>\n      <td>Others</td>\n      <td>4.6</td>\n      <td>1376.0</td>\n      <td>$$</td>\n      <td>False</td>\n      <td>True</td>\n      <td>True</td>\n    </tr>\n    <tr>\n      <th>30</th>\n      <td>J</td>\n      <td>ПЕРША ДЕГУСТАЦІЙНА ЗАЛА КАВИ \"GANGSTER_COFFEE ...</td>\n      <td>Others</td>\n      <td>5.0</td>\n      <td>37.0</td>\n      <td>$$</td>\n      <td>False</td>\n      <td>NaN</td>\n      <td>NaN</td>\n    </tr>\n    <tr>\n      <th>31</th>\n      <td>J</td>\n      <td>Aroma kava</td>\n      <td>Cafe</td>\n      <td>4.4</td>\n      <td>226.0</td>\n      <td>$$</td>\n      <td>False</td>\n      <td>True</td>\n      <td>True</td>\n    </tr>\n    <tr>\n      <th>32</th>\n      <td>J</td>\n      <td>ЗАКУТОК - coffee hookah point</td>\n      <td>Coffee shop</td>\n      <td>5.0</td>\n      <td>15.0</td>\n      <td>$$</td>\n      <td>False</td>\n      <td>NaN</td>\n      <td>NaN</td>\n    </tr>\n    <tr>\n      <th>33</th>\n      <td>J</td>\n      <td>CoffeePot</td>\n      <td>Coffee shop</td>\n      <td>5.0</td>\n      <td>18.0</td>\n      <td>$$</td>\n      <td>False</td>\n      <td>True</td>\n      <td>NaN</td>\n    </tr>\n    <tr>\n      <th>34</th>\n      <td>F</td>\n      <td>Coffee 66</td>\n      <td>Cafe</td>\n      <td>5.0</td>\n      <td>15.0</td>\n      <td>$$</td>\n      <td>False</td>\n      <td>NaN</td>\n      <td>True</td>\n    </tr>\n    <tr>\n      <th>35</th>\n      <td>F</td>\n      <td>Godshot Coffee</td>\n      <td>Cafe</td>\n      <td>4.7</td>\n      <td>726.0</td>\n      <td>$$</td>\n      <td>False</td>\n      <td>True</td>\n      <td>True</td>\n    </tr>\n    <tr>\n      <th>36</th>\n      <td>F</td>\n      <td>Prostir.coffee Таврик</td>\n      <td>Coffee shop</td>\n      <td>5.0</td>\n      <td>26.0</td>\n      <td>$$</td>\n      <td>False</td>\n      <td>True</td>\n      <td>NaN</td>\n    </tr>\n    <tr>\n      <th>37</th>\n      <td>F</td>\n      <td>coffee House</td>\n      <td>Coffee shop</td>\n      <td>4.7</td>\n      <td>279.0</td>\n      <td>$$</td>\n      <td>False</td>\n      <td>True</td>\n      <td>True</td>\n    </tr>\n    <tr>\n      <th>38</th>\n      <td>F</td>\n      <td>CoffeeOk</td>\n      <td>Coffee shop</td>\n      <td>4.9</td>\n      <td>18.0</td>\n      <td>$$</td>\n      <td>False</td>\n      <td>NaN</td>\n      <td>True</td>\n    </tr>\n    <tr>\n      <th>39</th>\n      <td>F</td>\n      <td>Кофе с Совой</td>\n      <td>Espresso bar</td>\n      <td>4.9</td>\n      <td>46.0</td>\n      <td>$$</td>\n      <td>False</td>\n      <td>NaN</td>\n      <td>True</td>\n    </tr>\n    <tr>\n      <th>40</th>\n      <td>F</td>\n      <td>Кофе В Херсоне</td>\n      <td>Cafe</td>\n      <td>NaN</td>\n      <td>NaN</td>\n      <td>$$</td>\n      <td>False</td>\n      <td>NaN</td>\n      <td>NaN</td>\n    </tr>\n    <tr>\n      <th>41</th>\n      <td>F</td>\n      <td>Don Marco coffee shop</td>\n      <td>Coffee shop</td>\n      <td>4.4</td>\n      <td>593.0</td>\n      <td>$$</td>\n      <td>False</td>\n      <td>True</td>\n      <td>True</td>\n    </tr>\n    <tr>\n      <th>42</th>\n      <td>F</td>\n      <td>Koko</td>\n      <td>Coffee shop</td>\n      <td>4.4</td>\n      <td>1201.0</td>\n      <td>$$</td>\n      <td>False</td>\n      <td>True</td>\n      <td>True</td>\n    </tr>\n    <tr>\n      <th>43</th>\n      <td>F</td>\n      <td>Coffee house</td>\n      <td>Coffee shop</td>\n      <td>4.4</td>\n      <td>67.0</td>\n      <td>$$</td>\n      <td>False</td>\n      <td>NaN</td>\n      <td>True</td>\n    </tr>\n    <tr>\n      <th>44</th>\n      <td>F</td>\n      <td>Coffeehouse Na Poshtovomu Provulku</td>\n      <td>Coffee shop</td>\n      <td>4.6</td>\n      <td>275.0</td>\n      <td>$$</td>\n      <td>False</td>\n      <td>True</td>\n      <td>True</td>\n    </tr>\n    <tr>\n      <th>45</th>\n      <td>F</td>\n      <td>Just Coffee Kherson</td>\n      <td>Espresso bar</td>\n      <td>4.5</td>\n      <td>27.0</td>\n      <td>$$</td>\n      <td>False</td>\n      <td>NaN</td>\n      <td>True</td>\n    </tr>\n    <tr>\n      <th>46</th>\n      <td>F</td>\n      <td>Don Marco</td>\n      <td>Coffee shop</td>\n      <td>4.4</td>\n      <td>304.0</td>\n      <td>$$</td>\n      <td>False</td>\n      <td>True</td>\n      <td>True</td>\n    </tr>\n    <tr>\n      <th>47</th>\n      <td>F</td>\n      <td>Green house</td>\n      <td>Cafe</td>\n      <td>4.5</td>\n      <td>598.0</td>\n      <td>$$</td>\n      <td>True</td>\n      <td>True</td>\n      <td>True</td>\n    </tr>\n    <tr>\n      <th>48</th>\n      <td>F</td>\n      <td>Kofemolka</td>\n      <td>Coffee shop</td>\n      <td>4.7</td>\n      <td>97.0</td>\n      <td>$$</td>\n      <td>False</td>\n      <td>NaN</td>\n      <td>True</td>\n    </tr>\n    <tr>\n      <th>49</th>\n      <td>B</td>\n      <td>Art Coffee - Інтернет Магазин Кави та Чаю</td>\n      <td>Others</td>\n      <td>5.0</td>\n      <td>12.0</td>\n      <td>$$</td>\n      <td>True</td>\n      <td>NaN</td>\n      <td>NaN</td>\n    </tr>\n  </tbody>\n</table>\n</div>"
     },
     "execution_count": 17,
     "metadata": {},
     "output_type": "execute_result"
    }
   ],
   "source": [
    "# view the validation and train data\n",
    "validation.head(50)\n",
    "train.head(50)"
   ],
   "metadata": {
    "collapsed": false,
    "ExecuteTime": {
     "end_time": "2024-01-20T03:07:27.018653Z",
     "start_time": "2024-01-20T03:07:26.969002Z"
    }
   },
   "id": "db4fd50a5fa1c9c8",
   "execution_count": 17
  },
  {
   "cell_type": "code",
   "outputs": [
    {
     "ename": "KeyError",
     "evalue": "'Dine in option'",
     "output_type": "error",
     "traceback": [
      "\u001B[0;31m---------------------------------------------------------------------------\u001B[0m",
      "\u001B[0;31mKeyError\u001B[0m                                  Traceback (most recent call last)",
      "File \u001B[0;32m~/anaconda3/envs/untitled/lib/python3.8/site-packages/pandas/core/indexes/base.py:3653\u001B[0m, in \u001B[0;36mIndex.get_loc\u001B[0;34m(self, key)\u001B[0m\n\u001B[1;32m   3652\u001B[0m \u001B[38;5;28;01mtry\u001B[39;00m:\n\u001B[0;32m-> 3653\u001B[0m     \u001B[38;5;28;01mreturn\u001B[39;00m \u001B[38;5;28;43mself\u001B[39;49m\u001B[38;5;241;43m.\u001B[39;49m\u001B[43m_engine\u001B[49m\u001B[38;5;241;43m.\u001B[39;49m\u001B[43mget_loc\u001B[49m\u001B[43m(\u001B[49m\u001B[43mcasted_key\u001B[49m\u001B[43m)\u001B[49m\n\u001B[1;32m   3654\u001B[0m \u001B[38;5;28;01mexcept\u001B[39;00m \u001B[38;5;167;01mKeyError\u001B[39;00m \u001B[38;5;28;01mas\u001B[39;00m err:\n",
      "File \u001B[0;32m~/anaconda3/envs/untitled/lib/python3.8/site-packages/pandas/_libs/index.pyx:147\u001B[0m, in \u001B[0;36mpandas._libs.index.IndexEngine.get_loc\u001B[0;34m()\u001B[0m\n",
      "File \u001B[0;32m~/anaconda3/envs/untitled/lib/python3.8/site-packages/pandas/_libs/index.pyx:176\u001B[0m, in \u001B[0;36mpandas._libs.index.IndexEngine.get_loc\u001B[0;34m()\u001B[0m\n",
      "File \u001B[0;32mpandas/_libs/hashtable_class_helper.pxi:7080\u001B[0m, in \u001B[0;36mpandas._libs.hashtable.PyObjectHashTable.get_item\u001B[0;34m()\u001B[0m\n",
      "File \u001B[0;32mpandas/_libs/hashtable_class_helper.pxi:7088\u001B[0m, in \u001B[0;36mpandas._libs.hashtable.PyObjectHashTable.get_item\u001B[0;34m()\u001B[0m\n",
      "\u001B[0;31mKeyError\u001B[0m: 'Dine in option'",
      "\nThe above exception was the direct cause of the following exception:\n",
      "\u001B[0;31mKeyError\u001B[0m                                  Traceback (most recent call last)",
      "Cell \u001B[0;32mIn[18], line 16\u001B[0m\n\u001B[1;32m     13\u001B[0m X_test \u001B[38;5;241m=\u001B[39m validation\u001B[38;5;241m.\u001B[39mdrop(\u001B[38;5;124m'\u001B[39m\u001B[38;5;124mRating\u001B[39m\u001B[38;5;124m'\u001B[39m, axis\u001B[38;5;241m=\u001B[39m\u001B[38;5;241m1\u001B[39m)\n\u001B[1;32m     15\u001B[0m \u001B[38;5;66;03m# impute missing values with False in 'Dine in option' and 'Takeout option' columns\u001B[39;00m\n\u001B[0;32m---> 16\u001B[0m X_train[\u001B[38;5;124m'\u001B[39m\u001B[38;5;124mDine in option\u001B[39m\u001B[38;5;124m'\u001B[39m] \u001B[38;5;241m=\u001B[39m \u001B[43mX_train\u001B[49m\u001B[43m[\u001B[49m\u001B[38;5;124;43m'\u001B[39;49m\u001B[38;5;124;43mDine in option\u001B[39;49m\u001B[38;5;124;43m'\u001B[39;49m\u001B[43m]\u001B[49m\u001B[38;5;241m.\u001B[39mfillna(\u001B[38;5;28;01mFalse\u001B[39;00m)\n\u001B[1;32m     17\u001B[0m X_train[\u001B[38;5;124m'\u001B[39m\u001B[38;5;124mTakeout option\u001B[39m\u001B[38;5;124m'\u001B[39m] \u001B[38;5;241m=\u001B[39m X_train[\u001B[38;5;124m'\u001B[39m\u001B[38;5;124mTakeout option\u001B[39m\u001B[38;5;124m'\u001B[39m]\u001B[38;5;241m.\u001B[39mfillna(\u001B[38;5;28;01mFalse\u001B[39;00m)\n\u001B[1;32m     18\u001B[0m X_test[\u001B[38;5;124m'\u001B[39m\u001B[38;5;124mDine in option\u001B[39m\u001B[38;5;124m'\u001B[39m] \u001B[38;5;241m=\u001B[39m X_test[\u001B[38;5;124m'\u001B[39m\u001B[38;5;124mDine in option\u001B[39m\u001B[38;5;124m'\u001B[39m]\u001B[38;5;241m.\u001B[39mfillna(\u001B[38;5;28;01mFalse\u001B[39;00m)\n",
      "File \u001B[0;32m~/anaconda3/envs/untitled/lib/python3.8/site-packages/pandas/core/frame.py:3761\u001B[0m, in \u001B[0;36mDataFrame.__getitem__\u001B[0;34m(self, key)\u001B[0m\n\u001B[1;32m   3759\u001B[0m \u001B[38;5;28;01mif\u001B[39;00m \u001B[38;5;28mself\u001B[39m\u001B[38;5;241m.\u001B[39mcolumns\u001B[38;5;241m.\u001B[39mnlevels \u001B[38;5;241m>\u001B[39m \u001B[38;5;241m1\u001B[39m:\n\u001B[1;32m   3760\u001B[0m     \u001B[38;5;28;01mreturn\u001B[39;00m \u001B[38;5;28mself\u001B[39m\u001B[38;5;241m.\u001B[39m_getitem_multilevel(key)\n\u001B[0;32m-> 3761\u001B[0m indexer \u001B[38;5;241m=\u001B[39m \u001B[38;5;28;43mself\u001B[39;49m\u001B[38;5;241;43m.\u001B[39;49m\u001B[43mcolumns\u001B[49m\u001B[38;5;241;43m.\u001B[39;49m\u001B[43mget_loc\u001B[49m\u001B[43m(\u001B[49m\u001B[43mkey\u001B[49m\u001B[43m)\u001B[49m\n\u001B[1;32m   3762\u001B[0m \u001B[38;5;28;01mif\u001B[39;00m is_integer(indexer):\n\u001B[1;32m   3763\u001B[0m     indexer \u001B[38;5;241m=\u001B[39m [indexer]\n",
      "File \u001B[0;32m~/anaconda3/envs/untitled/lib/python3.8/site-packages/pandas/core/indexes/base.py:3655\u001B[0m, in \u001B[0;36mIndex.get_loc\u001B[0;34m(self, key)\u001B[0m\n\u001B[1;32m   3653\u001B[0m     \u001B[38;5;28;01mreturn\u001B[39;00m \u001B[38;5;28mself\u001B[39m\u001B[38;5;241m.\u001B[39m_engine\u001B[38;5;241m.\u001B[39mget_loc(casted_key)\n\u001B[1;32m   3654\u001B[0m \u001B[38;5;28;01mexcept\u001B[39;00m \u001B[38;5;167;01mKeyError\u001B[39;00m \u001B[38;5;28;01mas\u001B[39;00m err:\n\u001B[0;32m-> 3655\u001B[0m     \u001B[38;5;28;01mraise\u001B[39;00m \u001B[38;5;167;01mKeyError\u001B[39;00m(key) \u001B[38;5;28;01mfrom\u001B[39;00m \u001B[38;5;21;01merr\u001B[39;00m\n\u001B[1;32m   3656\u001B[0m \u001B[38;5;28;01mexcept\u001B[39;00m \u001B[38;5;167;01mTypeError\u001B[39;00m:\n\u001B[1;32m   3657\u001B[0m     \u001B[38;5;66;03m# If we have a listlike key, _check_indexing_error will raise\u001B[39;00m\n\u001B[1;32m   3658\u001B[0m     \u001B[38;5;66;03m#  InvalidIndexError. Otherwise we fall through and re-raise\u001B[39;00m\n\u001B[1;32m   3659\u001B[0m     \u001B[38;5;66;03m#  the TypeError.\u001B[39;00m\n\u001B[1;32m   3660\u001B[0m     \u001B[38;5;28mself\u001B[39m\u001B[38;5;241m.\u001B[39m_check_indexing_error(key)\n",
      "\u001B[0;31mKeyError\u001B[0m: 'Dine in option'"
     ]
    }
   ],
   "source": [
    "# Task 3: Fiting a baseline using the `train.csv`. The baseline model will use linear regression to predict the rating\n",
    "\n",
    "# import libraries needed for linear regression\n",
    "from sklearn.linear_model import LinearRegression\n",
    "from sklearn.metrics import mean_squared_error\n",
    "\n",
    "# creating the 'y' variable which is the 'Rating' column\n",
    "y_train = train['Rating']\n",
    "y_test = validation['Rating']\n",
    "\n",
    "# creating the 'X' variable which is the rest of the dataframe without the 'Rating' column\n",
    "X_train = train.drop('Rating', axis=1)\n",
    "X_test = validation.drop('Rating', axis=1)\n",
    "\n",
    "# impute missing values with False in 'Dine in option' and 'Takeout option' columns\n",
    "X_train['Dine in option'] = X_train['Dine in option'].fillna(False)\n",
    "X_train['Takeout option'] = X_train['Takeout option'].fillna(False)\n",
    "X_test['Dine in option'] = X_test['Dine in option'].fillna(False)\n",
    "X_test['Takeout option'] = X_test['Takeout option'].fillna(False)\n",
    "\n",
    "# impute missing values of reviews with the median of the column\n",
    "X_train['Reviews'] = X_train['Reviews'].fillna(X_train['Reviews'].median())\n",
    "X_test['Reviews'] = X_test['Reviews'].fillna(X_test['Reviews'].median())\n",
    "\n",
    "# encode the 'Region' column\n",
    "X_train = pd.get_dummies(X_train, columns=['Region'])\n",
    "X_test = pd.get_dummies(X_test, columns=['Region'])\n",
    "\n",
    "# encode the 'Place.type' column\n",
    "X_train = pd.get_dummies(X_train, columns=['Place.type'])\n",
    "X_test = pd.get_dummies(X_test, columns=['Place.type'])\n",
    "\n",
    "# encode the price column\n",
    "X_train['Price'] = X_train['Price'].replace({'$': 1, '$$': 2, '$$$': 3})\n",
    "X_test['Price'] = X_test['Price'].replace({'$': 1, '$$': 2, '$$$': 3})\n",
    "\n",
    "# encode the Delivery.option, Dine.in.option and Takeout.option columns with 1 for True and 0 for False\n",
    "X_train['Delivery.option'] = X_train['Delivery.option'].replace({True: 1, False: 0})\n",
    "X_train['Dine in option'] = X_train['Dine.in.option'].replace({True: 1, False: 0})\n",
    "X_train['Takeout option'] = X_train['Takeout.option'].replace({True: 1, False: 0})\n",
    "X_test['Delivery.option'] = X_test['Delivery.option'].replace({True: 1, False: 0})\n",
    "X_test['Dine in option'] = X_test['Dine.in.option'].replace({True: 1, False: 0})\n",
    "X_test['Takeout option'] = X_test['Takeout.option'].replace({True: 1, False: 0})\n",
    "\n",
    "\n",
    "# create a linear regression model by fitting the 'X' and 'y' variables\n",
    "baseline_model = LinearRegression()\n",
    "baseline_model.fit(X_train, y_train)\n",
    "\n",
    "# predict the 'Rating' column using the 'X_test' variable\n",
    "baseline_pred = baseline_model.predict(X_test)\n",
    "\n",
    "# calculate the RMSE of the baseline model\n",
    "baseline_rmse = np.sqrt(mean_squared_error(y_test, baseline_pred))\n",
    "print('Baseline RMSE: ', baseline_rmse)\n",
    "\n",
    "#create dataframe names 'base_result' which contains 'Place.name' and predicted 'Rating' columns\n",
    "base_result = validation[['Place.name']]\n",
    "base_result['Rating'] = baseline_pred\n",
    "\n",
    "# view the dataframe\n",
    "base_result.head(50)"
   ],
   "metadata": {
    "collapsed": false,
    "ExecuteTime": {
     "end_time": "2024-01-20T03:07:34.438728Z",
     "start_time": "2024-01-20T03:07:34.293983Z"
    }
   },
   "id": "740f9efcf4f37a22",
   "execution_count": 18
  }
 ],
 "metadata": {
  "kernelspec": {
   "display_name": "Python 3",
   "language": "python",
   "name": "python3"
  },
  "language_info": {
   "codemirror_mode": {
    "name": "ipython",
    "version": 2
   },
   "file_extension": ".py",
   "mimetype": "text/x-python",
   "name": "python",
   "nbconvert_exporter": "python",
   "pygments_lexer": "ipython2",
   "version": "2.7.6"
  }
 },
 "nbformat": 4,
 "nbformat_minor": 5
}
