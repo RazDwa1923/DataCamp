{
 "cells": [
  {
   "cell_type": "markdown",
   "source": [
    "Here is a short cheat sheet for the tasks you mentioned, using Python:\n",
    "\n",
    "**2.1 Perform standard data import, joining and aggregation tasks**\n",
    "\n",
    "- Import data from flat files into Python:\n",
    "\n",
    "```python\n",
    "import pandas as pd\n",
    "\n",
    "data = pd.read_csv('file.csv')\n",
    "```\n",
    "\n",
    "- Import data from databases into Python:\n",
    "\n",
    "```python\n",
    "import pandas as pd\n",
    "from sqlalchemy import create_engine\n",
    "\n",
    "engine = create_engine('sqlite:///database.db')\n",
    "data = pd.read_sql('SELECT * FROM table', engine)\n",
    "```\n",
    "\n",
    "- Aggregate numeric, categorical variables and dates by groups:\n",
    "\n",
    "```python\n",
    "grouped_data = data.groupby('group_column').agg({'numeric_column': 'mean', 'date_column': 'max'})\n",
    "```\n",
    "\n",
    "- Combine multiple tables by rows or columns:\n",
    "\n",
    "```python\n",
    "# By rows\n",
    "combined_data = pd.concat([data1, data2])\n",
    "\n",
    "# By columns\n",
    "combined_data = pd.concat([data1, data2], axis=1)\n",
    "```\n",
    "\n",
    "- Filter data based on different criteria:\n",
    "\n",
    "```python\n",
    "filtered_data = data[data['column'] > value]\n",
    "```\n",
    "\n",
    "**2.2 Perform standard cleaning tasks to prepare data for analysis**\n",
    "\n",
    "- Match strings in a dataset with specific patterns:\n",
    "\n",
    "```python\n",
    "matched_data = data[data['column'].str.contains('pattern')]\n",
    "```\n",
    "\n",
    "- Convert values between data types:\n",
    "\n",
    "```python\n",
    "data['column'] = data['column'].astype('int')\n",
    "```\n",
    "\n",
    "- Clean categorical and text data by manipulating strings:\n",
    "\n",
    "```python\n",
    "data['column'] = data['column'].str.lower().str.strip()\n",
    "```\n",
    "\n",
    "- Clean date and time data:\n",
    "\n",
    "```python\n",
    "data['date_column'] = pd.to_datetime(data['date_column'])\n",
    "```\n",
    "\n",
    "**2.3 Assess data quality and perform validation tasks**\n",
    "\n",
    "- Identify and replace missing values:\n",
    "\n",
    "```python\n",
    "data['column'].fillna(value, inplace=True)\n",
    "```\n",
    "\n",
    "- Perform different types of data validation tasks:\n",
    "\n",
    "```python\n",
    "# Consistency\n",
    "assert data['column'].notnull().all()\n",
    "\n",
    "# Constraints\n",
    "assert (data['column'] > 0).all()\n",
    "\n",
    "# Range validation\n",
    "assert data['column'].between(min_value, max_value).all()\n",
    "\n",
    "# Uniqueness\n",
    "assert data['column'].is_unique\n",
    "```\n",
    "\n",
    "- Identify and validate data types in a data set:\n",
    "\n",
    "```python\n",
    "assert data['column'].dtype == 'int'\n",
    "```\n",
    "\n",
    "**2.4 Collect data from non-standard formats by modifying existing code**\n",
    "\n",
    "- Adapt provided code to import data from an API:\n",
    "\n",
    "```python\n",
    "import requests\n",
    "\n",
    "response = requests.get('https://api.url')\n",
    "data = response.json()\n",
    "```\n",
    "\n",
    "- Identify the structure of HTML and JSON data and parse them into a usable format:\n",
    "\n",
    "```python\n",
    "import json\n",
    "import pandas as pd\n",
    "from bs4 import BeautifulSoup\n",
    "\n",
    "# JSON\n",
    "data = json.loads(json_string)\n",
    "\n",
    "# HTML\n",
    "soup = BeautifulSoup(html_string, 'html.parser')\n",
    "```\n",
    "\n",
    "Please note that these are basic examples and might need to be adjusted based on your specific use case."
   ],
   "metadata": {
    "collapsed": false
   },
   "id": "6bbdbec08de5d645"
  },
  {
   "cell_type": "markdown",
   "source": [
    "Here is a short cheat sheet for the tasks you mentioned, using Python:\n",
    "\n",
    "**3.1 Prepare data for modeling by implementing relevant transformations**\n",
    "\n",
    "- Create new features from existing data:\n",
    "\n",
    "```python\n",
    "# Creating categories from continuous data\n",
    "data['category'] = pd.cut(data['continuous_column'], bins=3, labels=['low', 'medium', 'high'])\n",
    "\n",
    "# Combining variables with external data\n",
    "data = pd.merge(data, external_data, on='common_column')\n",
    "```\n",
    "\n",
    "- Importance of splitting data: Splitting data into training, testing, and validation sets allows us to train our model on one set of data (training set), tune our model's hyperparameters with another set (validation set), and then test our model's performance on unseen data (test set).\n",
    "\n",
    "```python\n",
    "from sklearn.model_selection import train_test_split\n",
    "\n",
    "X_train, X_test, y_train, y_test = train_test_split(X, y, test_size=0.2, random_state=42)\n",
    "```\n",
    "\n",
    "- Importance of scaling data: Scaling data is important because many machine learning algorithms perform better when numerical input variables are scaled to a standard range.\n",
    "\n",
    "```python\n",
    "from sklearn.preprocessing import StandardScaler\n",
    "\n",
    "scaler = StandardScaler()\n",
    "X_train_scaled = scaler.fit_transform(X_train)\n",
    "X_test_scaled = scaler.transform(X_test)\n",
    "```\n",
    "\n",
    "- Transform categorical data for modeling:\n",
    "\n",
    "```python\n",
    "data = pd.get_dummies(data, columns=['categorical_column'])\n",
    "```\n",
    "\n",
    "**3.2 Implement standard modeling approaches for supervised learning problems**\n",
    "\n",
    "- Identify regression problems and implement models:\n",
    "\n",
    "```python\n",
    "from sklearn.linear_model import LinearRegression\n",
    "\n",
    "model = LinearRegression()\n",
    "model.fit(X_train, y_train)\n",
    "```\n",
    "\n",
    "- Identify classification problems and implement models:\n",
    "\n",
    "```python\n",
    "from sklearn.linear_model import LogisticRegression\n",
    "\n",
    "model = LogisticRegression()\n",
    "model.fit(X_train, y_train)\n",
    "```\n",
    "\n",
    "**3.3 Implement approaches for unsupervised learning problems**\n",
    "\n",
    "- Identify clustering problems and implement approaches:\n",
    "\n",
    "```python\n",
    "from sklearn.cluster import KMeans\n",
    "\n",
    "kmeans = KMeans(n_clusters=3)\n",
    "kmeans.fit(X)\n",
    "```\n",
    "\n",
    "- Explain dimensionality reduction techniques and implement the techniques:\n",
    "\n",
    "```python\n",
    "from sklearn.decomposition import PCA\n",
    "\n",
    "pca = PCA(n_components=2)\n",
    "X_pca = pca.fit_transform(X)\n",
    "```\n",
    "\n",
    "**3.4 Use suitable methods to assess the performance of a model**\n",
    "\n",
    "- Select metrics to evaluate regression models and calculate the metrics:\n",
    "\n",
    "```python\n",
    "from sklearn.metrics import mean_squared_error\n",
    "\n",
    "y_pred = model.predict(X_test)\n",
    "mse = mean_squared_error(y_test, y_pred)\n",
    "```\n",
    "\n",
    "- Select metrics to evaluate classification models and calculate the metrics:\n",
    "\n",
    "```python\n",
    "from sklearn.metrics import accuracy_score\n",
    "\n",
    "y_pred = model.predict(X_test)\n",
    "accuracy = accuracy_score(y_test, y_pred)\n",
    "```\n",
    "\n",
    "- Select metrics and visualizations to evaluate clustering models:\n",
    "\n",
    "```python\n",
    "from sklearn.metrics import silhouette_score\n",
    "\n",
    "score = silhouette_score(X, kmeans.labels_)\n",
    "```\n",
    "\n",
    "Please note that these are basic examples and might need to be adjusted based on your specific use case."
   ],
   "metadata": {
    "collapsed": false
   },
   "id": "11760bf0dedd1b63"
  },
  {
   "cell_type": "markdown",
   "source": [
    "**4.1 Use common programming constructs to write repeatable production quality code for analysis**\n",
    "\n",
    "- Define, write and execute functions in Python:\n",
    "\n",
    "```python\n",
    "def add_numbers(a, b):\n",
    "    return a + b\n",
    "\n",
    "result = add_numbers(5, 7)\n",
    "```\n",
    "\n",
    "- Use and write control flow statements in Python:\n",
    "\n",
    "```python\n",
    "if result > 10:\n",
    "    print(\"Result is greater than 10\")\n",
    "else:\n",
    "    print(\"Result is less than or equal to 10\")\n",
    "```\n",
    "\n",
    "- Use and write loops and iterations in Python:\n",
    "\n",
    "```python\n",
    "for i in range(10):\n",
    "    print(i)\n",
    "```\n",
    "\n",
    "**4.2 Demonstrates best practices in production code including version control, testing, and package development**\n",
    "\n",
    "- Basic flow and structures of package development in Python:\n",
    "\n",
    "    1. Create a directory for the package.\n",
    "    2. Inside this directory, create an `__init__.py` file.\n",
    "    3. Add your modules and scripts to this directory.\n",
    "    4. Optionally, add a `setup.py` file for package requirements.\n",
    "\n",
    "- Documenting code in packages, or modules in Python:\n",
    "\n",
    "```python\n",
    "def add_numbers(a, b):\n",
    "    \"\"\"\n",
    "    This function adds two numbers together.\n",
    "    \n",
    "    Parameters:\n",
    "    a (int): The first number\n",
    "    b (int): The second number\n",
    "\n",
    "    Returns:\n",
    "    int: The sum of a and b\n",
    "    \"\"\"\n",
    "    return a + b\n",
    "```\n",
    "\n",
    "- Importance of testing and writing testing statements in Python:\n",
    "\n",
    "Testing is important to ensure your code behaves as expected. Here's a simple test using the `assert` statement:\n",
    "\n",
    "```python\n",
    "def test_add_numbers():\n",
    "    assert add_numbers(2, 3) == 5\n",
    "```\n",
    "\n",
    "- Importance of version control and key concepts of versioning:\n",
    "\n",
    "Version control is important for tracking changes, collaborating, and maintaining the history of your code. Key concepts include commits (saving changes), branches (isolating changes for specific features), and merges (combining changes from different branches)."
   ],
   "metadata": {
    "collapsed": false
   },
   "id": "583115e68a020df5"
  },
  {
   "cell_type": "markdown",
   "source": [],
   "metadata": {
    "collapsed": false
   },
   "id": "c4593b510c97775f"
  },
  {
   "cell_type": "markdown",
   "source": [
    "Sure, here's a short cheat sheet for using the `pivot_table()` function in Python with the pandas library:\n",
    "\n",
    "- Basic usage of `pivot_table()`:\n",
    "\n",
    "```python\n",
    "import pandas as pd\n",
    "\n",
    "# Assuming 'df' is your DataFrame and 'index_column', 'column' and 'values_column' are column names in 'df'\n",
    "pivot_table = df.pivot_table(index='index_column', columns='column', values='values_column')\n",
    "```\n",
    "\n",
    "- Using `pivot_table()` with multiple index columns:\n",
    "\n",
    "```python\n",
    "pivot_table = df.pivot_table(index=['index_column1', 'index_column2'], columns='column', values='values_column')\n",
    "```\n",
    "\n",
    "- Using `pivot_table()` with multiple columns:\n",
    "\n",
    "```python\n",
    "pivot_table = df.pivot_table(index='index_column', columns=['column1', 'column2'], values='values_column')\n",
    "```\n",
    "\n",
    "- Using `pivot_table()` with multiple values columns:\n",
    "\n",
    "```python\n",
    "pivot_table = df.pivot_table(index='index_column', columns='column', values=['values_column1', 'values_column2'])\n",
    "```\n",
    "\n",
    "- Using `pivot_table()` with an aggregation function:\n",
    "\n",
    "```python\n",
    "pivot_table = df.pivot_table(index='index_column', columns='column', values='values_column', aggfunc='mean')\n",
    "```\n",
    "\n",
    "- Filling missing values in the pivot table:\n",
    "\n",
    "```python\n",
    "pivot_table = df.pivot_table(index='index_column', columns='column', values='values_column', fill_value=0)\n",
    "```\n",
    "\n",
    "Please replace `'df'`, `'index_column'`, `'column'`, and `'values_column'` with your actual DataFrame and column names."
   ],
   "metadata": {
    "collapsed": false
   },
   "id": "ddb16eceb8194114"
  },
  {
   "cell_type": "markdown",
   "source": [],
   "metadata": {
    "collapsed": false
   },
   "id": "cce9af8f5b7d5fb4"
  },
  {
   "cell_type": "markdown",
   "source": [],
   "metadata": {
    "collapsed": false
   },
   "id": "5c2406d4239dae9c"
  },
  {
   "cell_type": "markdown",
   "source": [],
   "metadata": {
    "collapsed": false
   },
   "id": "9b4daaf3dbd01777"
  },
  {
   "cell_type": "markdown",
   "source": [
    "Sure, here's a short cheat sheet for Object-Oriented Programming (OOP) in Python:\n",
    "\n",
    "**1. Class Definition**\n",
    "\n",
    "A class is a blueprint for creating objects. It contains variables and methods.\n",
    "\n",
    "```python\n",
    "class MyClass:\n",
    "    x = 5  # class variable\n",
    "\n",
    "    def my_method(self):  # class method\n",
    "        return 'Hello, world!'\n",
    "```\n",
    "\n",
    "**2. Object Instantiation**\n",
    "\n",
    "An object is an instance of a class. You can create multiple objects from a class.\n",
    "\n",
    "```python\n",
    "obj = MyClass()\n",
    "```\n",
    "\n",
    "**3. Accessing Object Variables**\n",
    "\n",
    "You can access the object's variables using the dot operator.\n",
    "\n",
    "```python\n",
    "print(obj.x)  # prints: 5\n",
    "```\n",
    "\n",
    "**4. Accessing Object Methods**\n",
    "\n",
    "You can also call an object's methods using the dot operator.\n",
    "\n",
    "```python\n",
    "print(obj.my_method())  # prints: Hello, world!\n",
    "```\n",
    "\n",
    "**5. The `__init__` Method**\n",
    "\n",
    "The `__init__` method is a special method that's called when an object is instantiated. It's typically used to initialize the object's variables.\n",
    "\n",
    "```python\n",
    "class MyClass:\n",
    "    def __init__(self, x):\n",
    "        self.x = x  # instance variable\n",
    "```\n",
    "\n",
    "**6. Inheritance**\n",
    "\n",
    "Inheritance allows a class to inherit the properties and methods of another class.\n",
    "\n",
    "```python\n",
    "class MyDerivedClass(MyClass):\n",
    "    pass\n",
    "```\n",
    "\n",
    "**7. Overriding Methods**\n",
    "\n",
    "In a derived class, you can provide a different implementation of a method that's already defined in the base class.\n",
    "\n",
    "```python\n",
    "class MyDerivedClass(MyClass):\n",
    "    def my_method(self):\n",
    "        return 'Hello, world from derived class!'\n",
    "```\n",
    "\n",
    "**8. Super Function**\n",
    "\n",
    "The `super` function allows you to call methods in the base class from the derived class.\n",
    "\n",
    "```python\n",
    "class MyDerivedClass(MyClass):\n",
    "    def my_method(self):\n",
    "        super().my_method()  # calls my_method from MyClass\n",
    "        return 'Hello, world from derived class!'\n",
    "```\n",
    "\n",
    "Please replace `'MyClass'`, `'MyDerivedClass'`, `'obj'`, `'x'`, and `'my_method'` with your actual class names, object names, variable names, and method names."
   ],
   "metadata": {
    "collapsed": false
   },
   "id": "96bdac5e37e8348f"
  },
  {
   "cell_type": "markdown",
   "source": [],
   "metadata": {
    "collapsed": false
   },
   "id": "5f701a9c01932b9b"
  },
  {
   "cell_type": "markdown",
   "source": [
    "Sure, here's a short cheat sheet for merging two dataframes by columns in Python using pandas:\n",
    "\n",
    "**1. Import pandas**\n",
    "\n",
    "```python\n",
    "import pandas as pd\n",
    "```\n",
    "\n",
    "**2. Create two dataframes**\n",
    "\n",
    "```python\n",
    "df1 = pd.DataFrame({\n",
    "    'A': ['A0', 'A1', 'A2', 'A3'],\n",
    "    'B': ['B0', 'B1', 'B2', 'B3'],\n",
    "    'key': ['K0', 'K1', 'K2', 'K3']\n",
    "})\n",
    "\n",
    "df2 = pd.DataFrame({\n",
    "    'C': ['C0', 'C1', 'C2', 'C3'],\n",
    "    'D': ['D0', 'D1', 'D2', 'D3'],\n",
    "    'key': ['K0', 'K1', 'K2', 'K3']\n",
    "})\n",
    "```\n",
    "\n",
    "**3. Merge dataframes on a key column**\n",
    "\n",
    "```python\n",
    "merged_df = pd.merge(df1, df2, on='key')\n",
    "```\n",
    "\n",
    "**4. Merge dataframes on multiple key columns**\n",
    "\n",
    "```python\n",
    "merged_df = pd.merge(df1, df2, on=['key1', 'key2'])\n",
    "```\n",
    "\n",
    "**5. Merge using different join types**\n",
    "\n",
    "- Inner join (default):\n",
    "\n",
    "```python\n",
    "merged_df = pd.merge(df1, df2, on='key', how='inner')\n",
    "```\n",
    "\n",
    "- Left join:\n",
    "\n",
    "```python\n",
    "merged_df = pd.merge(df1, df2, on='key', how='left')\n",
    "```\n",
    "\n",
    "- Right join:\n",
    "\n",
    "```python\n",
    "merged_df = pd.merge(df1, df2, on='key', how='right')\n",
    "```\n",
    "\n",
    "- Outer join:\n",
    "\n",
    "```python\n",
    "merged_df = pd.merge(df1, df2, on='key', how='outer')\n",
    "```\n",
    "\n",
    "Please replace `'df1'`, `'df2'`, `'merged_df'`, `'key'`, `'key1'`, `'key2'`, `'A'`, `'B'`, `'C'`, `'D'`, `'K0'`, `'K1'`, `'K2'`, and `'K3'` with your actual dataframe names, column names, and values."
   ],
   "metadata": {
    "collapsed": false
   },
   "id": "f77edbabc6d85136"
  },
  {
   "cell_type": "markdown",
   "source": [],
   "metadata": {
    "collapsed": false
   },
   "id": "f39a8f51f18270f5"
  },
  {
   "cell_type": "markdown",
   "source": [],
   "metadata": {
    "collapsed": false
   },
   "id": "2bccfa9add344c29"
  },
  {
   "cell_type": "markdown",
   "source": [],
   "metadata": {
    "collapsed": false
   },
   "id": "4a241cd69c3b24c"
  },
  {
   "cell_type": "markdown",
   "source": [],
   "metadata": {
    "collapsed": false
   },
   "id": "aaa62c0eb0419075"
  },
  {
   "cell_type": "markdown",
   "source": [],
   "metadata": {
    "collapsed": false
   },
   "id": "9517a08595eddbf7"
  },
  {
   "cell_type": "markdown",
   "source": [],
   "metadata": {
    "collapsed": false
   },
   "id": "866b20f39450c91c"
  },
  {
   "cell_type": "code",
   "outputs": [
    {
     "data": {
      "text/plain": "array([[1, 2, 3],\n       [4, 5, 6],\n       [7, 8, 9]])"
     },
     "execution_count": 45,
     "metadata": {},
     "output_type": "execute_result"
    }
   ],
   "source": [
    "import numpy as np\n",
    "\n",
    "matrix = np.array([[1, 2, 3], [4, 5, 6], [7, 8, 9]])\n",
    "\n",
    "matrix"
   ],
   "metadata": {
    "collapsed": false,
    "ExecuteTime": {
     "end_time": "2024-02-04T04:50:28.803546Z",
     "start_time": "2024-02-04T04:50:28.787494Z"
    }
   },
   "id": "ae911a37f74985bc",
   "execution_count": 45
  },
  {
   "cell_type": "code",
   "outputs": [
    {
     "data": {
      "text/plain": "array([[1, 2],\n       [4, 5],\n       [7, 8]])"
     },
     "execution_count": 46,
     "metadata": {},
     "output_type": "execute_result"
    }
   ],
   "source": [
    "matrix[:,0:2]"
   ],
   "metadata": {
    "collapsed": false,
    "ExecuteTime": {
     "end_time": "2024-02-04T04:50:28.829220Z",
     "start_time": "2024-02-04T04:50:28.805911Z"
    }
   },
   "id": "19fc0e28edbfc091",
   "execution_count": 46
  },
  {
   "cell_type": "code",
   "outputs": [],
   "source": [
    "class Car:\n",
    "    def __init__(self, brand, model, year):\n",
    "        self.brand = brand\n",
    "        self.model = model\n",
    "        self.year = year\n",
    "\n",
    "    def start_engine(self):\n",
    "        return \"The engine is started.\""
   ],
   "metadata": {
    "collapsed": false,
    "ExecuteTime": {
     "end_time": "2024-02-04T04:50:28.840408Z",
     "start_time": "2024-02-04T04:50:28.809413Z"
    }
   },
   "id": "995c8c2e0cfb07b4",
   "execution_count": 47
  },
  {
   "cell_type": "code",
   "outputs": [
    {
     "name": "stdout",
     "output_type": "stream",
     "text": [
      "The engine is started.\n"
     ]
    }
   ],
   "source": [
    "\n",
    "# Create an object of the Car class\n",
    "my_car = Car(\"Toyota\", \"Corolla\", 2020)\n",
    "luka_car = Car(\"Toyota\", \"Camry\", 2010)\n",
    "\n",
    "# Access the object's attributes\n",
    "#print(luka_car.model)  # prints: Toyota\n",
    "\n",
    "# Call the object's methods\n",
    "print(my_car.start_engine())  # prints: The engine is started."
   ],
   "metadata": {
    "collapsed": false,
    "ExecuteTime": {
     "end_time": "2024-02-04T04:50:28.840979Z",
     "start_time": "2024-02-04T04:50:28.818664Z"
    }
   },
   "id": "ed135dc1c7e00a68",
   "execution_count": 48
  },
  {
   "cell_type": "markdown",
   "source": [],
   "metadata": {
    "collapsed": false
   },
   "id": "f3c1d80cbec1cf67"
  },
  {
   "cell_type": "code",
   "outputs": [
    {
     "name": "stdout",
     "output_type": "stream",
     "text": [
      "[(0, 'apple'), (1, 'banana'), (2, 'grapes'), (3, 'pear')]\n"
     ]
    }
   ],
   "source": [
    "# Create a list\n",
    "my_list = ['apple', 'banana', 'grapes', 'pear']\n",
    "\n",
    "# Create an enumerate object from the list\n",
    "enumerate_list = enumerate(my_list)\n",
    "\n",
    "# Convert the enumerate object to a list and print it\n",
    "print(list(enumerate_list))"
   ],
   "metadata": {
    "collapsed": false,
    "ExecuteTime": {
     "end_time": "2024-02-04T04:50:28.864860Z",
     "start_time": "2024-02-04T04:50:28.845964Z"
    }
   },
   "id": "e571748079d322dd",
   "execution_count": 49
  },
  {
   "cell_type": "code",
   "outputs": [
    {
     "name": "stdout",
     "output_type": "stream",
     "text": [
      "Index: 0, Value: apple\n",
      "Index: 1, Value: banana\n",
      "Index: 2, Value: grapes\n",
      "Index: 3, Value: pear\n"
     ]
    }
   ],
   "source": [
    "# Create a list\n",
    "my_list = ['apple', 'banana', 'grapes', 'pear']\n",
    "\n",
    "# Create an enumerate object from the list\n",
    "enumerate_list = enumerate(my_list)\n",
    "\n",
    "# Unpack the enumerate object using a for loop\n",
    "for index, value in enumerate_list:\n",
    "    print(f\"Index: {index}, Value: {value}\")"
   ],
   "metadata": {
    "collapsed": false,
    "ExecuteTime": {
     "end_time": "2024-02-04T04:50:28.890736Z",
     "start_time": "2024-02-04T04:50:28.866153Z"
    }
   },
   "id": "23c64c5fdeb98658",
   "execution_count": 50
  },
  {
   "cell_type": "markdown",
   "source": [],
   "metadata": {
    "collapsed": false
   },
   "id": "b32e1d4d520960b1"
  },
  {
   "cell_type": "markdown",
   "source": [
    "Sure, here's a cheat sheet for the topics you mentioned:\n",
    "\n",
    "**1. `enumerate()` in Python:**\n",
    "\n",
    "```python\n",
    "# Create a list\n",
    "my_list = ['apple', 'banana', 'grapes', 'pear']\n",
    "\n",
    "# Create an enumerate object from the list\n",
    "enumerate_list = enumerate(my_list)\n",
    "\n",
    "# Convert the enumerate object to a list and print it\n",
    "print(list(enumerate_list))\n",
    "```\n",
    "\n",
    "**2. Unpacking `enumerate()` in Python:**\n",
    "\n",
    "```python\n",
    "# Create a list\n",
    "my_list = ['apple', 'banana', 'grapes', 'pear']\n",
    "\n",
    "# Unpack the enumerate object using a for loop\n",
    "for index, value in enumerate(my_list):\n",
    "    print(f\"Index: {index}, Value: {value}\")\n",
    "```\n",
    "\n",
    "**3. List Comprehensions in Python:**\n",
    "\n",
    "```python\n",
    "# Create a new list with each element squared\n",
    "new_list = [x**2 for x in range(10)]\n",
    "```\n",
    "\n",
    "**4. Conditionals in List Comprehensions in Python:**\n",
    "\n",
    "```python\n",
    "# Create a new list with only the squares of the even numbers\n",
    "new_list = [x**2 for x in range(10) if x % 2 == 0]\n",
    "```\n",
    "\n",
    "**5. Dictionary Comprehensions in Python:**\n",
    "\n",
    "```python\n",
    "# Create a new dictionary with numbers and their squares\n",
    "new_dict = {x: x**2 for x in range(10)}\n",
    "```\n",
    "\n",
    "**6. Generators in Python:**\n",
    "\n",
    "```python\n",
    "# Create a generator that yields the squares of numbers\n",
    "def gen():\n",
    "    for x in range(10):\n",
    "        yield x**2\n",
    "\n",
    "# Use the generator\n",
    "for value in gen():\n",
    "    print(value)\n",
    "```\n",
    "\n",
    "**7. Difference between Comprehensions and Generators:**\n",
    "\n",
    "- Comprehensions: They are used to create new lists, dictionaries, or sets from iterables. They return the entire output at once.\n",
    "\n",
    "- Generators: They are used to create a sequence of values. They yield one value at a time, which makes them more memory-efficient when dealing with large sequences."
   ],
   "metadata": {
    "collapsed": false
   },
   "id": "1dc2414857641dc8"
  },
  {
   "cell_type": "markdown",
   "source": [
    "A list comprehension is a compact way of creating a Python list. It is a syntactic construct which creates a new list by applying an expression to each element in an existing list. The resulting list comprehension consists of outputs of the expression for each element in the original list that satisfies a certain condition.\n",
    "\n",
    "Here's the basic syntax of a list comprehension:\n",
    "\n",
    "```python\n",
    "new_list = [expression for element in old_list if condition]\n",
    "```\n",
    "\n",
    "- `expression` is a Python expression that is calculated for each `element` in the `old_list`.\n",
    "- `element` is a variable that takes each value in the `old_list` one by one.\n",
    "- `condition` is an optional filter that restricts the elements from the `old_list` that are processed.\n",
    "\n",
    "Here's an example of a list comprehension that creates a new list containing the squares of all numbers in an old list:\n",
    "\n",
    "```python\n",
    "old_list = [1, 2, 3, 4, 5]\n",
    "new_list = [x**2 for x in old_list]\n",
    "print(new_list)  # prints: [1, 4, 9, 16, 25]\n",
    "```\n",
    "\n",
    "In this example, `x**2` is the expression that's calculated for each element `x` in the `old_list`. There's no condition in this list comprehension, so it processes all elements in the `old_list`."
   ],
   "metadata": {
    "collapsed": false
   },
   "id": "40fe828a7c168065"
  },
  {
   "cell_type": "code",
   "outputs": [
    {
     "name": "stdout",
     "output_type": "stream",
     "text": [
      "[(0, 'apple'), (1, 'banana'), (2, 'grapes'), (3, 'pear')]\n"
     ]
    }
   ],
   "source": [
    "# Create a list\n",
    "my_list = ['apple', 'banana', 'grapes', 'pear']\n",
    "\n",
    "# Create an enumerate object from the list\n",
    "enumerate_list = enumerate(my_list)\n",
    "\n",
    "# Convert the enumerate object to a list and print it\n",
    "print(list(enumerate_list))"
   ],
   "metadata": {
    "collapsed": false,
    "ExecuteTime": {
     "end_time": "2024-02-04T04:54:43.255083Z",
     "start_time": "2024-02-04T04:54:43.235259Z"
    }
   },
   "id": "2bd109f0daece193",
   "execution_count": 53
  },
  {
   "cell_type": "code",
   "outputs": [
    {
     "name": "stdout",
     "output_type": "stream",
     "text": [
      "Index: 0, Value: apple\n",
      "Index: 1, Value: banana\n",
      "Index: 2, Value: grapes\n",
      "Index: 3, Value: pear\n"
     ]
    }
   ],
   "source": [
    "# Create a list\n",
    "my_list = ['apple', 'banana', 'grapes', 'pear']\n",
    "\n",
    "# Create an enumerate object from the list\n",
    "enumerate_list = enumerate(my_list)\n",
    "\n",
    "# Unpack the enumerate object using a for loop\n",
    "for index, value in enumerate_list:\n",
    "    print(f\"Index: {index}, Value: {value}\")"
   ],
   "metadata": {
    "collapsed": false,
    "ExecuteTime": {
     "end_time": "2024-02-04T04:54:48.082971Z",
     "start_time": "2024-02-04T04:54:48.076577Z"
    }
   },
   "id": "b944f11af1c81760",
   "execution_count": 54
  },
  {
   "cell_type": "code",
   "outputs": [
    {
     "data": {
      "text/plain": "[0, 4, 16, 36, 64]"
     },
     "execution_count": 57,
     "metadata": {},
     "output_type": "execute_result"
    }
   ],
   "source": [
    "# Create a new list with only the squares of the even numbers\n",
    "new_list = [x**2 for x in range(10) if x % 2 == 0]\n",
    "new_list"
   ],
   "metadata": {
    "collapsed": false,
    "ExecuteTime": {
     "end_time": "2024-02-04T04:55:47.952530Z",
     "start_time": "2024-02-04T04:55:47.938320Z"
    }
   },
   "id": "e726ac135eb57286",
   "execution_count": 57
  },
  {
   "cell_type": "code",
   "outputs": [],
   "source": [],
   "metadata": {
    "collapsed": false
   },
   "id": "2d8943a830a43dd5"
  },
  {
   "cell_type": "markdown",
   "source": [
    "Sure, here's a cheat sheet for using lambda functions in Python:\n",
    "\n",
    "**1. Basic Syntax of Lambda Function**\n",
    "\n",
    "A lambda function is a small anonymous function. It can take any number of arguments, but can only have one expression.\n",
    "\n",
    "```python\n",
    "lambda arguments: expression\n",
    "```\n",
    "\n",
    "**2. Lambda Function with One Argument**\n",
    "\n",
    "A lambda function that adds 10 to the number passed in as an argument, and prints the result:\n",
    "\n",
    "```python\n",
    "x = lambda a: a + 10\n",
    "print(x(5))  # prints: 15\n",
    "```\n",
    "\n",
    "**3. Lambda Function with Multiple Arguments**\n",
    "\n",
    "A lambda function that multiplies two arguments and prints the result:\n",
    "\n",
    "```python\n",
    "x = lambda a, b: a * b\n",
    "print(x(5, 6))  # prints: 30\n",
    "```\n",
    "\n",
    "**4. Lambda Function with Conditional Logic**\n",
    "\n",
    "A lambda function that returns \"even\" if the number is even, and \"odd\" otherwise:\n",
    "\n",
    "```python\n",
    "x = lambda a: 'even' if a % 2 == 0 else 'odd'\n",
    "print(x(4))  # prints: even\n",
    "```\n",
    "\n",
    "**5. Lambda Function inside Another Function**\n",
    "\n",
    "A function definition that returns a lambda function:\n",
    "\n",
    "```python\n",
    "def myfunc(n):\n",
    "  return lambda a: a * n\n",
    "\n",
    "mydoubler = myfunc(2)\n",
    "print(mydoubler(11))  # prints: 22\n",
    "```\n",
    "\n",
    "**6. Lambda Function with map()**\n",
    "\n",
    "The `map()` function in Python takes in a function and a list. The function is called with all the items in the list and a new list is returned which contains items returned by that function for each item.\n",
    "\n",
    "```python\n",
    "my_list = [1, 2, 3, 4, 5]\n",
    "new_list = list(map(lambda x: x**2, my_list))\n",
    "print(new_list)  # prints: [1, 4, 9, 16, 25]\n",
    "```\n",
    "\n",
    "**7. Lambda Function with filter()**\n",
    "\n",
    "The `filter()` function in Python takes in a function and a list as arguments. This offers an elegant way to filter out all the elements of a sequence.\n",
    "\n",
    "```python\n",
    "my_list = [1, 2, 3, 4, 5]\n",
    "new_list = list(filter(lambda x: x % 2 == 0, my_list))\n",
    "print(new_list)  # prints: [2, 4]\n",
    "```\n",
    "\n",
    "**8. Lambda Function with reduce()**\n",
    "\n",
    "The `reduce()` function in Python applies a rolling computation to sequential pairs of values in a list.\n",
    "\n",
    "```python\n",
    "from functools import reduce\n",
    "\n",
    "my_list = [1, 2, 3, 4, 5]\n",
    "product = reduce((lambda x, y: x * y), my_list)\n",
    "print(product)  # prints: 120\n",
    "```\n",
    "\n",
    "Please replace `'x'`, `'a'`, `'b'`, `'n'`, `'myfunc'`, `'mydoubler'`, `'my_list'`, `'new_list'`, and `'product'` with your actual variable and function names."
   ],
   "metadata": {
    "collapsed": false
   },
   "id": "d0cfcb73bc217edd"
  },
  {
   "cell_type": "code",
   "outputs": [
    {
     "name": "stdout",
     "output_type": "stream",
     "text": [
      "d\n",
      "o\n",
      "g\n"
     ]
    }
   ],
   "source": [
    "i=0\n",
    "\n",
    "var= 'dog'\n",
    "\n",
    "while i < len(var):\n",
    "    print(var[i])\n",
    "    i += 1"
   ],
   "metadata": {
    "collapsed": false,
    "ExecuteTime": {
     "end_time": "2024-02-04T05:48:45.136611Z",
     "start_time": "2024-02-04T05:48:45.120197Z"
    }
   },
   "id": "32123c2859214513",
   "execution_count": 59
  },
  {
   "cell_type": "code",
   "outputs": [],
   "source": [],
   "metadata": {
    "collapsed": false
   },
   "id": "ce4a8cb7d069021f"
  }
 ],
 "metadata": {
  "kernelspec": {
   "display_name": "Python 3",
   "language": "python",
   "name": "python3"
  },
  "language_info": {
   "codemirror_mode": {
    "name": "ipython",
    "version": 2
   },
   "file_extension": ".py",
   "mimetype": "text/x-python",
   "name": "python",
   "nbconvert_exporter": "python",
   "pygments_lexer": "ipython2",
   "version": "2.7.6"
  }
 },
 "nbformat": 4,
 "nbformat_minor": 5
}
