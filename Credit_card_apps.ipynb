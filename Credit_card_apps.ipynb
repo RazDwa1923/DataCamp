{
 "cells": [
  {
   "cell_type": "code",
   "execution_count": 50,
   "id": "initial_id",
   "metadata": {
    "collapsed": true,
    "ExecuteTime": {
     "end_time": "2024-02-14T04:09:37.998688Z",
     "start_time": "2024-02-14T04:09:37.960157Z"
    }
   },
   "outputs": [
    {
     "data": {
      "text/plain": "  0      1      2  3  4  5  6     7  8  9   10 11 12     13   14 15\n0  b  30.83  0.000  u  g  w  v  1.25  t  t   1  f  g  00202    0  +\n1  a  58.67  4.460  u  g  q  h  3.04  t  t   6  f  g  00043  560  +\n2  a  24.50  0.500  u  g  q  h  1.50  t  f   0  f  g  00280  824  +\n3  b  27.83  1.540  u  g  w  v  3.75  t  t   5  t  g  00100    3  +\n4  b  20.17  5.625  u  g  w  v  1.71  t  f   0  f  s  00120    0  +",
      "text/html": "<div>\n<style scoped>\n    .dataframe tbody tr th:only-of-type {\n        vertical-align: middle;\n    }\n\n    .dataframe tbody tr th {\n        vertical-align: top;\n    }\n\n    .dataframe thead th {\n        text-align: right;\n    }\n</style>\n<table border=\"1\" class=\"dataframe\">\n  <thead>\n    <tr style=\"text-align: right;\">\n      <th></th>\n      <th>0</th>\n      <th>1</th>\n      <th>2</th>\n      <th>3</th>\n      <th>4</th>\n      <th>5</th>\n      <th>6</th>\n      <th>7</th>\n      <th>8</th>\n      <th>9</th>\n      <th>10</th>\n      <th>11</th>\n      <th>12</th>\n      <th>13</th>\n      <th>14</th>\n      <th>15</th>\n    </tr>\n  </thead>\n  <tbody>\n    <tr>\n      <th>0</th>\n      <td>b</td>\n      <td>30.83</td>\n      <td>0.000</td>\n      <td>u</td>\n      <td>g</td>\n      <td>w</td>\n      <td>v</td>\n      <td>1.25</td>\n      <td>t</td>\n      <td>t</td>\n      <td>1</td>\n      <td>f</td>\n      <td>g</td>\n      <td>00202</td>\n      <td>0</td>\n      <td>+</td>\n    </tr>\n    <tr>\n      <th>1</th>\n      <td>a</td>\n      <td>58.67</td>\n      <td>4.460</td>\n      <td>u</td>\n      <td>g</td>\n      <td>q</td>\n      <td>h</td>\n      <td>3.04</td>\n      <td>t</td>\n      <td>t</td>\n      <td>6</td>\n      <td>f</td>\n      <td>g</td>\n      <td>00043</td>\n      <td>560</td>\n      <td>+</td>\n    </tr>\n    <tr>\n      <th>2</th>\n      <td>a</td>\n      <td>24.50</td>\n      <td>0.500</td>\n      <td>u</td>\n      <td>g</td>\n      <td>q</td>\n      <td>h</td>\n      <td>1.50</td>\n      <td>t</td>\n      <td>f</td>\n      <td>0</td>\n      <td>f</td>\n      <td>g</td>\n      <td>00280</td>\n      <td>824</td>\n      <td>+</td>\n    </tr>\n    <tr>\n      <th>3</th>\n      <td>b</td>\n      <td>27.83</td>\n      <td>1.540</td>\n      <td>u</td>\n      <td>g</td>\n      <td>w</td>\n      <td>v</td>\n      <td>3.75</td>\n      <td>t</td>\n      <td>t</td>\n      <td>5</td>\n      <td>t</td>\n      <td>g</td>\n      <td>00100</td>\n      <td>3</td>\n      <td>+</td>\n    </tr>\n    <tr>\n      <th>4</th>\n      <td>b</td>\n      <td>20.17</td>\n      <td>5.625</td>\n      <td>u</td>\n      <td>g</td>\n      <td>w</td>\n      <td>v</td>\n      <td>1.71</td>\n      <td>t</td>\n      <td>f</td>\n      <td>0</td>\n      <td>f</td>\n      <td>s</td>\n      <td>00120</td>\n      <td>0</td>\n      <td>+</td>\n    </tr>\n  </tbody>\n</table>\n</div>"
     },
     "execution_count": 50,
     "metadata": {},
     "output_type": "execute_result"
    }
   ],
   "source": [
    "# Import necessary libraries\n",
    "import pandas as pd\n",
    "import numpy as np\n",
    "from sklearn.model_selection import train_test_split\n",
    "from sklearn.preprocessing import MinMaxScaler\n",
    "from sklearn.linear_model import LogisticRegression\n",
    "from sklearn.metrics import confusion_matrix\n",
    "from sklearn.model_selection import GridSearchCV\n",
    "\n",
    "# Load the dataset\n",
    "cc_apps = pd.read_csv(\"/Users/karolk/Python_Work/DataCamp/Datasets/Credit_card_approvals/cc_approvals.data\", header=None)\n",
    "cc_apps.head()"
   ]
  },
  {
   "cell_type": "code",
   "outputs": [],
   "source": [
    "# drop features 11 and 13 from the dataset\n",
    "cc_apps = cc_apps.drop([11, 13], axis=1)\n",
    "\n"
   ],
   "metadata": {
    "collapsed": false,
    "ExecuteTime": {
     "end_time": "2024-02-14T04:09:37.999715Z",
     "start_time": "2024-02-14T04:09:37.994230Z"
    }
   },
   "id": "3d4c48cb123e8491",
   "execution_count": 51
  },
  {
   "cell_type": "code",
   "outputs": [
    {
     "data": {
      "text/plain": "0      object\n1     float64\n2     float64\n3      object\n4      object\n5      object\n6      object\n7     float64\n8      object\n9      object\n10      int64\n12     object\n14      int64\n15     object\ndtype: object"
     },
     "execution_count": 52,
     "metadata": {},
     "output_type": "execute_result"
    }
   ],
   "source": [
    "\n",
    "# splitting the data into train and test sets (test set is 33% of the data, random_state is 42)\n",
    "cc_apps_train, cc_apps_test = train_test_split(cc_apps, test_size=0.33, random_state=42)\n",
    "\n",
    "# replace '?' with NaN\n",
    "cc_apps_train_nans_replaced = cc_apps_train.replace('?', np.nan)\n",
    "cc_apps_test_nans_replaced = cc_apps_test.replace('?', np.nan)\n",
    "\n",
    "# create a table of missing values by column\n",
    "cc_apps_train_nans_replaced.isnull().sum()\n",
    "\n",
    "# convert datatype 1 to float in the train and test sets\n",
    "cc_apps_train_nans_replaced[1] = cc_apps_train_nans_replaced[1].astype(float)\n",
    "cc_apps_test_nans_replaced[1] = cc_apps_test_nans_replaced[1].astype(float)\n",
    "\n",
    "\n",
    "# get the data types of the columns\n",
    "cc_apps_train_nans_replaced.dtypes\n"
   ],
   "metadata": {
    "collapsed": false,
    "ExecuteTime": {
     "end_time": "2024-02-14T04:09:38.012281Z",
     "start_time": "2024-02-14T04:09:38.000775Z"
    }
   },
   "id": "beebd102681b104d",
   "execution_count": 52
  },
  {
   "cell_type": "code",
   "outputs": [],
   "source": [
    "# Impute the missing values with mean imputation for columns 2, 7, 10, 14 for the train set\n",
    "# List of columns you want to impute\n",
    "columns_to_impute = [1, 2, 7, 10, 14]\n",
    "\n",
    "# Create a new DataFrame for the imputed data\n",
    "cc_apps_train_imputed = cc_apps_train_nans_replaced.copy()\n",
    "\n",
    "# Loop over the columns and impute them\n",
    "for column in columns_to_impute:\n",
    "    mean_value = cc_apps_train_imputed[column].mean()\n",
    "    cc_apps_train_imputed[column] = cc_apps_train_imputed[column].fillna(mean_value)\n",
    "\n",
    "# imputing the missing values with mean imputation for columns 2, 7, 10, 14 for the test set\n",
    "cc_apps_test_imputed = cc_apps_test_nans_replaced.copy()\n",
    "\n",
    "# Loop over the columns and impute them\n",
    "for column in columns_to_impute:\n",
    "    mean_value = cc_apps_test_imputed[column].mean()\n",
    "    cc_apps_test_imputed[column] = cc_apps_test_imputed[column].fillna(mean_value)\n"
   ],
   "metadata": {
    "collapsed": false,
    "ExecuteTime": {
     "end_time": "2024-02-14T04:09:38.052772Z",
     "start_time": "2024-02-14T04:09:38.016589Z"
    }
   },
   "id": "225197d4cb2e2492",
   "execution_count": 53
  },
  {
   "cell_type": "code",
   "outputs": [
    {
     "name": "stdout",
     "output_type": "stream",
     "text": [
      "0\n",
      "3\n",
      "4\n",
      "5\n",
      "6\n",
      "8\n",
      "9\n",
      "12\n",
      "15\n"
     ]
    }
   ],
   "source": [
    "# iterate through cc_apps_train_imputed columns with a for loop, checking for object data type and return the columns with object data type\n",
    "for column in cc_apps_train_imputed.columns:\n",
    "    if cc_apps_train_imputed[column].dtypes == 'object':\n",
    "        print(column)"
   ],
   "metadata": {
    "collapsed": false,
    "ExecuteTime": {
     "end_time": "2024-02-14T04:09:38.065060Z",
     "start_time": "2024-02-14T04:09:38.024765Z"
    }
   },
   "id": "68009492ba05cd58",
   "execution_count": 54
  },
  {
   "cell_type": "code",
   "outputs": [],
   "source": [
    "# impute the missing values for cc_apps_train_imputed and cc_apps_test_imputed using fillna method and the most frequent value using value_counts method\n",
    "for column in cc_apps_train_imputed.columns:\n",
    "    if cc_apps_train_imputed[column].dtypes == 'object':\n",
    "        cc_apps_train_imputed[column] = cc_apps_train_imputed[column].fillna(cc_apps_train_imputed[column].value_counts().index[0])\n",
    "        cc_apps_test_imputed[column] = cc_apps_test_imputed[column].fillna(cc_apps_test_imputed[column].value_counts().index[0])\n",
    "        "
   ],
   "metadata": {
    "collapsed": false,
    "ExecuteTime": {
     "end_time": "2024-02-14T04:09:38.065338Z",
     "start_time": "2024-02-14T04:09:38.036394Z"
    }
   },
   "id": "5267b9ec24ac695",
   "execution_count": 55
  },
  {
   "cell_type": "code",
   "outputs": [],
   "source": [
    "# Convert the categorical features in the train and test sets independently\n",
    "cc_apps_train_cat_encoding = pd.get_dummies(cc_apps_train_imputed)\n",
    "cc_apps_test_cat_encoding = pd.get_dummies(cc_apps_test_imputed)\n",
    "\n",
    "# Reindex the columns of the test set aligning with the train set\n",
    "cc_apps_test_cat_encoding = cc_apps_test_cat_encoding.reindex(\n",
    "    columns=cc_apps_train_cat_encoding.columns, fill_value=0\n",
    ")"
   ],
   "metadata": {
    "collapsed": false,
    "ExecuteTime": {
     "end_time": "2024-02-14T04:09:38.096649Z",
     "start_time": "2024-02-14T04:09:38.044069Z"
    }
   },
   "id": "7731751220e4bd68",
   "execution_count": 56
  },
  {
   "cell_type": "code",
   "outputs": [
    {
     "data": {
      "text/plain": "         1      2     7  10    14    0_a    0_b    3_l    3_u    3_y  ...  \\\n382  24.33  2.500  4.50   0   456   True  False  False  False   True  ...   \n137  33.58  2.750  4.25   6     0  False   True  False   True  False  ...   \n346  32.25  1.500  0.25   0   122  False   True  False   True  False  ...   \n326  30.17  1.085  0.04   0   179  False   True  False  False   True  ...   \n33   36.75  5.125  5.00   0  4000   True  False  False   True  False  ...   \n\n       6_z    8_f    8_t    9_f    9_t  12_g   12_p   12_s   15_+   15_-  \n382  False   True  False   True  False  True  False  False  False   True  \n137  False  False   True  False   True  True  False  False   True  False  \n346  False   True  False   True  False  True  False  False  False   True  \n326  False   True  False   True  False  True  False  False  False   True  \n33   False  False   True   True  False  True  False  False   True  False  \n\n[5 rows x 45 columns]",
      "text/html": "<div>\n<style scoped>\n    .dataframe tbody tr th:only-of-type {\n        vertical-align: middle;\n    }\n\n    .dataframe tbody tr th {\n        vertical-align: top;\n    }\n\n    .dataframe thead th {\n        text-align: right;\n    }\n</style>\n<table border=\"1\" class=\"dataframe\">\n  <thead>\n    <tr style=\"text-align: right;\">\n      <th></th>\n      <th>1</th>\n      <th>2</th>\n      <th>7</th>\n      <th>10</th>\n      <th>14</th>\n      <th>0_a</th>\n      <th>0_b</th>\n      <th>3_l</th>\n      <th>3_u</th>\n      <th>3_y</th>\n      <th>...</th>\n      <th>6_z</th>\n      <th>8_f</th>\n      <th>8_t</th>\n      <th>9_f</th>\n      <th>9_t</th>\n      <th>12_g</th>\n      <th>12_p</th>\n      <th>12_s</th>\n      <th>15_+</th>\n      <th>15_-</th>\n    </tr>\n  </thead>\n  <tbody>\n    <tr>\n      <th>382</th>\n      <td>24.33</td>\n      <td>2.500</td>\n      <td>4.50</td>\n      <td>0</td>\n      <td>456</td>\n      <td>True</td>\n      <td>False</td>\n      <td>False</td>\n      <td>False</td>\n      <td>True</td>\n      <td>...</td>\n      <td>False</td>\n      <td>True</td>\n      <td>False</td>\n      <td>True</td>\n      <td>False</td>\n      <td>True</td>\n      <td>False</td>\n      <td>False</td>\n      <td>False</td>\n      <td>True</td>\n    </tr>\n    <tr>\n      <th>137</th>\n      <td>33.58</td>\n      <td>2.750</td>\n      <td>4.25</td>\n      <td>6</td>\n      <td>0</td>\n      <td>False</td>\n      <td>True</td>\n      <td>False</td>\n      <td>True</td>\n      <td>False</td>\n      <td>...</td>\n      <td>False</td>\n      <td>False</td>\n      <td>True</td>\n      <td>False</td>\n      <td>True</td>\n      <td>True</td>\n      <td>False</td>\n      <td>False</td>\n      <td>True</td>\n      <td>False</td>\n    </tr>\n    <tr>\n      <th>346</th>\n      <td>32.25</td>\n      <td>1.500</td>\n      <td>0.25</td>\n      <td>0</td>\n      <td>122</td>\n      <td>False</td>\n      <td>True</td>\n      <td>False</td>\n      <td>True</td>\n      <td>False</td>\n      <td>...</td>\n      <td>False</td>\n      <td>True</td>\n      <td>False</td>\n      <td>True</td>\n      <td>False</td>\n      <td>True</td>\n      <td>False</td>\n      <td>False</td>\n      <td>False</td>\n      <td>True</td>\n    </tr>\n    <tr>\n      <th>326</th>\n      <td>30.17</td>\n      <td>1.085</td>\n      <td>0.04</td>\n      <td>0</td>\n      <td>179</td>\n      <td>False</td>\n      <td>True</td>\n      <td>False</td>\n      <td>False</td>\n      <td>True</td>\n      <td>...</td>\n      <td>False</td>\n      <td>True</td>\n      <td>False</td>\n      <td>True</td>\n      <td>False</td>\n      <td>True</td>\n      <td>False</td>\n      <td>False</td>\n      <td>False</td>\n      <td>True</td>\n    </tr>\n    <tr>\n      <th>33</th>\n      <td>36.75</td>\n      <td>5.125</td>\n      <td>5.00</td>\n      <td>0</td>\n      <td>4000</td>\n      <td>True</td>\n      <td>False</td>\n      <td>False</td>\n      <td>True</td>\n      <td>False</td>\n      <td>...</td>\n      <td>False</td>\n      <td>False</td>\n      <td>True</td>\n      <td>True</td>\n      <td>False</td>\n      <td>True</td>\n      <td>False</td>\n      <td>False</td>\n      <td>True</td>\n      <td>False</td>\n    </tr>\n  </tbody>\n</table>\n<p>5 rows × 45 columns</p>\n</div>"
     },
     "execution_count": 57,
     "metadata": {},
     "output_type": "execute_result"
    }
   ],
   "source": [
    "# view the first five rows of the encoded train set\n",
    "cc_apps_train_cat_encoding.head()"
   ],
   "metadata": {
    "collapsed": false,
    "ExecuteTime": {
     "end_time": "2024-02-14T04:09:38.127979Z",
     "start_time": "2024-02-14T04:09:38.065861Z"
    }
   },
   "id": "b8a1dc90fc80f95a",
   "execution_count": 57
  },
  {
   "cell_type": "code",
   "outputs": [],
   "source": [
    "# create the X_train, X_test, y_train, y_test with the train and test sets (last column is target feature)\n",
    "X_train, y_train = (\n",
    "    cc_apps_train_cat_encoding.iloc[:, :-1].values,\n",
    "    cc_apps_train_cat_encoding.iloc[:, [-1]].values,\n",
    ")\n",
    "X_test, y_test = (\n",
    "    cc_apps_test_cat_encoding.iloc[:, :-1].values,\n",
    "    cc_apps_test_cat_encoding.iloc[:, [-1]].values,\n",
    ")\n"
   ],
   "metadata": {
    "collapsed": false,
    "ExecuteTime": {
     "end_time": "2024-02-14T04:10:22.456209Z",
     "start_time": "2024-02-14T04:10:22.443663Z"
    }
   },
   "id": "2bf2bca219b97581",
   "execution_count": 59
  },
  {
   "cell_type": "code",
   "outputs": [
    {
     "name": "stdout",
     "output_type": "stream",
     "text": [
      "[[103   0]\n",
      " [  0 125]]\n"
     ]
    },
    {
     "name": "stderr",
     "output_type": "stream",
     "text": [
      "/Users/karolk/anaconda3/envs/untitled/lib/python3.8/site-packages/sklearn/utils/validation.py:1143: DataConversionWarning: A column-vector y was passed when a 1d array was expected. Please change the shape of y to (n_samples, ), for example using ravel().\n",
      "  y = column_or_1d(y, warn=True)\n"
     ]
    }
   ],
   "source": [
    "# using minmax scaler to scale the train and test sets\n",
    "scaler = MinMaxScaler(feature_range=(0, 1))\n",
    "rescaledX_train = scaler.fit_transform(X_train)\n",
    "rescaledX_test = scaler.transform(X_test)\n",
    "\n",
    "# initiate the logistic regression model\n",
    "logreg = LogisticRegression()\n",
    "\n",
    "# fit the model to the train set\n",
    "logreg.fit(rescaledX_train, y_train)\n",
    "\n",
    "#use logreg to predict the test set\n",
    "y_pred = logreg.predict(rescaledX_test)\n",
    "\n",
    "#print the confusion matrix\n",
    "print(confusion_matrix(y_test, y_pred))"
   ],
   "metadata": {
    "collapsed": false,
    "ExecuteTime": {
     "end_time": "2024-02-14T04:13:19.522105Z",
     "start_time": "2024-02-14T04:13:19.445995Z"
    }
   },
   "id": "437e855d167a3faa",
   "execution_count": 62
  }
 ],
 "metadata": {
  "kernelspec": {
   "display_name": "Python 3",
   "language": "python",
   "name": "python3"
  },
  "language_info": {
   "codemirror_mode": {
    "name": "ipython",
    "version": 2
   },
   "file_extension": ".py",
   "mimetype": "text/x-python",
   "name": "python",
   "nbconvert_exporter": "python",
   "pygments_lexer": "ipython2",
   "version": "2.7.6"
  }
 },
 "nbformat": 4,
 "nbformat_minor": 5
}
